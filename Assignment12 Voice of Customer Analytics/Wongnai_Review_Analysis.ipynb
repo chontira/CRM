{
  "nbformat": 4,
  "nbformat_minor": 0,
  "metadata": {
    "colab": {
      "name": "Wongnai Review Analysis.ipynb",
      "provenance": [],
      "collapsed_sections": []
    },
    "kernelspec": {
      "name": "python3",
      "display_name": "Python 3"
    }
  },
  "cells": [
    {
      "cell_type": "markdown",
      "metadata": {
        "id": "kaAZjbXqBKxt"
      },
      "source": [
        "## **Load libraries and data**"
      ]
    },
    {
      "cell_type": "code",
      "metadata": {
        "id": "_pJtf54KNodh",
        "colab": {
          "base_uri": "https://localhost:8080/"
        },
        "outputId": "86871144-bbdf-4a8d-9fb0-81ff4272006c"
      },
      "source": [
        "!pip install --upgrade pythainlp\n",
        "!pip install pyLDAvis==2.1.2\n",
        "!pip install emoji"
      ],
      "execution_count": null,
      "outputs": [
        {
          "output_type": "stream",
          "text": [
            "Collecting pythainlp\n",
            "\u001b[?25l  Downloading https://files.pythonhosted.org/packages/6e/e7/837dd9ab52fac889af830dc094a1598251f70004a2f1707ab0ff8dc0f63a/pythainlp-2.3.1-py3-none-any.whl (11.0MB)\n",
            "\u001b[K     |████████████████████████████████| 11.0MB 16.6MB/s \n",
            "\u001b[?25hCollecting tinydb>=3.0\n",
            "  Downloading https://files.pythonhosted.org/packages/af/cd/1ce3d93818cdeda0446b8033d21e5f32daeb3a866bbafd878a9a62058a9c/tinydb-4.4.0-py3-none-any.whl\n",
            "Collecting python-crfsuite>=0.9.6\n",
            "\u001b[?25l  Downloading https://files.pythonhosted.org/packages/79/47/58f16c46506139f17de4630dbcfb877ce41a6355a1bbf3c443edb9708429/python_crfsuite-0.9.7-cp37-cp37m-manylinux1_x86_64.whl (743kB)\n",
            "\u001b[K     |████████████████████████████████| 747kB 44.4MB/s \n",
            "\u001b[?25hRequirement already satisfied, skipping upgrade: requests>=2.22.0 in /usr/local/lib/python3.7/dist-packages (from pythainlp) (2.23.0)\n",
            "Requirement already satisfied, skipping upgrade: idna<3,>=2.5 in /usr/local/lib/python3.7/dist-packages (from requests>=2.22.0->pythainlp) (2.10)\n",
            "Requirement already satisfied, skipping upgrade: urllib3!=1.25.0,!=1.25.1,<1.26,>=1.21.1 in /usr/local/lib/python3.7/dist-packages (from requests>=2.22.0->pythainlp) (1.24.3)\n",
            "Requirement already satisfied, skipping upgrade: certifi>=2017.4.17 in /usr/local/lib/python3.7/dist-packages (from requests>=2.22.0->pythainlp) (2020.12.5)\n",
            "Requirement already satisfied, skipping upgrade: chardet<4,>=3.0.2 in /usr/local/lib/python3.7/dist-packages (from requests>=2.22.0->pythainlp) (3.0.4)\n",
            "Installing collected packages: tinydb, python-crfsuite, pythainlp\n",
            "Successfully installed pythainlp-2.3.1 python-crfsuite-0.9.7 tinydb-4.4.0\n",
            "Collecting pyLDAvis==2.1.2\n",
            "\u001b[?25l  Downloading https://files.pythonhosted.org/packages/a5/3a/af82e070a8a96e13217c8f362f9a73e82d61ac8fff3a2561946a97f96266/pyLDAvis-2.1.2.tar.gz (1.6MB)\n",
            "\u001b[K     |████████████████████████████████| 1.6MB 14.5MB/s \n",
            "\u001b[?25hRequirement already satisfied: wheel>=0.23.0 in /usr/local/lib/python3.7/dist-packages (from pyLDAvis==2.1.2) (0.36.2)\n",
            "Requirement already satisfied: numpy>=1.9.2 in /usr/local/lib/python3.7/dist-packages (from pyLDAvis==2.1.2) (1.19.5)\n",
            "Requirement already satisfied: scipy>=0.18.0 in /usr/local/lib/python3.7/dist-packages (from pyLDAvis==2.1.2) (1.4.1)\n",
            "Requirement already satisfied: pandas>=0.17.0 in /usr/local/lib/python3.7/dist-packages (from pyLDAvis==2.1.2) (1.1.5)\n",
            "Requirement already satisfied: joblib>=0.8.4 in /usr/local/lib/python3.7/dist-packages (from pyLDAvis==2.1.2) (1.0.1)\n",
            "Requirement already satisfied: jinja2>=2.7.2 in /usr/local/lib/python3.7/dist-packages (from pyLDAvis==2.1.2) (2.11.3)\n",
            "Requirement already satisfied: numexpr in /usr/local/lib/python3.7/dist-packages (from pyLDAvis==2.1.2) (2.7.3)\n",
            "Requirement already satisfied: pytest in /usr/local/lib/python3.7/dist-packages (from pyLDAvis==2.1.2) (3.6.4)\n",
            "Requirement already satisfied: future in /usr/local/lib/python3.7/dist-packages (from pyLDAvis==2.1.2) (0.16.0)\n",
            "Collecting funcy\n",
            "  Downloading https://files.pythonhosted.org/packages/66/89/479de0afbbfb98d1c4b887936808764627300208bb771fcd823403645a36/funcy-1.15-py2.py3-none-any.whl\n",
            "Requirement already satisfied: python-dateutil>=2.7.3 in /usr/local/lib/python3.7/dist-packages (from pandas>=0.17.0->pyLDAvis==2.1.2) (2.8.1)\n",
            "Requirement already satisfied: pytz>=2017.2 in /usr/local/lib/python3.7/dist-packages (from pandas>=0.17.0->pyLDAvis==2.1.2) (2018.9)\n",
            "Requirement already satisfied: MarkupSafe>=0.23 in /usr/local/lib/python3.7/dist-packages (from jinja2>=2.7.2->pyLDAvis==2.1.2) (1.1.1)\n",
            "Requirement already satisfied: pluggy<0.8,>=0.5 in /usr/local/lib/python3.7/dist-packages (from pytest->pyLDAvis==2.1.2) (0.7.1)\n",
            "Requirement already satisfied: py>=1.5.0 in /usr/local/lib/python3.7/dist-packages (from pytest->pyLDAvis==2.1.2) (1.10.0)\n",
            "Requirement already satisfied: six>=1.10.0 in /usr/local/lib/python3.7/dist-packages (from pytest->pyLDAvis==2.1.2) (1.15.0)\n",
            "Requirement already satisfied: more-itertools>=4.0.0 in /usr/local/lib/python3.7/dist-packages (from pytest->pyLDAvis==2.1.2) (8.7.0)\n",
            "Requirement already satisfied: setuptools in /usr/local/lib/python3.7/dist-packages (from pytest->pyLDAvis==2.1.2) (56.0.0)\n",
            "Requirement already satisfied: atomicwrites>=1.0 in /usr/local/lib/python3.7/dist-packages (from pytest->pyLDAvis==2.1.2) (1.4.0)\n",
            "Requirement already satisfied: attrs>=17.4.0 in /usr/local/lib/python3.7/dist-packages (from pytest->pyLDAvis==2.1.2) (20.3.0)\n",
            "Building wheels for collected packages: pyLDAvis\n",
            "  Building wheel for pyLDAvis (setup.py) ... \u001b[?25l\u001b[?25hdone\n",
            "  Created wheel for pyLDAvis: filename=pyLDAvis-2.1.2-py2.py3-none-any.whl size=97712 sha256=f326654cf6531e00bfbc7004b47f07178ee1f01994515d2cc7e9476ed6cf0672\n",
            "  Stored in directory: /root/.cache/pip/wheels/98/71/24/513a99e58bb6b8465bae4d2d5e9dba8f0bef8179e3051ac414\n",
            "Successfully built pyLDAvis\n",
            "Installing collected packages: funcy, pyLDAvis\n",
            "Successfully installed funcy-1.15 pyLDAvis-2.1.2\n",
            "Collecting emoji\n",
            "\u001b[?25l  Downloading https://files.pythonhosted.org/packages/24/fa/b3368f41b95a286f8d300e323449ab4e86b85334c2e0b477e94422b8ed0f/emoji-1.2.0-py3-none-any.whl (131kB)\n",
            "\u001b[K     |████████████████████████████████| 133kB 15.3MB/s \n",
            "\u001b[?25hInstalling collected packages: emoji\n",
            "Successfully installed emoji-1.2.0\n"
          ],
          "name": "stdout"
        }
      ]
    },
    {
      "cell_type": "code",
      "metadata": {
        "id": "Tv1WNGA3BKiZ"
      },
      "source": [
        "import pandas as pd\n",
        "import pythainlp\n",
        "import gensim\n",
        "import pyLDAvis.gensim\n",
        "pyLDAvis.enable_notebook()\n",
        "import warnings\n",
        "warnings.filterwarnings(\"ignore\", category=DeprecationWarning) \n",
        "from pythainlp.util import dict_trie\n",
        "from pythainlp.corpus.common import thai_words\n",
        "import string\n",
        "import re\n",
        "import emoji\n",
        "from pythainlp.tag import pos_tag"
      ],
      "execution_count": null,
      "outputs": []
    },
    {
      "cell_type": "code",
      "metadata": {
        "colab": {
          "base_uri": "https://localhost:8080/"
        },
        "id": "EUP0mmaXY99g",
        "outputId": "80bb508b-06e5-4ad9-8a94-bcb30614be53"
      },
      "source": [
        "from google.colab import drive\n",
        "drive.mount('/content/drive')"
      ],
      "execution_count": null,
      "outputs": [
        {
          "output_type": "stream",
          "text": [
            "Mounted at /content/drive\n"
          ],
          "name": "stdout"
        }
      ]
    },
    {
      "cell_type": "code",
      "metadata": {
        "id": "oCxTl04hBmy5"
      },
      "source": [
        "df = pd.read_csv('/content/drive/My Drive/Colab Notebooks/CRM/3 Voice of Customer Analytics/CustomerReviews.csv')"
      ],
      "execution_count": null,
      "outputs": []
    },
    {
      "cell_type": "code",
      "metadata": {
        "id": "7sPfQ6YkNH8c",
        "colab": {
          "base_uri": "https://localhost:8080/",
          "height": 306
        },
        "outputId": "9ee91f88-f4fd-4048-b2db-c096f596b8a9"
      },
      "source": [
        "df.tail()"
      ],
      "execution_count": null,
      "outputs": [
        {
          "output_type": "execute_result",
          "data": {
            "text/html": [
              "<div>\n",
              "<style scoped>\n",
              "    .dataframe tbody tr th:only-of-type {\n",
              "        vertical-align: middle;\n",
              "    }\n",
              "\n",
              "    .dataframe tbody tr th {\n",
              "        vertical-align: top;\n",
              "    }\n",
              "\n",
              "    .dataframe thead th {\n",
              "        text-align: right;\n",
              "    }\n",
              "</style>\n",
              "<table border=\"1\" class=\"dataframe\">\n",
              "  <thead>\n",
              "    <tr style=\"text-align: right;\">\n",
              "      <th></th>\n",
              "      <th>Review ID</th>\n",
              "      <th>Restaurant_ID</th>\n",
              "      <th>Restaurant</th>\n",
              "      <th>User</th>\n",
              "      <th>Headline</th>\n",
              "      <th>Review</th>\n",
              "      <th>Rating</th>\n",
              "    </tr>\n",
              "  </thead>\n",
              "  <tbody>\n",
              "    <tr>\n",
              "      <th>16</th>\n",
              "      <td>17</td>\n",
              "      <td>436045MJ-ข้าน้อยขอชาบู</td>\n",
              "      <td>ข้าน้อยขอชาบู</td>\n",
              "      <td>ployynp</td>\n",
              "      <td>บุฟเฟ่ต์ชาบูและพิซซ่าไม่อั้นในราคา 199 บาท เน้...</td>\n",
              "      <td>หลังจากที่เคยลองสาขายูเนี่ยนมอลล์ไป รอบนี้มาที...</td>\n",
              "      <td>4.0</td>\n",
              "    </tr>\n",
              "    <tr>\n",
              "      <th>17</th>\n",
              "      <td>18</td>\n",
              "      <td>436045MJ-ข้าน้อยขอชาบู</td>\n",
              "      <td>ข้าน้อยขอชาบู</td>\n",
              "      <td>27a91236fe5e4559a4f097c97a480781</td>\n",
              "      <td>ร้านบุฟเฟ่ต์ ราคามิตรภาพ อยู่ชั้น4 ติดโรงหนัง ...</td>\n",
              "      <td>ร้านบุฟเฟ่ต์ที่มีโปรโมชั่นหัวละ199บาท ไม่รวมน้...</td>\n",
              "      <td>4.0</td>\n",
              "    </tr>\n",
              "    <tr>\n",
              "      <th>18</th>\n",
              "      <td>19</td>\n",
              "      <td>436045MJ-ข้าน้อยขอชาบู</td>\n",
              "      <td>ข้าน้อยขอชาบู</td>\n",
              "      <td>0b81d251e4db486f9bcdba73b374ed99</td>\n",
              "      <td>ของหลากหลาย ปนๆ งงๆ นิดหน่อย</td>\n",
              "      <td>เคยรู้จักร้านนี้จากที่ union mall ไม่เคยได้ลอง...</td>\n",
              "      <td>3.0</td>\n",
              "    </tr>\n",
              "    <tr>\n",
              "      <th>19</th>\n",
              "      <td>20</td>\n",
              "      <td>436045MJ-ข้าน้อยขอชาบู</td>\n",
              "      <td>ข้าน้อยขอชาบู</td>\n",
              "      <td>40e0e087f3914fd49a8933b5a29936ca</td>\n",
              "      <td>อร่อยมากค่ะ คุ้มค่าสมราคา บุฟเฟ่หมูผักต่างๆ รว...</td>\n",
              "      <td>อร่อยมากค่ะ คุ้มค่าสมราคา บุฟเฟ่หมูผักต่างๆ รว...</td>\n",
              "      <td>5.0</td>\n",
              "    </tr>\n",
              "    <tr>\n",
              "      <th>20</th>\n",
              "      <td>21</td>\n",
              "      <td>436045MJ-ข้าน้อยขอชาบู</td>\n",
              "      <td>ข้าน้อยขอชาบู</td>\n",
              "      <td>41841cb99ea243a3a8d4b006e946c586</td>\n",
              "      <td>แม้จะแปลกบ้าง แต่ก็ถือว่าอยู่ในเกณฑ์ที่ดี มีอา...</td>\n",
              "      <td>ก็ตามที่เขียนเลยครับ ว่า ถ้าจะจ่ายในราคา 199 บ...</td>\n",
              "      <td>NaN</td>\n",
              "    </tr>\n",
              "  </tbody>\n",
              "</table>\n",
              "</div>"
            ],
            "text/plain": [
              "    Review ID  ... Rating\n",
              "16         17  ...    4.0\n",
              "17         18  ...    4.0\n",
              "18         19  ...    3.0\n",
              "19         20  ...    5.0\n",
              "20         21  ...    NaN\n",
              "\n",
              "[5 rows x 7 columns]"
            ]
          },
          "metadata": {
            "tags": []
          },
          "execution_count": 7
        }
      ]
    },
    {
      "cell_type": "code",
      "metadata": {
        "id": "i69pk9t4NY8p"
      },
      "source": [
        "df['Review'] = df['Review'].replace('\\n',' ')"
      ],
      "execution_count": null,
      "outputs": []
    },
    {
      "cell_type": "markdown",
      "metadata": {
        "id": "9NyF_CbeNX2W"
      },
      "source": [
        "## **Tokenize Words**"
      ]
    },
    {
      "cell_type": "code",
      "metadata": {
        "id": "GL3tPSWieuZn"
      },
      "source": [
        "new_words = {'น้ำซุป','สันคอ','คุณ​ภาพ','โมโม่','โมโม','มาตราฐาน','Terminal 21','ซอยซอส','คุโรบูตะ','สตอเบอรี่','แย้ววว','บุฟเฟ่',\n",
        "             'พระราม 9','ไก่บด','มากก','ไก่ไม้ไผ่','ถั่วแดง','ออส','หอม','พอนซึ','พาราไดส์','เดอะมอล','บางกะปิ','ประยุคก์','โชยุ',\n",
        "             'ขาบูชิ','เทมปุระ','ชาบูชิ','ญี่ปุน','เบค่อน','เดอะมอลล์','โอเด้ง','หมุ','วนิลา','สตอเบอร์รี่','ชอคโกแลต','อารามณ์','ชูชิ',\n",
        "             'บุฟเฟ','เก้บ','นํ้าจิ้ม','แมคโดนัล','ยูเนี่ยนมอลล์','นารายพิซเซอเรีย','รีฟีล','น้ำซึป','ซีฟู้ด','ฮันนี่โทส','Narai pizzeria',\n",
        "             'สปาเกตตี้','นิวออลีน','บุพเฟ่','รสชาต','บราวนี่','วิปครีม'}\n",
        "  \n",
        "words = new_words.union(thai_words())\n",
        "\n",
        "custom_dictionary_trie = dict_trie(words)\n",
        "#word_tokenize(text, custom_dict=custom_dictionary_trie)"
      ],
      "execution_count": null,
      "outputs": []
    },
    {
      "cell_type": "code",
      "metadata": {
        "id": "-u1FYImc0Il6"
      },
      "source": [
        "def remove_emoji(text):\n",
        "    return emoji.get_emoji_regexp().sub(u'', text)"
      ],
      "execution_count": null,
      "outputs": []
    },
    {
      "cell_type": "code",
      "metadata": {
        "id": "Dl5ptrJNNa2y"
      },
      "source": [
        "stopwords = list(pythainlp.corpus.thai_stopwords())\n",
        "removed_words = [' ', '  ', '\\n', 'ร้าน', '(', ')','\\u200b',',','–','/','ชาบู',\n",
        "                 'กิน','ทาน','อาหาร','บาท','สั่ง']\n",
        "screening_words = stopwords + removed_words\n",
        "table = str.maketrans('', '', string.punctuation)\n",
        "\n",
        "\n",
        "def tokenize_with_space(sentence):\n",
        "  merged = ''\n",
        "  #words = pythainlp.word_tokenize(str(sentence), engine='newmm')\n",
        "  # sentence = sentence.replace(':','')\n",
        "  sentence = sentence.translate(table)\n",
        "  sentence = remove_emoji(sentence)\n",
        "  sentence = sentence.replace('เเ','แ')\n",
        "  sentence = sentence.replace('\\u200b','')\n",
        "  words = pythainlp.word_tokenize(str(sentence), custom_dict=custom_dictionary_trie, engine='newmm')\n",
        "  words_pos = pos_tag(words,corpus='orchid_ud')\n",
        "  for word in words_pos:\n",
        "    if word[0] not in screening_words:\n",
        "      # print(word)\n",
        "      if word[1] in ['NOUN']: #,'VERB','ADJ','ADV'\n",
        "        if not word[0].isnumeric():\n",
        "          merged = merged + ',' + word[0]\n",
        "  return merged[1:]"
      ],
      "execution_count": null,
      "outputs": []
    },
    {
      "cell_type": "code",
      "metadata": {
        "id": "wJ979qbENdzH"
      },
      "source": [
        "df['Review_tokenized'] = df['Review'].apply(lambda x: tokenize_with_space(x))"
      ],
      "execution_count": null,
      "outputs": []
    },
    {
      "cell_type": "code",
      "metadata": {
        "id": "725oxXg9OcR5",
        "colab": {
          "base_uri": "https://localhost:8080/",
          "height": 204
        },
        "outputId": "f2972574-34db-4c5c-e16f-62d338ddda69"
      },
      "source": [
        "df[['Review','Review_tokenized']].head()"
      ],
      "execution_count": null,
      "outputs": [
        {
          "output_type": "execute_result",
          "data": {
            "text/html": [
              "<div>\n",
              "<style scoped>\n",
              "    .dataframe tbody tr th:only-of-type {\n",
              "        vertical-align: middle;\n",
              "    }\n",
              "\n",
              "    .dataframe tbody tr th {\n",
              "        vertical-align: top;\n",
              "    }\n",
              "\n",
              "    .dataframe thead th {\n",
              "        text-align: right;\n",
              "    }\n",
              "</style>\n",
              "<table border=\"1\" class=\"dataframe\">\n",
              "  <thead>\n",
              "    <tr style=\"text-align: right;\">\n",
              "      <th></th>\n",
              "      <th>Review</th>\n",
              "      <th>Review_tokenized</th>\n",
              "    </tr>\n",
              "  </thead>\n",
              "  <tbody>\n",
              "    <tr>\n",
              "      <th>0</th>\n",
              "      <td>ที่สำคัญของร้านนี้คือบริการดีมากพนักงานน่ารักส...</td>\n",
              "      <td>พนักงาน,น่ารัก,สะอาดสะอ้าน,รสชาติ,ความต้องการ,...</td>\n",
              "    </tr>\n",
              "    <tr>\n",
              "      <th>1</th>\n",
              "      <td>นึกถึงชาบูญี่ปุ่นยังไงก็ต้อง คิดถึงโมโม่ พาราไ...</td>\n",
              "      <td>โมโม่,พาราไดซ์,คุณภาพ,เค้า,มาตราฐาน,มีโอ,กา,สม...</td>\n",
              "    </tr>\n",
              "    <tr>\n",
              "      <th>2</th>\n",
              "      <td>มาทานช่วงนี้ สามารถนั่งโต๊ะเดียวกัน หม้อเดียวก...</td>\n",
              "      <td>โต๊ะ,หม้อ,โต๊ะ,ฉาก,กั้น,รส,น้ำจิ้ม,น้ำซุป,น้ำ,...</td>\n",
              "    </tr>\n",
              "    <tr>\n",
              "      <th>3</th>\n",
              "      <td>ถ้านึกถึงชาบูที่มีเนื้อเน้นๆ ในราคาไม่โหดจนเกิ...</td>\n",
              "      <td>เนื้อ,ราคา,โหด,โมโม่,โปร,ส่วนตัว,เนื้อ,ออส,ไว,...</td>\n",
              "    </tr>\n",
              "    <tr>\n",
              "      <th>4</th>\n",
              "      <td>เดินมาหน้าร้านแล้วได้กลิ่นชาบูหอมมาก ๆ  ประกอบ...</td>\n",
              "      <td>หอ,โปร,บัตรเครดิต,น้ำ,เนื้อ,ต่าง ๆ,ผัก,เส้น,สา...</td>\n",
              "    </tr>\n",
              "  </tbody>\n",
              "</table>\n",
              "</div>"
            ],
            "text/plain": [
              "                                              Review                                   Review_tokenized\n",
              "0  ที่สำคัญของร้านนี้คือบริการดีมากพนักงานน่ารักส...  พนักงาน,น่ารัก,สะอาดสะอ้าน,รสชาติ,ความต้องการ,...\n",
              "1  นึกถึงชาบูญี่ปุ่นยังไงก็ต้อง คิดถึงโมโม่ พาราไ...  โมโม่,พาราไดซ์,คุณภาพ,เค้า,มาตราฐาน,มีโอ,กา,สม...\n",
              "2  มาทานช่วงนี้ สามารถนั่งโต๊ะเดียวกัน หม้อเดียวก...  โต๊ะ,หม้อ,โต๊ะ,ฉาก,กั้น,รส,น้ำจิ้ม,น้ำซุป,น้ำ,...\n",
              "3  ถ้านึกถึงชาบูที่มีเนื้อเน้นๆ ในราคาไม่โหดจนเกิ...  เนื้อ,ราคา,โหด,โมโม่,โปร,ส่วนตัว,เนื้อ,ออส,ไว,...\n",
              "4  เดินมาหน้าร้านแล้วได้กลิ่นชาบูหอมมาก ๆ  ประกอบ...  หอ,โปร,บัตรเครดิต,น้ำ,เนื้อ,ต่าง ๆ,ผัก,เส้น,สา..."
            ]
          },
          "metadata": {
            "tags": []
          },
          "execution_count": 13
        }
      ]
    },
    {
      "cell_type": "code",
      "metadata": {
        "colab": {
          "base_uri": "https://localhost:8080/"
        },
        "id": "47LlXzNQSMv8",
        "outputId": "ccb94413-0b3d-4133-ff95-88a221095709"
      },
      "source": [
        "df['Restaurant'].unique()"
      ],
      "execution_count": null,
      "outputs": [
        {
          "output_type": "execute_result",
          "data": {
            "text/plain": [
              "array(['Mo-Mo-Paradise (โม โม พาราไดซ์) เดอะมอลล์ บางกะปิ',\n",
              "       'Shabushi (ชาบูชิ) เดอะมอลล์บางกะปิ ชั้น G', 'ข้าน้อยขอชาบู'],\n",
              "      dtype=object)"
            ]
          },
          "metadata": {
            "tags": []
          },
          "execution_count": 14
        }
      ]
    },
    {
      "cell_type": "markdown",
      "metadata": {
        "id": "DtwW0EB_OGT6"
      },
      "source": [
        "# **MoMo**"
      ]
    },
    {
      "cell_type": "markdown",
      "metadata": {
        "id": "26a47MzoPh7p"
      },
      "source": [
        "## Create Dictionary"
      ]
    },
    {
      "cell_type": "code",
      "metadata": {
        "colab": {
          "base_uri": "https://localhost:8080/"
        },
        "id": "uNyzmo9GYB82",
        "outputId": "33f3d8ce-7dc7-4111-bd5d-6eded19ef50f"
      },
      "source": [
        "df_momo = df[df['Restaurant'] == 'Mo-Mo-Paradise (โม โม พาราไดซ์) เดอะมอลล์ บางกะปิ']\n",
        "df_momo.shape"
      ],
      "execution_count": null,
      "outputs": [
        {
          "output_type": "execute_result",
          "data": {
            "text/plain": [
              "(8, 8)"
            ]
          },
          "metadata": {
            "tags": []
          },
          "execution_count": 15
        }
      ]
    },
    {
      "cell_type": "code",
      "metadata": {
        "id": "U06F7vYCPdgX"
      },
      "source": [
        "documents_momo = df_momo['Review_tokenized'].to_list()\n",
        "texts_momo = [[text for text in doc.split(',')] for doc in documents_momo]\n",
        "dictionary_momo = gensim.corpora.Dictionary(texts_momo)"
      ],
      "execution_count": null,
      "outputs": []
    },
    {
      "cell_type": "code",
      "metadata": {
        "colab": {
          "base_uri": "https://localhost:8080/"
        },
        "id": "TV4njgsJczMP",
        "outputId": "391b82df-a3dc-48b7-dbe7-7fdffaa0b36d"
      },
      "source": [
        "documents_momo"
      ],
      "execution_count": null,
      "outputs": [
        {
          "output_type": "execute_result",
          "data": {
            "text/plain": [
              "['พนักงาน,น่ารัก,สะอาดสะอ้าน,รสชาติ,ความต้องการ,เนื้อ,สันคอ,ถาด,เป็ด,แฟน,เนื้อ,คุณภาพดี,ดำ,เผ็ด,น้ำจิ้ม,อร่อย,รสชาติ,รสชาติ,ราคา,คุ้ม,โมจิ,อร่อย,ข้างนอก,ประทับใจ,บริการ,คุณภาพ',\n",
              " 'โมโม่,พาราไดซ์,คุณภาพ,เค้า,มาตราฐาน,มีโอ,กา,สมาทาน,นาที,ที่ทาง,แจ้ง,รายละเอียด,การงด,ออร์เดอร์,           ,สาขา,พนักงานบริการ,น่ารัก,เหวี่ยง,สาขา,พระราม 9,พนักงาน,CTW,พรีเมียม,สาขา,Terminal 21,ลูกค้า',\n",
              " 'โต๊ะ,หม้อ,โต๊ะ,ฉาก,กั้น,รส,น้ำจิ้ม,น้ำซุป,น้ำ,น้ำซุป,เห็ด,น้ำ,หวาน,เค็ม,รสชาติ,เสิร์ฟ,ไข่,สด,เป็นผู้ใหญ่,หวาน,น้ำซุป,เห็ด,ภาษา,เสิร์ฟ,เห็ด,น้ำจิ้ม,ซอยซอส,รสชาติ,จืด,แนว,น้ำซุป,เนื้อสัตว์,เนื้อวัว,เนื้อหมู,เนื้อ,เป็ด,ไก่ไม้ไผ่,เนื้อวัว,อร่อย,ชิ้น,เนื้อ,นุ่ม,น้ำ,เนื้อหมู,คุโรบูตะ,อร่อย,นุ่ม,ลิ้น,เนื้อ,เป็ด,ไก่ไม้ไผ่,ไก่บด,ลืม,รสชาติ,กรุบ,แตา,โควิด,บาร์,ผัก,น้ำ,พนักงาน,ของหวาน,ไอติม,ไดฟูกุ,ลอง,ไดฟูกุ,ไอติม,แย้ววว,สตอเบอรี่,ชาเขียว,ถั่วแดง,อร่อย,ราคา,คนละ',\n",
              " 'เนื้อ,ราคา,โหด,โมโม่,โปร,ส่วนตัว,เนื้อ,ออส,ไว,ไอศกรีม,รส,ชาเขียว,รส,ข้าว,ถ้วย',\n",
              " 'หอ,โปร,บัตรเครดิต,น้ำ,เนื้อ,ต่าง ๆ,ผัก,เส้น,สาขา,สาขา,CTW,เด็ก,นั่ง,สบายดี,เนื้อ,ต่าง ๆ,คุณภาพดี,ขนม,อร่อย',\n",
              " 'แนว,สาย,เนื้อหมู,เนื้อวัว,โซน,ผัก,หยิบ,เนื้อ,พนักงาน,รา,คามี,โปรโมชั่น,น้ำจิ้ม,พอนซึ,ของหวาน,ไอติม,บ๋วย,อร่อย',\n",
              " 'Number,โมโม,พาราไดส์,สาขา,เดอะมอล,บางกะปิ,ร้านอาหาร,บุฟเฟ่,สุกี้,น้ำ,สไตล์,กรรมวิธี,รสชาติ,Menu,บุฟเฟ่ต์,สุกี้,น้ำ,รายละเอียด,เมนู,น้ำ,น้ำจิ้ม,พอนซึ,น้ำจิ้ม,แบบฉบับ,โมโม,ชุด,เซ็ท,หมู,เนื้อ,ผัก,หลาก,หลายชนิด,ราคา,คน,คะแนน',\n",
              " 'รสชาติ,ราคา,เรื่อง,น้ำซุป,งวด,น้ำ,ชาเขียว,กาแฟ,เนื้อ,หมู,สันคอ,น้ำซุป,สุกี้ยากี้,เสิร์ฟ,น้ำจิ้ม,ไข่ไก่,โชยุ,หวาน,น,ไอศครีม,บ๊วย,ตำ,ลุย']"
            ]
          },
          "metadata": {
            "tags": []
          },
          "execution_count": 17
        }
      ]
    },
    {
      "cell_type": "code",
      "metadata": {
        "id": "vo1LdutKP3vR",
        "colab": {
          "base_uri": "https://localhost:8080/"
        },
        "outputId": "4716a986-f8ed-4dd6-e04b-fa1e31ac7f8d"
      },
      "source": [
        "print(dictionary_momo.token2id.keys())"
      ],
      "execution_count": null,
      "outputs": [
        {
          "output_type": "stream",
          "text": [
            "dict_keys(['ข้างนอก', 'ความต้องการ', 'คุณภาพ', 'คุณภาพดี', 'คุ้ม', 'ดำ', 'ถาด', 'น่ารัก', 'น้ำจิ้ม', 'บริการ', 'ประทับใจ', 'พนักงาน', 'รสชาติ', 'ราคา', 'สะอาดสะอ้าน', 'สันคอ', 'อร่อย', 'เนื้อ', 'เป็ด', 'เผ็ด', 'แฟน', 'โมจิ', '           ', 'CTW', 'Terminal 21', 'กา', 'การงด', 'ที่ทาง', 'นาที', 'พนักงานบริการ', 'พระราม 9', 'พรีเมียม', 'พาราไดซ์', 'มาตราฐาน', 'มีโอ', 'รายละเอียด', 'ลูกค้า', 'สมาทาน', 'สาขา', 'ออร์เดอร์', 'เค้า', 'เหวี่ยง', 'แจ้ง', 'โมโม่', 'กรุบ', 'กั้น', 'ของหวาน', 'คนละ', 'คุโรบูตะ', 'จืด', 'ฉาก', 'ชาเขียว', 'ชิ้น', 'ซอยซอส', 'ถั่วแดง', 'นุ่ม', 'น้ำ', 'น้ำซุป', 'บาร์', 'ผัก', 'ภาษา', 'รส', 'ลอง', 'ลิ้น', 'ลืม', 'สด', 'สตอเบอรี่', 'หม้อ', 'หวาน', 'เค็ม', 'เนื้อวัว', 'เนื้อสัตว์', 'เนื้อหมู', 'เป็นผู้ใหญ่', 'เสิร์ฟ', 'เห็ด', 'แตา', 'แนว', 'แย้ววว', 'โควิด', 'โต๊ะ', 'ไก่บด', 'ไก่ไม้ไผ่', 'ไข่', 'ไดฟูกุ', 'ไอติม', 'ข้าว', 'ถ้วย', 'ส่วนตัว', 'ออส', 'โปร', 'โหด', 'ไว', 'ไอศกรีม', 'ขนม', 'ต่าง ๆ', 'นั่ง', 'บัตรเครดิต', 'สบายดี', 'หอ', 'เด็ก', 'เส้น', 'คามี', 'บ๋วย', 'พอนซึ', 'รา', 'สาย', 'หยิบ', 'โซน', 'โปรโมชั่น', 'Menu', 'Number', 'กรรมวิธี', 'คน', 'คะแนน', 'ชุด', 'บางกะปิ', 'บุฟเฟ่', 'บุฟเฟ่ต์', 'พาราไดส์', 'ร้านอาหาร', 'สุกี้', 'สไตล์', 'หมู', 'หลาก', 'หลายชนิด', 'เซ็ท', 'เดอะมอล', 'เมนู', 'แบบฉบับ', 'โมโม', 'กาแฟ', 'งวด', 'ตำ', 'น', 'บ๊วย', 'ลุย', 'สุกี้ยากี้', 'เรื่อง', 'โชยุ', 'ไข่ไก่', 'ไอศครีม'])\n"
          ],
          "name": "stdout"
        }
      ]
    },
    {
      "cell_type": "code",
      "metadata": {
        "id": "VP1X-3ntQGKt"
      },
      "source": [
        "gensim_corpus_momo = [dictionary_momo.doc2bow(text, allow_update=True) for \n",
        "                      text in texts_momo]\n",
        "word_frequencies_momo = [[(dictionary_momo[id], frequence) for \n",
        "                          id, frequence in couple] for \n",
        "                         couple in gensim_corpus_momo]"
      ],
      "execution_count": null,
      "outputs": []
    },
    {
      "cell_type": "markdown",
      "metadata": {
        "id": "DXgYt5g-0Zcd"
      },
      "source": [
        "## Topic Modeling"
      ]
    },
    {
      "cell_type": "code",
      "metadata": {
        "id": "kaDtxDpuQZon",
        "colab": {
          "base_uri": "https://localhost:8080/"
        },
        "outputId": "681eccf0-0c3d-407a-95e2-fb60fb7f153c"
      },
      "source": [
        "num_topics = 3\n",
        "chunksize = 4000 # size of the doc looked at every pass\n",
        "passes = 20 # number of passes through documents\n",
        "iterations = 50\n",
        "eval_every = 1  # Don't evaluate model perplexity, takes too much time.\n",
        "\n",
        "# Make a index to word dictionary.\n",
        "temp = dictionary_momo[0]  # This is only to \"load\" the dictionary.\n",
        "id2word_momo = dictionary_momo.id2token\n",
        "\n",
        "%time model_momo = gensim.models.LdaModel(corpus=gensim_corpus_momo, \\\n",
        "                                          id2word=id2word_momo, \\\n",
        "                                          chunksize=chunksize, \\\n",
        "                                          alpha='auto', eta='auto', \\\n",
        "                                          iterations=iterations, \\\n",
        "                                          num_topics=num_topics, \\\n",
        "                                          passes=passes, eval_every=eval_every)"
      ],
      "execution_count": null,
      "outputs": [
        {
          "output_type": "stream",
          "text": [
            "CPU times: user 107 ms, sys: 1.67 ms, total: 109 ms\n",
            "Wall time: 112 ms\n"
          ],
          "name": "stdout"
        }
      ]
    },
    {
      "cell_type": "code",
      "metadata": {
        "id": "bdrm8raPROPN",
        "colab": {
          "base_uri": "https://localhost:8080/",
          "height": 881
        },
        "outputId": "8162bcea-a600-44d7-c632-97d5e379de9e"
      },
      "source": [
        "pyLDAvis.gensim.prepare(model_momo, gensim_corpus_momo, dictionary_momo)"
      ],
      "execution_count": null,
      "outputs": [
        {
          "output_type": "execute_result",
          "data": {
            "text/html": [
              "\n",
              "<link rel=\"stylesheet\" type=\"text/css\" href=\"https://cdn.rawgit.com/bmabey/pyLDAvis/files/ldavis.v1.0.0.css\">\n",
              "\n",
              "\n",
              "<div id=\"ldavis_el591402340848089123407669308\"></div>\n",
              "<script type=\"text/javascript\">\n",
              "\n",
              "var ldavis_el591402340848089123407669308_data = {\"mdsDat\": {\"x\": [-0.03212726289204054, 0.01960135866565362, 0.012525904226386917], \"y\": [-0.0032765803381576137, -0.0206784865442323, 0.023955066882389915], \"topics\": [1, 2, 3], \"cluster\": [1, 1, 1], \"Freq\": [45.1434678145095, 35.43944249866116, 19.417089686829343]}, \"tinfo\": {\"Term\": [\"\\u0e2a\\u0e32\\u0e02\\u0e32\", \"\\u0e15\\u0e48\\u0e32\\u0e07 \\u0e46\", \"CTW\", \"\\u0e40\\u0e19\\u0e37\\u0e49\\u0e2d\", \"\\u0e23\\u0e32\\u0e22\\u0e25\\u0e30\\u0e40\\u0e2d\\u0e35\\u0e22\\u0e14\", \"\\u0e04\\u0e38\\u0e13\\u0e20\\u0e32\\u0e1e\\u0e14\\u0e35\", \"\\u0e19\\u0e48\\u0e32\\u0e23\\u0e31\\u0e01\", \"\\u0e04\\u0e38\\u0e13\\u0e20\\u0e32\\u0e1e\", \"\\u0e02\\u0e19\\u0e21\", \"\\u0e2b\\u0e2d\", \"\\u0e1a\\u0e31\\u0e15\\u0e23\\u0e40\\u0e04\\u0e23\\u0e14\\u0e34\\u0e15\", \"\\u0e40\\u0e14\\u0e47\\u0e01\", \"\\u0e19\\u0e31\\u0e48\\u0e07\", \"\\u0e2a\\u0e1a\\u0e32\\u0e22\\u0e14\\u0e35\", \"\\u0e40\\u0e2a\\u0e49\\u0e19\", \"\\u0e1e\\u0e23\\u0e30\\u0e23\\u0e32\\u0e21 9\", \"\\u0e40\\u0e2b\\u0e27\\u0e35\\u0e48\\u0e22\\u0e07\", \"\\u0e1e\\u0e23\\u0e35\\u0e40\\u0e21\\u0e35\\u0e22\\u0e21\", \"\\u0e19\\u0e32\\u0e17\\u0e35\", \"\\u0e01\\u0e32\", \"\\u0e2d\\u0e2d\\u0e23\\u0e4c\\u0e40\\u0e14\\u0e2d\\u0e23\\u0e4c\", \"\\u0e01\\u0e32\\u0e23\\u0e07\\u0e14\", \"\\u0e25\\u0e39\\u0e01\\u0e04\\u0e49\\u0e32\", \"\\u0e21\\u0e35\\u0e42\\u0e2d\", \"Terminal 21\", \"\\u0e40\\u0e04\\u0e49\\u0e32\", \"\\u0e1e\\u0e19\\u0e31\\u0e01\\u0e07\\u0e32\\u0e19\\u0e1a\\u0e23\\u0e34\\u0e01\\u0e32\\u0e23\", \"\\u0e41\\u0e08\\u0e49\\u0e07\", \"           \", \"\\u0e1e\\u0e32\\u0e23\\u0e32\\u0e44\\u0e14\\u0e0b\\u0e4c\", \"\\u0e23\\u0e2a\", \"\\u0e40\\u0e19\\u0e37\\u0e49\\u0e2d\\u0e2b\\u0e21\\u0e39\", \"\\u0e44\\u0e2d\\u0e15\\u0e34\\u0e21\", \"\\u0e40\\u0e19\\u0e37\\u0e49\\u0e2d\\u0e27\\u0e31\\u0e27\", \"\\u0e40\\u0e2b\\u0e47\\u0e14\", \"\\u0e02\\u0e2d\\u0e07\\u0e2b\\u0e27\\u0e32\\u0e19\", \"\\u0e41\\u0e19\\u0e27\", \"\\u0e44\\u0e14\\u0e1f\\u0e39\\u0e01\\u0e38\", \"\\u0e44\\u0e01\\u0e48\\u0e44\\u0e21\\u0e49\\u0e44\\u0e1c\\u0e48\", \"\\u0e42\\u0e15\\u0e4a\\u0e30\", \"\\u0e19\\u0e38\\u0e48\\u0e21\", \"\\u0e2a\\u0e48\\u0e27\\u0e19\\u0e15\\u0e31\\u0e27\", \"\\u0e42\\u0e2b\\u0e14\", \"\\u0e16\\u0e49\\u0e27\\u0e22\", \"\\u0e44\\u0e2d\\u0e28\\u0e01\\u0e23\\u0e35\\u0e21\", \"\\u0e2d\\u0e2d\\u0e2a\", \"\\u0e02\\u0e49\\u0e32\\u0e27\", \"\\u0e2b\\u0e22\\u0e34\\u0e1a\", \"\\u0e44\\u0e27\", \"\\u0e1a\\u0e4b\\u0e27\\u0e22\", \"\\u0e2a\\u0e32\\u0e22\", \"\\u0e42\\u0e1b\\u0e23\\u0e42\\u0e21\\u0e0a\\u0e31\\u0e48\\u0e19\", \"\\u0e42\\u0e0b\\u0e19\", \"\\u0e23\\u0e32\", \"\\u0e04\\u0e32\\u0e21\\u0e35\", \"\\u0e2b\\u0e21\\u0e49\\u0e2d\", \"\\u0e25\\u0e37\\u0e21\", \"\\u0e04\\u0e19\\u0e25\\u0e30\", \"\\u0e41\\u0e22\\u0e49\\u0e27\\u0e27\\u0e27\", \"\\u0e40\\u0e1b\\u0e47\\u0e19\\u0e1c\\u0e39\\u0e49\\u0e43\\u0e2b\\u0e0d\\u0e48\", \"\\u0e19\\u0e49\\u0e33\\u0e0b\\u0e38\\u0e1b\", \"\\u0e40\\u0e19\\u0e37\\u0e49\\u0e2d\", \"\\u0e2d\\u0e23\\u0e48\\u0e2d\\u0e22\", \"\\u0e19\\u0e49\\u0e33\", \"\\u0e0a\\u0e32\\u0e40\\u0e02\\u0e35\\u0e22\\u0e27\", \"\\u0e2b\\u0e27\\u0e32\\u0e19\", \"\\u0e40\\u0e2a\\u0e34\\u0e23\\u0e4c\\u0e1f\", \"\\u0e40\\u0e1b\\u0e47\\u0e14\", \"\\u0e19\\u0e49\\u0e33\\u0e08\\u0e34\\u0e49\\u0e21\", \"\\u0e1e\\u0e19\\u0e31\\u0e01\\u0e07\\u0e32\\u0e19\", \"\\u0e1c\\u0e31\\u0e01\", \"\\u0e23\\u0e2a\\u0e0a\\u0e32\\u0e15\\u0e34\", \"\\u0e23\\u0e32\\u0e04\\u0e32\", \"\\u0e09\\u0e32\\u0e01\", \"\\u0e01\\u0e23\\u0e38\\u0e1a\", \"\\u0e16\\u0e31\\u0e48\\u0e27\\u0e41\\u0e14\\u0e07\", \"\\u0e1a\\u0e32\\u0e23\\u0e4c\", \"\\u0e2a\\u0e14\", \"\\u0e40\\u0e19\\u0e37\\u0e49\\u0e2d\\u0e2a\\u0e31\\u0e15\\u0e27\\u0e4c\", \"\\u0e41\\u0e15\\u0e32\", \"\\u0e40\\u0e04\\u0e47\\u0e21\", \"\\u0e0b\\u0e2d\\u0e22\\u0e0b\\u0e2d\\u0e2a\", \"\\u0e42\\u0e1b\\u0e23\", \"\\u0e42\\u0e21\\u0e42\\u0e21\\u0e48\", \"\\u0e1e\\u0e2d\\u0e19\\u0e0b\\u0e36\", \"\\u0e2a\\u0e32\\u0e02\\u0e32\", \"\\u0e2a\\u0e38\\u0e01\\u0e35\\u0e49\", \"\\u0e42\\u0e21\\u0e42\\u0e21\", \"\\u0e2b\\u0e21\\u0e39\", \"\\u0e2a\\u0e31\\u0e19\\u0e04\\u0e2d\", \"\\u0e2b\\u0e25\\u0e32\\u0e01\", \"\\u0e40\\u0e0b\\u0e47\\u0e17\", \"\\u0e01\\u0e23\\u0e23\\u0e21\\u0e27\\u0e34\\u0e18\\u0e35\", \"\\u0e04\\u0e19\", \"Number\", \"\\u0e1a\\u0e38\\u0e1f\\u0e40\\u0e1f\\u0e48\", \"\\u0e2a\\u0e44\\u0e15\\u0e25\\u0e4c\", \"Menu\", \"\\u0e04\\u0e30\\u0e41\\u0e19\\u0e19\", \"\\u0e1a\\u0e38\\u0e1f\\u0e40\\u0e1f\\u0e48\\u0e15\\u0e4c\", \"\\u0e1e\\u0e32\\u0e23\\u0e32\\u0e44\\u0e14\\u0e2a\\u0e4c\", \"\\u0e23\\u0e49\\u0e32\\u0e19\\u0e2d\\u0e32\\u0e2b\\u0e32\\u0e23\", \"\\u0e40\\u0e21\\u0e19\\u0e39\", \"\\u0e41\\u0e1a\\u0e1a\\u0e09\\u0e1a\\u0e31\\u0e1a\", \"\\u0e40\\u0e14\\u0e2d\\u0e30\\u0e21\\u0e2d\\u0e25\", \"\\u0e2b\\u0e25\\u0e32\\u0e22\\u0e0a\\u0e19\\u0e34\\u0e14\", \"\\u0e1a\\u0e32\\u0e07\\u0e01\\u0e30\\u0e1b\\u0e34\", \"\\u0e0a\\u0e38\\u0e14\", \"\\u0e1a\\u0e23\\u0e34\\u0e01\\u0e32\\u0e23\", \"\\u0e15\\u0e33\", \"\\u0e44\\u0e02\\u0e48\\u0e44\\u0e01\\u0e48\", \"\\u0e01\\u0e32\\u0e41\\u0e1f\", \"\\u0e40\\u0e23\\u0e37\\u0e48\\u0e2d\\u0e07\", \"\\u0e25\\u0e38\\u0e22\", \"\\u0e07\\u0e27\\u0e14\", \"\\u0e16\\u0e32\\u0e14\", \"\\u0e23\\u0e2a\\u0e0a\\u0e32\\u0e15\\u0e34\", \"\\u0e19\\u0e49\\u0e33\\u0e08\\u0e34\\u0e49\\u0e21\", \"\\u0e23\\u0e32\\u0e04\\u0e32\", \"\\u0e19\\u0e49\\u0e33\", \"\\u0e40\\u0e19\\u0e37\\u0e49\\u0e2d\", \"\\u0e2d\\u0e23\\u0e48\\u0e2d\\u0e22\", \"\\u0e19\\u0e49\\u0e33\\u0e0b\\u0e38\\u0e1b\", \"\\u0e2a\\u0e38\\u0e01\\u0e35\\u0e49\\u0e22\\u0e32\\u0e01\\u0e35\\u0e49\", \"\\u0e19\", \"\\u0e1a\\u0e4a\\u0e27\\u0e22\", \"\\u0e44\\u0e2d\\u0e28\\u0e04\\u0e23\\u0e35\\u0e21\", \"\\u0e42\\u0e0a\\u0e22\\u0e38\", \"\\u0e2a\\u0e30\\u0e2d\\u0e32\\u0e14\\u0e2a\\u0e30\\u0e2d\\u0e49\\u0e32\\u0e19\", \"\\u0e40\\u0e1c\\u0e47\\u0e14\", \"\\u0e41\\u0e1f\\u0e19\", \"\\u0e04\\u0e38\\u0e49\\u0e21\", \"\\u0e42\\u0e21\\u0e08\\u0e34\", \"\\u0e1b\\u0e23\\u0e30\\u0e17\\u0e31\\u0e1a\\u0e43\\u0e08\", \"\\u0e14\\u0e33\", \"\\u0e04\\u0e27\\u0e32\\u0e21\\u0e15\\u0e49\\u0e2d\\u0e07\\u0e01\\u0e32\\u0e23\", \"\\u0e02\\u0e49\\u0e32\\u0e07\\u0e19\\u0e2d\\u0e01\", \"\\u0e2a\\u0e32\\u0e02\\u0e32\", \"\\u0e1e\\u0e19\\u0e31\\u0e01\\u0e07\\u0e32\\u0e19\", \"\\u0e1c\\u0e31\\u0e01\", \"\\u0e23\\u0e32\\u0e22\\u0e25\\u0e30\\u0e40\\u0e2d\\u0e35\\u0e22\\u0e14\", \"\\u0e04\\u0e38\\u0e13\\u0e20\\u0e32\\u0e1e\\u0e14\\u0e35\", \"\\u0e19\\u0e48\\u0e32\\u0e23\\u0e31\\u0e01\", \"\\u0e04\\u0e38\\u0e13\\u0e20\\u0e32\\u0e1e\", \"\\u0e40\\u0e1b\\u0e47\\u0e14\", \"\\u0e2b\\u0e27\\u0e32\\u0e19\", \"\\u0e0a\\u0e32\\u0e40\\u0e02\\u0e35\\u0e22\\u0e27\", \"\\u0e40\\u0e2a\\u0e34\\u0e23\\u0e4c\\u0e1f\", \"\\u0e1e\\u0e2d\\u0e19\\u0e0b\\u0e36\", \"CTW\", \"\\u0e15\\u0e48\\u0e32\\u0e07 \\u0e46\", \"\\u0e21\\u0e32\\u0e15\\u0e23\\u0e32\\u0e10\\u0e32\\u0e19\", \"\\u0e2a\\u0e21\\u0e32\\u0e17\\u0e32\\u0e19\", \"\\u0e17\\u0e35\\u0e48\\u0e17\\u0e32\\u0e07\", \"\\u0e1e\\u0e32\\u0e23\\u0e32\\u0e44\\u0e14\\u0e0b\\u0e4c\", \"           \", \"\\u0e41\\u0e08\\u0e49\\u0e07\", \"\\u0e1e\\u0e19\\u0e31\\u0e01\\u0e07\\u0e32\\u0e19\\u0e1a\\u0e23\\u0e34\\u0e01\\u0e32\\u0e23\", \"\\u0e40\\u0e04\\u0e49\\u0e32\", \"Terminal 21\", \"\\u0e21\\u0e35\\u0e42\\u0e2d\", \"\\u0e25\\u0e39\\u0e01\\u0e04\\u0e49\\u0e32\", \"\\u0e01\\u0e32\\u0e23\\u0e07\\u0e14\", \"\\u0e2d\\u0e2d\\u0e23\\u0e4c\\u0e40\\u0e14\\u0e2d\\u0e23\\u0e4c\", \"\\u0e01\\u0e32\", \"\\u0e19\\u0e32\\u0e17\\u0e35\", \"\\u0e1e\\u0e23\\u0e35\\u0e40\\u0e21\\u0e35\\u0e22\\u0e21\", \"\\u0e40\\u0e2b\\u0e27\\u0e35\\u0e48\\u0e22\\u0e07\", \"\\u0e1e\\u0e23\\u0e30\\u0e23\\u0e32\\u0e21 9\", \"\\u0e40\\u0e2a\\u0e49\\u0e19\", \"\\u0e2a\\u0e1a\\u0e32\\u0e22\\u0e14\\u0e35\", \"\\u0e19\\u0e31\\u0e48\\u0e07\", \"\\u0e40\\u0e14\\u0e47\\u0e01\", \"\\u0e1a\\u0e31\\u0e15\\u0e23\\u0e40\\u0e04\\u0e23\\u0e14\\u0e34\\u0e15\", \"\\u0e2b\\u0e2d\", \"\\u0e02\\u0e19\\u0e21\", \"\\u0e2a\\u0e32\\u0e02\\u0e32\", \"\\u0e04\\u0e38\\u0e13\\u0e20\\u0e32\\u0e1e\", \"\\u0e19\\u0e48\\u0e32\\u0e23\\u0e31\\u0e01\", \"\\u0e23\\u0e32\\u0e22\\u0e25\\u0e30\\u0e40\\u0e2d\\u0e35\\u0e22\\u0e14\", \"\\u0e40\\u0e19\\u0e37\\u0e49\\u0e2d\", \"\\u0e19\\u0e49\\u0e33\", \"\\u0e2d\\u0e23\\u0e48\\u0e2d\\u0e22\", \"\\u0e1e\\u0e19\\u0e31\\u0e01\\u0e07\\u0e32\\u0e19\", \"\\u0e1c\\u0e31\\u0e01\", \"\\u0e04\\u0e38\\u0e13\\u0e20\\u0e32\\u0e1e\\u0e14\\u0e35\", \"\\u0e42\\u0e1b\\u0e23\", \"\\u0e23\\u0e2a\\u0e0a\\u0e32\\u0e15\\u0e34\", \"\\u0e42\\u0e21\\u0e42\\u0e21\\u0e48\", \"\\u0e19\\u0e49\\u0e33\\u0e08\\u0e34\\u0e49\\u0e21\", \"\\u0e19\\u0e49\\u0e33\\u0e0b\\u0e38\\u0e1b\", \"\\u0e23\\u0e32\\u0e04\\u0e32\", \"\\u0e40\\u0e1b\\u0e47\\u0e14\", \"\\u0e2b\\u0e27\\u0e32\\u0e19\", \"\\u0e0a\\u0e32\\u0e40\\u0e02\\u0e35\\u0e22\\u0e27\", \"\\u0e40\\u0e2a\\u0e34\\u0e23\\u0e4c\\u0e1f\"], \"Freq\": [4.0, 1.0, 1.0, 11.0, 2.0, 2.0, 2.0, 2.0, 0.0, 0.0, 0.0, 0.0, 0.0, 0.0, 0.0, 0.0, 0.0, 0.0, 0.0, 0.0, 0.0, 0.0, 0.0, 0.0, 0.0, 0.0, 0.0, 0.0, 0.0, 0.0, 1.7906986245914136, 1.8203955931151277, 1.8259907030231375, 1.8278223263015432, 1.8471596925507887, 1.2631002467064187, 1.2682241485585268, 1.2904078944493205, 1.291754957614415, 1.2922721007334947, 1.294804208814816, 0.6930474080115538, 0.6932206360101127, 0.6932798733095911, 0.69328007259403, 0.6933220219684294, 0.6934252014866967, 0.6934599766212938, 0.6936052549772896, 0.6937661273406335, 0.6937864543534065, 0.6939632694718665, 0.6941847243046516, 0.6944726404978272, 0.6946796970298981, 0.7207473969936421, 0.7210644087149046, 0.7214150496852402, 0.7217318621220637, 0.7220599341296882, 3.027870770083574, 5.435712648083057, 3.449752340224559, 3.8660706859677663, 1.617857337486378, 1.6197676781181696, 1.6158541303060348, 1.6293893301151998, 2.8365469473301763, 1.983844903539025, 1.9817532140677874, 3.0139786518442464, 2.0376329693187403, 0.7227890660707029, 0.7223104844905602, 0.7240170069624139, 0.72396070910841, 0.7242748312053078, 0.7236373701062109, 0.7245138728898304, 0.7248723357743949, 0.7253100640445524, 1.024157207981058, 1.012221066510042, 1.0094678523437037, 1.2282477897470223, 1.0737455380100451, 1.0758871316855836, 1.0913912748978862, 1.095676104935324, 0.6041009207802293, 0.604470564322992, 0.6046381574433747, 0.6053736898172183, 0.6057999278162689, 0.6058278143728227, 0.6058644619233008, 0.6058696246518633, 0.6059438193191601, 0.6060160975190357, 0.606279396675726, 0.6063903562282408, 0.6064235619596772, 0.6064549294468526, 0.606459818394355, 0.6067463498295766, 0.6079178589858957, 0.6080570179876045, 0.6121543079988495, 0.6124448679268131, 0.6131931115641629, 0.6132112984488719, 0.6133316447805913, 0.613383350289377, 0.6135114407139403, 0.6135356116703922, 3.309130972683336, 2.7995380614028362, 2.1107485626256905, 3.332168631992642, 3.971013425316703, 2.261108495066724, 1.8981192400822013, 0.615040664381116, 0.6144445256784614, 0.6140990139805707, 0.6144799607699589, 0.6141167706378994, 0.6157514000132273, 0.6168891558759896, 0.6152237847987665, 0.6146028884659597, 0.6146147783862855, 0.6140085097844059, 0.6141881492714347, 0.6139927478176581, 0.6136470405618673, 1.4134440035393767, 1.353084823005065, 1.3514853158285944, 0.8766039318152503, 0.8693044594130827, 0.8685856667954874, 0.8677571270843579, 1.0489627200002765, 1.0405108640044194, 1.0379095528173337, 1.0373547159431793, 0.8692567432854591, 0.7062005802521906, 0.7089273821098798, 0.3900679257190706, 0.39033386004459186, 0.3903612463514425, 0.39041361891321313, 0.3904944063755189, 0.39050036364727514, 0.39051442109429707, 0.3905150639653499, 0.39053096430938994, 0.39072545423190647, 0.3907482975833171, 0.3907660408243752, 0.3907851983817496, 0.39083259940737836, 0.3909487447775899, 0.3910526327397274, 0.39106317582499384, 0.39125393709540396, 0.40004729878831113, 0.4003853203878898, 0.40058062461373994, 0.4007010986490405, 0.401058363522134, 0.40135918431678885, 0.40139334219872924, 1.8519164132714443, 0.5668773085341725, 0.5673886053115244, 0.5725199591971535, 2.128552741783347, 1.4784465609750739, 1.2440362318327798, 0.8837058924110174, 0.8824186931309684, 0.5677882996741046, 0.5759558906841857, 0.9994060529894162, 0.569285160633517, 0.8990550816684173, 0.7745784454767657, 0.681722536328446, 0.4524358466191472, 0.44691534145620415, 0.4455245970785791, 0.44477736662483824], \"Total\": [4.0, 1.0, 1.0, 11.0, 2.0, 2.0, 2.0, 2.0, 0.0, 0.0, 0.0, 0.0, 0.0, 0.0, 0.0, 0.0, 0.0, 0.0, 0.0, 0.0, 0.0, 0.0, 0.0, 0.0, 0.0, 0.0, 0.0, 0.0, 0.0, 0.0, 2.5765769585831158, 2.6491273505785733, 2.6628749992503638, 2.6673676341214008, 2.7153618212269217, 1.8858027426901196, 1.898308399313315, 1.952927504738066, 1.9562660566661803, 1.9575919132470594, 1.9639276950247084, 1.0917811709634335, 1.0922018880629243, 1.0923456967945153, 1.0923460656379902, 1.0924480193877812, 1.0926985852823266, 1.0927831573274138, 1.0931356852012868, 1.0935265735753277, 1.093576042506139, 1.0940052641530238, 1.0945430339359614, 1.0952422966267148, 1.0957452118959234, 1.1594233514391024, 1.160218018109384, 1.16109648542239, 1.1618708581315194, 1.1626839679045975, 5.700568455642541, 11.535278815183107, 6.9548970671240635, 8.676685878935482, 3.1012914873822908, 3.107193883578793, 3.0979862128740523, 3.1307878967346237, 6.53514009040143, 4.220635618955107, 4.21565722302735, 7.322515677516998, 4.830104068272877, 1.1644901923190591, 1.1633052318814525, 1.1675603235340644, 1.167420493031197, 1.168216969539585, 1.166612508357431, 1.168825229222716, 1.169743799854161, 1.170886442209271, 2.126524693362496, 2.0975758596289396, 2.2141971043382034, 4.493608206557843, 1.7315804892447693, 1.737629558157168, 1.7813976178339888, 1.7934879845762222, 1.0549929507543707, 1.0560383850629007, 1.0565119016275486, 1.0585903326778792, 1.059794437375372, 1.059873861971131, 1.0599771641438485, 1.0599912393216169, 1.0602017700147564, 1.0604055510249764, 1.0611504695294618, 1.0614642424145708, 1.0615579168518923, 1.0616470940107676, 1.0616605209392782, 1.0624698364423044, 1.0657841497771736, 1.0661776681935546, 1.0777621765279628, 1.078548793862391, 1.0806669472141168, 1.0807145399291669, 1.0810623008609432, 1.0811998893898431, 1.0815685114320892, 1.0816795576515066, 7.322515677516998, 6.53514009040143, 4.830104068272877, 8.676685878935482, 11.535278815183107, 6.9548970671240635, 5.700568455642541, 1.0858892618213134, 1.084201448338492, 1.0832241919063774, 1.0843132926754506, 1.0832800434766579, 1.0879767525999973, 1.0912239479877395, 1.086477030876769, 1.0847108424565213, 1.0847449070156137, 1.083022263766368, 1.083533283702339, 1.082978010268602, 1.0819960973157468, 4.493608206557843, 4.220635618955107, 4.21565722302735, 2.054173817348234, 2.0336492822771124, 2.0317587175593284, 2.029482044923335, 3.1307878967346237, 3.107193883578793, 3.1012914873822908, 3.0979862128740523, 2.2141971043382034, 1.506253318690645, 1.518072815796161, 0.9123215812150718, 0.9134703397065476, 0.9135886578083274, 0.9138149898951418, 0.9141640374101017, 0.9141895791943511, 0.9142503146537921, 0.9142531950431141, 0.9143220091623425, 0.9151620327231678, 0.9152607803432516, 0.9153374722096026, 0.9154202331574568, 0.9156250524628777, 0.9161269037249327, 0.916575670961411, 0.9166212670223368, 0.9174455150430889, 0.955529725631962, 0.9570027879288305, 0.9578518155065334, 0.9583763323201144, 0.9599328819724132, 0.9612489281010473, 0.9613971363156717, 4.493608206557843, 2.029482044923335, 2.0317587175593284, 2.054173817348234, 11.535278815183107, 8.676685878935482, 6.9548970671240635, 4.220635618955107, 4.21565722302735, 2.0336492822771124, 2.126524693362496, 7.322515677516998, 2.0975758596289396, 6.53514009040143, 5.700568455642541, 4.830104068272877, 3.1307878967346237, 3.107193883578793, 3.1012914873822908, 3.0979862128740523], \"Category\": [\"Default\", \"Default\", \"Default\", \"Default\", \"Default\", \"Default\", \"Default\", \"Default\", \"Default\", \"Default\", \"Default\", \"Default\", \"Default\", \"Default\", \"Default\", \"Default\", \"Default\", \"Default\", \"Default\", \"Default\", \"Default\", \"Default\", \"Default\", \"Default\", \"Default\", \"Default\", \"Default\", \"Default\", \"Default\", \"Default\", \"Topic1\", \"Topic1\", \"Topic1\", \"Topic1\", \"Topic1\", \"Topic1\", \"Topic1\", \"Topic1\", \"Topic1\", \"Topic1\", \"Topic1\", \"Topic1\", \"Topic1\", \"Topic1\", \"Topic1\", \"Topic1\", \"Topic1\", \"Topic1\", \"Topic1\", \"Topic1\", \"Topic1\", \"Topic1\", \"Topic1\", \"Topic1\", \"Topic1\", \"Topic1\", \"Topic1\", \"Topic1\", \"Topic1\", \"Topic1\", \"Topic1\", \"Topic1\", \"Topic1\", \"Topic1\", \"Topic1\", \"Topic1\", \"Topic1\", \"Topic1\", \"Topic1\", \"Topic1\", \"Topic1\", \"Topic1\", \"Topic1\", \"Topic1\", \"Topic1\", \"Topic1\", \"Topic1\", \"Topic1\", \"Topic1\", \"Topic1\", \"Topic1\", \"Topic1\", \"Topic1\", \"Topic1\", \"Topic1\", \"Topic1\", \"Topic2\", \"Topic2\", \"Topic2\", \"Topic2\", \"Topic2\", \"Topic2\", \"Topic2\", \"Topic2\", \"Topic2\", \"Topic2\", \"Topic2\", \"Topic2\", \"Topic2\", \"Topic2\", \"Topic2\", \"Topic2\", \"Topic2\", \"Topic2\", \"Topic2\", \"Topic2\", \"Topic2\", \"Topic2\", \"Topic2\", \"Topic2\", \"Topic2\", \"Topic2\", \"Topic2\", \"Topic2\", \"Topic2\", \"Topic2\", \"Topic2\", \"Topic2\", \"Topic2\", \"Topic2\", \"Topic2\", \"Topic2\", \"Topic2\", \"Topic2\", \"Topic2\", \"Topic2\", \"Topic2\", \"Topic2\", \"Topic2\", \"Topic2\", \"Topic2\", \"Topic2\", \"Topic2\", \"Topic2\", \"Topic2\", \"Topic2\", \"Topic2\", \"Topic2\", \"Topic2\", \"Topic2\", \"Topic2\", \"Topic2\", \"Topic2\", \"Topic2\", \"Topic2\", \"Topic2\", \"Topic2\", \"Topic2\", \"Topic2\", \"Topic3\", \"Topic3\", \"Topic3\", \"Topic3\", \"Topic3\", \"Topic3\", \"Topic3\", \"Topic3\", \"Topic3\", \"Topic3\", \"Topic3\", \"Topic3\", \"Topic3\", \"Topic3\", \"Topic3\", \"Topic3\", \"Topic3\", \"Topic3\", \"Topic3\", \"Topic3\", \"Topic3\", \"Topic3\", \"Topic3\", \"Topic3\", \"Topic3\", \"Topic3\", \"Topic3\", \"Topic3\", \"Topic3\", \"Topic3\", \"Topic3\", \"Topic3\", \"Topic3\", \"Topic3\", \"Topic3\", \"Topic3\", \"Topic3\", \"Topic3\", \"Topic3\", \"Topic3\", \"Topic3\", \"Topic3\", \"Topic3\", \"Topic3\", \"Topic3\", \"Topic3\", \"Topic3\"], \"logprob\": [30.0, 29.0, 28.0, 27.0, 26.0, 25.0, 24.0, 23.0, 22.0, 21.0, 20.0, 19.0, 18.0, 17.0, 16.0, 15.0, 14.0, 13.0, 12.0, 11.0, 10.0, 9.0, 8.0, 7.0, 6.0, 5.0, 4.0, 3.0, 2.0, 1.0, -4.090099811553955, -4.073699951171875, -4.0706000328063965, -4.0696001052856445, -4.059100151062012, -4.439199924468994, -4.435100078582764, -4.417799949645996, -4.4166998863220215, -4.416299819946289, -4.414400100708008, -5.039400100708008, -5.039100170135498, -5.039100170135498, -5.039100170135498, -5.039000034332275, -5.03879976272583, -5.03879976272583, -5.038599967956543, -5.038400173187256, -5.038300037384033, -5.038099765777588, -5.037799835205078, -5.037300109863281, -5.0370001792907715, -5.000199794769287, -4.999800205230713, -4.999300003051758, -4.998799800872803, -4.9984002113342285, -3.5648999214172363, -2.9797000885009766, -3.4344000816345215, -3.320499897003174, -4.1915998458862305, -4.190499782562256, -4.19290018081665, -4.184500217437744, -3.6301000118255615, -3.9876999855041504, -3.988800048828125, -3.569499969482422, -3.960900068283081, -4.997399806976318, -4.998000144958496, -4.995699882507324, -4.995800018310547, -4.995299816131592, -4.996200084686279, -4.994999885559082, -4.994500160217285, -4.993899822235107, -4.648900032043457, -4.660600185394287, -4.663300037384033, -4.467100143432617, -4.359600067138672, -4.357600212097168, -4.343299865722656, -4.339300155639648, -4.934700012207031, -4.934100151062012, -4.933800220489502, -4.932600021362305, -4.9319000244140625, -4.9319000244140625, -4.93179988861084, -4.93179988861084, -4.931700229644775, -4.931600093841553, -4.931099891662598, -4.9309000968933105, -4.9309000968933105, -4.930799961090088, -4.930799961090088, -4.9303998947143555, -4.928400039672852, -4.928199768066406, -4.921500205993652, -4.921000003814697, -4.9197998046875, -4.9197998046875, -4.919600009918213, -4.91949987411499, -4.919300079345703, -4.9191999435424805, -3.2339999675750732, -3.4012999534606934, -3.6837000846862793, -3.227099895477295, -3.0517001152038574, -3.6149001121520996, -3.789900064468384, -4.916800022125244, -4.917799949645996, -4.918300151824951, -4.917699813842773, -4.918300151824951, -4.915599822998047, -4.91379976272583, -4.916500091552734, -4.917500019073486, -4.917500019073486, -4.918499946594238, -4.9182000160217285, -4.918499946594238, -4.919099807739258, -4.084700107574463, -4.128300189971924, -4.129499912261963, -4.562399864196777, -4.570799827575684, -4.571599960327148, -4.5725998878479, -4.382900238037109, -4.390999794006348, -4.393499851226807, -4.394000053405762, -4.570799827575684, -4.1768999099731445, -4.172999858856201, -4.770500183105469, -4.769800186157227, -4.769700050354004, -4.769599914550781, -4.769400119781494, -4.769400119781494, -4.7692999839782715, -4.7692999839782715, -4.7692999839782715, -4.768799781799316, -4.768700122833252, -4.768700122833252, -4.768599987030029, -4.768499851226807, -4.768199920654297, -4.76800012588501, -4.767899990081787, -4.767399787902832, -4.745200157165527, -4.7444000244140625, -4.743899822235107, -4.743599891662598, -4.742700099945068, -4.7418999671936035, -4.7418999671936035, -3.2128000259399414, -4.396699905395508, -4.3958001136779785, -4.3867998123168945, -3.0736000537872314, -3.4381000995635986, -3.6106998920440674, -3.952699899673462, -3.9540998935699463, -4.394999980926514, -4.380799770355225, -3.8296000957489014, -4.392399787902832, -3.935499906539917, -4.084499835968018, -4.212200164794922, -4.622200012207031, -4.634399890899658, -4.637499809265137, -4.639200210571289], \"loglift\": [30.0, 29.0, 28.0, 27.0, 26.0, 25.0, 24.0, 23.0, 22.0, 21.0, 20.0, 19.0, 18.0, 17.0, 16.0, 15.0, 14.0, 13.0, 12.0, 11.0, 10.0, 9.0, 8.0, 7.0, 6.0, 5.0, 4.0, 3.0, 2.0, 1.0, 0.4315, 0.4201, 0.418, 0.4174, 0.41, 0.3945, 0.392, 0.381, 0.3803, 0.38, 0.3787, 0.3409, 0.3407, 0.3407, 0.3407, 0.3406, 0.3406, 0.3405, 0.3404, 0.3403, 0.3403, 0.3401, 0.34, 0.3397, 0.3396, 0.3199, 0.3197, 0.3194, 0.3192, 0.3189, 0.1626, 0.0429, 0.0942, -0.0131, 0.1446, 0.1439, 0.1444, 0.1422, -0.0393, 0.0404, 0.0405, -0.0924, -0.0678, 0.3184, 0.3188, 0.3175, 0.3175, 0.3173, 0.3178, 0.3171, 0.3168, 0.3164, 0.0647, 0.0667, 0.0099, -0.5017, 0.5595, 0.558, 0.5474, 0.5446, 0.4798, 0.4794, 0.4792, 0.4785, 0.4781, 0.478, 0.478, 0.478, 0.4779, 0.4778, 0.4776, 0.4775, 0.4774, 0.4774, 0.4774, 0.4771, 0.4759, 0.4758, 0.4717, 0.4714, 0.4707, 0.4707, 0.4706, 0.4705, 0.4704, 0.4703, 0.2431, 0.1896, 0.2095, 0.0803, -0.029, -0.0862, -0.0624, 0.4689, 0.4695, 0.4698, 0.4694, 0.4698, 0.4681, 0.467, 0.4686, 0.4693, 0.4692, 0.4698, 0.4697, 0.4699, 0.4702, -0.1193, -0.1003, -0.1003, 0.1858, 0.1875, 0.1876, 0.1877, -0.0561, -0.0567, -0.0573, -0.0567, 0.1023, 0.8815, 0.8776, 0.7893, 0.7888, 0.7887, 0.7886, 0.7884, 0.7884, 0.7884, 0.7884, 0.7883, 0.7879, 0.7879, 0.7878, 0.7878, 0.7877, 0.7874, 0.7872, 0.7872, 0.7868, 0.7683, 0.7676, 0.7672, 0.767, 0.7663, 0.7656, 0.7656, 0.7526, 0.3636, 0.3634, 0.3614, -0.051, -0.1306, -0.0821, 0.0754, 0.0751, 0.3632, 0.3328, -0.3525, 0.3349, -0.3446, -0.357, -0.319, -0.2954, -0.3001, -0.3013, -0.3019]}, \"token.table\": {\"Topic\": [3, 2, 2, 2, 1, 2, 1, 2, 1, 2, 1, 2, 2, 1, 1, 2, 3, 1, 2, 3, 2, 2, 1, 1, 2, 2, 1, 2, 2, 3, 1, 2, 1, 2, 1, 1, 2, 3, 1, 2, 3, 1, 2, 3, 1, 2, 3, 2, 2, 1, 2, 2, 2, 1, 2, 1, 2, 3, 1, 2, 3, 1, 2, 2, 1, 1, 2, 3, 1, 1, 2, 3, 1, 2, 3, 2, 1, 2, 1, 2, 2, 1, 2, 3, 1, 2, 2, 2, 1, 2, 1, 1, 2, 2, 1, 2, 1, 2, 3, 1, 1, 2, 2, 1, 2, 3, 1, 2, 1, 1, 2, 1, 2, 1, 2, 2, 2, 1, 2, 1, 2, 1, 1, 2, 2, 1, 2, 1, 1, 1, 2, 3, 1, 2, 2, 1, 2, 3, 1, 1, 2, 1, 1, 1, 2, 1, 2], \"Freq\": [0.663898952182412, 0.9434040234521083, 0.9435792119050411, 0.9465108707810178, 0.859619618818929, 0.9253137281428109, 0.5302781554837959, 0.9242177513216864, 0.9151654568506872, 0.9446524959946826, 0.861254867752196, 0.9233797828932634, 0.9432166859956116, 0.91262091692807, 0.49273655931150434, 0.49273655931150434, 0.49273655931150434, 0.49172687184305575, 0.49172687184305575, 0.49172687184305575, 0.9219046780571691, 0.9245831303612144, 0.8587448881888132, 0.644892622359771, 0.3224463111798855, 0.9379299809330272, 0.8540537869011137, 0.9229065826045388, 0.9271717753435151, 0.6587299302079558, 0.8564867954514938, 0.9244882118056797, 0.9154611062546376, 0.9223378197220374, 0.5091837151303164, 0.4921844268994994, 0.4921844268994994, 0.4921844268994994, 0.4610055101465479, 0.3457541326099109, 0.11525137753663697, 0.45905672388053137, 0.45905672388053137, 0.15301890796017714, 0.5262633057288414, 0.3508422038192276, 0.1754211019096138, 0.9278484825117211, 0.9382762918824349, 0.8565893831480624, 0.9435085021723445, 0.9430354254873629, 0.9231699286923141, 0.9144725186974296, 0.9233420525653406, 0.47442187402602887, 0.23721093701301443, 0.23721093701301443, 0.4738622758661965, 0.23693113793309825, 0.23693113793309825, 0.45163097632127375, 0.45163097632127375, 0.9423734227280912, 0.7762236611398633, 0.40969526486794416, 0.40969526486794416, 0.1365650882893147, 0.9130399757934333, 0.41406975330764445, 0.41406975330764445, 0.20703487665382223, 0.4868137211927451, 0.4868137211927451, 0.4868137211927451, 0.9420948535442374, 0.8619069729924856, 0.9248983558112766, 0.8560053706411385, 0.919137286353082, 0.5575727345819308, 0.22253831532099944, 0.22253831532099944, 0.44507663064199887, 0.9144311516813303, 0.5775070845457211, 0.9209042166258692, 0.9434165506836248, 0.9159344625054836, 0.5613569873389106, 0.8624977224745193, 0.9150946308924355, 0.9478736320322821, 0.9412031906228175, 0.6436675904164844, 0.3218337952082422, 0.43135074049924615, 0.28756716033283075, 0.14378358016641538, 0.9153753608893995, 0.854888053370897, 0.9469352763540286, 0.9419206801768182, 0.4334528952537184, 0.3467623162029747, 0.17338115810148735, 0.7498029047123743, 0.37490145235618716, 0.8571826487682543, 0.754965592561338, 0.377482796280669, 0.6388168301295586, 0.3194084150647793, 0.8600789445838938, 0.9164021755974472, 0.9420117208164717, 0.9250160691050032, 0.6455806651717043, 0.32279033258585216, 0.7365500922806342, 0.3682750461403171, 0.8555599032243795, 0.5267847944842552, 0.9419325928940542, 0.9204060201742291, 0.8606808519220162, 0.9231223320524021, 0.9136232829549095, 0.5108316974712565, 0.4702508290269526, 0.4702508290269526, 0.4702508290269526, 0.9140723840796119, 0.9218757272170407, 0.5754966559503878, 0.4767408031559343, 0.4767408031559343, 0.4767408031559343, 0.9155816437687642, 0.511177912938987, 0.9253544790815796, 0.5120517774335529, 0.9147995198929609, 0.7510679249168766, 0.3755339624584383, 0.9154607971384462, 0.9222426827698342], \"Term\": [\"CTW\", \"Menu\", \"Number\", \"\\u0e01\\u0e23\\u0e23\\u0e21\\u0e27\\u0e34\\u0e18\\u0e35\", \"\\u0e01\\u0e23\\u0e38\\u0e1a\", \"\\u0e01\\u0e32\\u0e41\\u0e1f\", \"\\u0e02\\u0e2d\\u0e07\\u0e2b\\u0e27\\u0e32\\u0e19\", \"\\u0e02\\u0e49\\u0e32\\u0e07\\u0e19\\u0e2d\\u0e01\", \"\\u0e02\\u0e49\\u0e32\\u0e27\", \"\\u0e04\\u0e19\", \"\\u0e04\\u0e19\\u0e25\\u0e30\", \"\\u0e04\\u0e27\\u0e32\\u0e21\\u0e15\\u0e49\\u0e2d\\u0e07\\u0e01\\u0e32\\u0e23\", \"\\u0e04\\u0e30\\u0e41\\u0e19\\u0e19\", \"\\u0e04\\u0e32\\u0e21\\u0e35\", \"\\u0e04\\u0e38\\u0e13\\u0e20\\u0e32\\u0e1e\", \"\\u0e04\\u0e38\\u0e13\\u0e20\\u0e32\\u0e1e\", \"\\u0e04\\u0e38\\u0e13\\u0e20\\u0e32\\u0e1e\", \"\\u0e04\\u0e38\\u0e13\\u0e20\\u0e32\\u0e1e\\u0e14\\u0e35\", \"\\u0e04\\u0e38\\u0e13\\u0e20\\u0e32\\u0e1e\\u0e14\\u0e35\", \"\\u0e04\\u0e38\\u0e13\\u0e20\\u0e32\\u0e1e\\u0e14\\u0e35\", \"\\u0e04\\u0e38\\u0e49\\u0e21\", \"\\u0e07\\u0e27\\u0e14\", \"\\u0e09\\u0e32\\u0e01\", \"\\u0e0a\\u0e32\\u0e40\\u0e02\\u0e35\\u0e22\\u0e27\", \"\\u0e0a\\u0e32\\u0e40\\u0e02\\u0e35\\u0e22\\u0e27\", \"\\u0e0a\\u0e38\\u0e14\", \"\\u0e0b\\u0e2d\\u0e22\\u0e0b\\u0e2d\\u0e2a\", \"\\u0e14\\u0e33\", \"\\u0e15\\u0e33\", \"\\u0e15\\u0e48\\u0e32\\u0e07 \\u0e46\", \"\\u0e16\\u0e31\\u0e48\\u0e27\\u0e41\\u0e14\\u0e07\", \"\\u0e16\\u0e32\\u0e14\", \"\\u0e16\\u0e49\\u0e27\\u0e22\", \"\\u0e19\", \"\\u0e19\\u0e38\\u0e48\\u0e21\", \"\\u0e19\\u0e48\\u0e32\\u0e23\\u0e31\\u0e01\", \"\\u0e19\\u0e48\\u0e32\\u0e23\\u0e31\\u0e01\", \"\\u0e19\\u0e48\\u0e32\\u0e23\\u0e31\\u0e01\", \"\\u0e19\\u0e49\\u0e33\", \"\\u0e19\\u0e49\\u0e33\", \"\\u0e19\\u0e49\\u0e33\", \"\\u0e19\\u0e49\\u0e33\\u0e08\\u0e34\\u0e49\\u0e21\", \"\\u0e19\\u0e49\\u0e33\\u0e08\\u0e34\\u0e49\\u0e21\", \"\\u0e19\\u0e49\\u0e33\\u0e08\\u0e34\\u0e49\\u0e21\", \"\\u0e19\\u0e49\\u0e33\\u0e0b\\u0e38\\u0e1b\", \"\\u0e19\\u0e49\\u0e33\\u0e0b\\u0e38\\u0e1b\", \"\\u0e19\\u0e49\\u0e33\\u0e0b\\u0e38\\u0e1b\", \"\\u0e1a\\u0e23\\u0e34\\u0e01\\u0e32\\u0e23\", \"\\u0e1a\\u0e32\\u0e07\\u0e01\\u0e30\\u0e1b\\u0e34\", \"\\u0e1a\\u0e32\\u0e23\\u0e4c\", \"\\u0e1a\\u0e38\\u0e1f\\u0e40\\u0e1f\\u0e48\", \"\\u0e1a\\u0e38\\u0e1f\\u0e40\\u0e1f\\u0e48\\u0e15\\u0e4c\", \"\\u0e1a\\u0e4a\\u0e27\\u0e22\", \"\\u0e1a\\u0e4b\\u0e27\\u0e22\", \"\\u0e1b\\u0e23\\u0e30\\u0e17\\u0e31\\u0e1a\\u0e43\\u0e08\", \"\\u0e1c\\u0e31\\u0e01\", \"\\u0e1c\\u0e31\\u0e01\", \"\\u0e1c\\u0e31\\u0e01\", \"\\u0e1e\\u0e19\\u0e31\\u0e01\\u0e07\\u0e32\\u0e19\", \"\\u0e1e\\u0e19\\u0e31\\u0e01\\u0e07\\u0e32\\u0e19\", \"\\u0e1e\\u0e19\\u0e31\\u0e01\\u0e07\\u0e32\\u0e19\", \"\\u0e1e\\u0e2d\\u0e19\\u0e0b\\u0e36\", \"\\u0e1e\\u0e2d\\u0e19\\u0e0b\\u0e36\", \"\\u0e1e\\u0e32\\u0e23\\u0e32\\u0e44\\u0e14\\u0e2a\\u0e4c\", \"\\u0e23\\u0e2a\", \"\\u0e23\\u0e2a\\u0e0a\\u0e32\\u0e15\\u0e34\", \"\\u0e23\\u0e2a\\u0e0a\\u0e32\\u0e15\\u0e34\", \"\\u0e23\\u0e2a\\u0e0a\\u0e32\\u0e15\\u0e34\", \"\\u0e23\\u0e32\", \"\\u0e23\\u0e32\\u0e04\\u0e32\", \"\\u0e23\\u0e32\\u0e04\\u0e32\", \"\\u0e23\\u0e32\\u0e04\\u0e32\", \"\\u0e23\\u0e32\\u0e22\\u0e25\\u0e30\\u0e40\\u0e2d\\u0e35\\u0e22\\u0e14\", \"\\u0e23\\u0e32\\u0e22\\u0e25\\u0e30\\u0e40\\u0e2d\\u0e35\\u0e22\\u0e14\", \"\\u0e23\\u0e32\\u0e22\\u0e25\\u0e30\\u0e40\\u0e2d\\u0e35\\u0e22\\u0e14\", \"\\u0e23\\u0e49\\u0e32\\u0e19\\u0e2d\\u0e32\\u0e2b\\u0e32\\u0e23\", \"\\u0e25\\u0e37\\u0e21\", \"\\u0e25\\u0e38\\u0e22\", \"\\u0e2a\\u0e14\", \"\\u0e2a\\u0e30\\u0e2d\\u0e32\\u0e14\\u0e2a\\u0e30\\u0e2d\\u0e49\\u0e32\\u0e19\", \"\\u0e2a\\u0e31\\u0e19\\u0e04\\u0e2d\", \"\\u0e2a\\u0e32\\u0e02\\u0e32\", \"\\u0e2a\\u0e32\\u0e02\\u0e32\", \"\\u0e2a\\u0e32\\u0e02\\u0e32\", \"\\u0e2a\\u0e32\\u0e22\", \"\\u0e2a\\u0e38\\u0e01\\u0e35\\u0e49\", \"\\u0e2a\\u0e38\\u0e01\\u0e35\\u0e49\\u0e22\\u0e32\\u0e01\\u0e35\\u0e49\", \"\\u0e2a\\u0e44\\u0e15\\u0e25\\u0e4c\", \"\\u0e2a\\u0e48\\u0e27\\u0e19\\u0e15\\u0e31\\u0e27\", \"\\u0e2b\\u0e21\\u0e39\", \"\\u0e2b\\u0e21\\u0e49\\u0e2d\", \"\\u0e2b\\u0e22\\u0e34\\u0e1a\", \"\\u0e2b\\u0e25\\u0e32\\u0e01\", \"\\u0e2b\\u0e25\\u0e32\\u0e22\\u0e0a\\u0e19\\u0e34\\u0e14\", \"\\u0e2b\\u0e27\\u0e32\\u0e19\", \"\\u0e2b\\u0e27\\u0e32\\u0e19\", \"\\u0e2d\\u0e23\\u0e48\\u0e2d\\u0e22\", \"\\u0e2d\\u0e23\\u0e48\\u0e2d\\u0e22\", \"\\u0e2d\\u0e23\\u0e48\\u0e2d\\u0e22\", \"\\u0e2d\\u0e2d\\u0e2a\", \"\\u0e40\\u0e04\\u0e47\\u0e21\", \"\\u0e40\\u0e0b\\u0e47\\u0e17\", \"\\u0e40\\u0e14\\u0e2d\\u0e30\\u0e21\\u0e2d\\u0e25\", \"\\u0e40\\u0e19\\u0e37\\u0e49\\u0e2d\", \"\\u0e40\\u0e19\\u0e37\\u0e49\\u0e2d\", \"\\u0e40\\u0e19\\u0e37\\u0e49\\u0e2d\", \"\\u0e40\\u0e19\\u0e37\\u0e49\\u0e2d\\u0e27\\u0e31\\u0e27\", \"\\u0e40\\u0e19\\u0e37\\u0e49\\u0e2d\\u0e27\\u0e31\\u0e27\", \"\\u0e40\\u0e19\\u0e37\\u0e49\\u0e2d\\u0e2a\\u0e31\\u0e15\\u0e27\\u0e4c\", \"\\u0e40\\u0e19\\u0e37\\u0e49\\u0e2d\\u0e2b\\u0e21\\u0e39\", \"\\u0e40\\u0e19\\u0e37\\u0e49\\u0e2d\\u0e2b\\u0e21\\u0e39\", \"\\u0e40\\u0e1b\\u0e47\\u0e14\", \"\\u0e40\\u0e1b\\u0e47\\u0e14\", \"\\u0e40\\u0e1b\\u0e47\\u0e19\\u0e1c\\u0e39\\u0e49\\u0e43\\u0e2b\\u0e0d\\u0e48\", \"\\u0e40\\u0e1c\\u0e47\\u0e14\", \"\\u0e40\\u0e21\\u0e19\\u0e39\", \"\\u0e40\\u0e23\\u0e37\\u0e48\\u0e2d\\u0e07\", \"\\u0e40\\u0e2a\\u0e34\\u0e23\\u0e4c\\u0e1f\", \"\\u0e40\\u0e2a\\u0e34\\u0e23\\u0e4c\\u0e1f\", \"\\u0e40\\u0e2b\\u0e47\\u0e14\", \"\\u0e40\\u0e2b\\u0e47\\u0e14\", \"\\u0e41\\u0e15\\u0e32\", \"\\u0e41\\u0e19\\u0e27\", \"\\u0e41\\u0e1a\\u0e1a\\u0e09\\u0e1a\\u0e31\\u0e1a\", \"\\u0e41\\u0e1f\\u0e19\", \"\\u0e41\\u0e22\\u0e49\\u0e27\\u0e27\\u0e27\", \"\\u0e42\\u0e0a\\u0e22\\u0e38\", \"\\u0e42\\u0e0b\\u0e19\", \"\\u0e42\\u0e15\\u0e4a\\u0e30\", \"\\u0e42\\u0e1b\\u0e23\", \"\\u0e42\\u0e1b\\u0e23\", \"\\u0e42\\u0e1b\\u0e23\", \"\\u0e42\\u0e1b\\u0e23\\u0e42\\u0e21\\u0e0a\\u0e31\\u0e48\\u0e19\", \"\\u0e42\\u0e21\\u0e08\\u0e34\", \"\\u0e42\\u0e21\\u0e42\\u0e21\", \"\\u0e42\\u0e21\\u0e42\\u0e21\\u0e48\", \"\\u0e42\\u0e21\\u0e42\\u0e21\\u0e48\", \"\\u0e42\\u0e21\\u0e42\\u0e21\\u0e48\", \"\\u0e42\\u0e2b\\u0e14\", \"\\u0e44\\u0e01\\u0e48\\u0e44\\u0e21\\u0e49\\u0e44\\u0e1c\\u0e48\", \"\\u0e44\\u0e02\\u0e48\\u0e44\\u0e01\\u0e48\", \"\\u0e44\\u0e14\\u0e1f\\u0e39\\u0e01\\u0e38\", \"\\u0e44\\u0e27\", \"\\u0e44\\u0e2d\\u0e15\\u0e34\\u0e21\", \"\\u0e44\\u0e2d\\u0e15\\u0e34\\u0e21\", \"\\u0e44\\u0e2d\\u0e28\\u0e01\\u0e23\\u0e35\\u0e21\", \"\\u0e44\\u0e2d\\u0e28\\u0e04\\u0e23\\u0e35\\u0e21\"]}, \"R\": 30, \"lambda.step\": 0.01, \"plot.opts\": {\"xlab\": \"PC1\", \"ylab\": \"PC2\"}, \"topic.order\": [1, 3, 2]};\n",
              "\n",
              "function LDAvis_load_lib(url, callback){\n",
              "  var s = document.createElement('script');\n",
              "  s.src = url;\n",
              "  s.async = true;\n",
              "  s.onreadystatechange = s.onload = callback;\n",
              "  s.onerror = function(){console.warn(\"failed to load library \" + url);};\n",
              "  document.getElementsByTagName(\"head\")[0].appendChild(s);\n",
              "}\n",
              "\n",
              "if(typeof(LDAvis) !== \"undefined\"){\n",
              "   // already loaded: just create the visualization\n",
              "   !function(LDAvis){\n",
              "       new LDAvis(\"#\" + \"ldavis_el591402340848089123407669308\", ldavis_el591402340848089123407669308_data);\n",
              "   }(LDAvis);\n",
              "}else if(typeof define === \"function\" && define.amd){\n",
              "   // require.js is available: use it to load d3/LDAvis\n",
              "   require.config({paths: {d3: \"https://cdnjs.cloudflare.com/ajax/libs/d3/3.5.5/d3.min\"}});\n",
              "   require([\"d3\"], function(d3){\n",
              "      window.d3 = d3;\n",
              "      LDAvis_load_lib(\"https://cdn.rawgit.com/bmabey/pyLDAvis/files/ldavis.v1.0.0.js\", function(){\n",
              "        new LDAvis(\"#\" + \"ldavis_el591402340848089123407669308\", ldavis_el591402340848089123407669308_data);\n",
              "      });\n",
              "    });\n",
              "}else{\n",
              "    // require.js not available: dynamically load d3 & LDAvis\n",
              "    LDAvis_load_lib(\"https://cdnjs.cloudflare.com/ajax/libs/d3/3.5.5/d3.min.js\", function(){\n",
              "         LDAvis_load_lib(\"https://cdn.rawgit.com/bmabey/pyLDAvis/files/ldavis.v1.0.0.js\", function(){\n",
              "                 new LDAvis(\"#\" + \"ldavis_el591402340848089123407669308\", ldavis_el591402340848089123407669308_data);\n",
              "            })\n",
              "         });\n",
              "}\n",
              "</script>"
            ],
            "text/plain": [
              "PreparedData(topic_coordinates=              x         y  topics  cluster       Freq\n",
              "topic                                                \n",
              "0     -0.032127 -0.003277       1        1  45.143468\n",
              "2      0.019601 -0.020678       2        1  35.439442\n",
              "1      0.012526  0.023955       3        1  19.417090, topic_info=          Term       Freq      Total Category  logprob  loglift\n",
              "38        สาขา   4.000000   4.000000  Default  30.0000  30.0000\n",
              "95      ต่าง ๆ   1.000000   1.000000  Default  29.0000  29.0000\n",
              "23         CTW   1.000000   1.000000  Default  28.0000  28.0000\n",
              "17       เนื้อ  11.000000  11.000000  Default  27.0000  27.0000\n",
              "35  รายละเอียด   2.000000   2.000000  Default  26.0000  26.0000\n",
              "..         ...        ...        ...      ...      ...      ...\n",
              "13        ราคา   0.681723   4.830104   Topic3  -4.2122  -0.3190\n",
              "18        เป็ด   0.452436   3.130788   Topic3  -4.6222  -0.2954\n",
              "68        หวาน   0.446915   3.107194   Topic3  -4.6344  -0.3001\n",
              "51     ชาเขียว   0.445525   3.101291   Topic3  -4.6375  -0.3013\n",
              "74      เสิร์ฟ   0.444777   3.097986   Topic3  -4.6392  -0.3019\n",
              "\n",
              "[196 rows x 6 columns], token_table=      Topic      Freq      Term\n",
              "term                           \n",
              "23        3  0.663899       CTW\n",
              "110       2  0.943404      Menu\n",
              "111       2  0.943579    Number\n",
              "112       2  0.946511  กรรมวิธี\n",
              "44        1  0.859620      กรุบ\n",
              "...     ...       ...       ...\n",
              "92        1  0.914800        ไว\n",
              "85        1  0.751068     ไอติม\n",
              "85        2  0.375534     ไอติม\n",
              "93        1  0.915461   ไอศกรีม\n",
              "141       2  0.922243   ไอศครีม\n",
              "\n",
              "[147 rows x 3 columns], R=30, lambda_step=0.01, plot_opts={'xlab': 'PC1', 'ylab': 'PC2'}, topic_order=[1, 3, 2])"
            ]
          },
          "metadata": {
            "tags": []
          },
          "execution_count": 21
        }
      ]
    },
    {
      "cell_type": "code",
      "metadata": {
        "colab": {
          "base_uri": "https://localhost:8080/"
        },
        "id": "9uoAC-1OKIr1",
        "outputId": "42f7448f-c6d2-4e9a-a7ae-34c796e3f550"
      },
      "source": [
        "model_momo.show_topics()"
      ],
      "execution_count": null,
      "outputs": [
        {
          "output_type": "execute_result",
          "data": {
            "text/plain": [
              "[(0,\n",
              "  '0.051*\"เนื้อ\" + 0.036*\"น้ำ\" + 0.032*\"อร่อย\" + 0.028*\"น้ำซุป\" + 0.028*\"รสชาติ\" + 0.027*\"น้ำจิ้ม\" + 0.019*\"ราคา\" + 0.019*\"พนักงาน\" + 0.019*\"ผัก\" + 0.017*\"เห็ด\"'),\n",
              " (1,\n",
              "  '0.046*\"เนื้อ\" + 0.040*\"สาขา\" + 0.032*\"น้ำ\" + 0.027*\"อร่อย\" + 0.022*\"รสชาติ\" + 0.020*\"น้ำจิ้ม\" + 0.019*\"พนักงาน\" + 0.019*\"ผัก\" + 0.017*\"น้ำซุป\" + 0.015*\"ต่าง ๆ\"'),\n",
              " (2,\n",
              "  '0.047*\"เนื้อ\" + 0.040*\"น้ำ\" + 0.039*\"รสชาติ\" + 0.033*\"น้ำจิ้ม\" + 0.027*\"อร่อย\" + 0.025*\"ราคา\" + 0.023*\"น้ำซุป\" + 0.017*\"สาขา\" + 0.016*\"พนักงาน\" + 0.016*\"ผัก\"')]"
            ]
          },
          "metadata": {
            "tags": []
          },
          "execution_count": 22
        }
      ]
    },
    {
      "cell_type": "code",
      "metadata": {
        "id": "KwvMjfSrrHU0",
        "colab": {
          "base_uri": "https://localhost:8080/"
        },
        "outputId": "c02a997e-755c-4463-c9f5-9c0535d2fe1d"
      },
      "source": [
        "model_momo.show_topic(1)"
      ],
      "execution_count": null,
      "outputs": [
        {
          "output_type": "execute_result",
          "data": {
            "text/plain": [
              "[('เนื้อ', 0.04625428),\n",
              " ('สาขา', 0.040242866),\n",
              " ('น้ำ', 0.03212722),\n",
              " ('อร่อย', 0.027033392),\n",
              " ('รสชาติ', 0.021717483),\n",
              " ('น้ำจิ้ม', 0.019536817),\n",
              " ('พนักงาน', 0.019203274),\n",
              " ('ผัก', 0.019175302),\n",
              " ('น้ำซุป', 0.016831892),\n",
              " ('ต่าง ๆ', 0.015405268)]"
            ]
          },
          "metadata": {
            "tags": []
          },
          "execution_count": 23
        }
      ]
    },
    {
      "cell_type": "code",
      "metadata": {
        "id": "BSPNeUAjujS-",
        "colab": {
          "base_uri": "https://localhost:8080/"
        },
        "outputId": "80f4a271-b1b3-4043-97b9-2902c58555f2"
      },
      "source": [
        "df_momo['topics'] = df_momo['Review_tokenized'].apply(lambda x: model_momo.get_document_topics(dictionary_momo.doc2bow(x.split(',')))[0][0])\n",
        "df_momo['score'] = df_momo['Review_tokenized'].apply(lambda x: model_momo.get_document_topics(dictionary_momo.doc2bow(x.split(',')))[0][1])"
      ],
      "execution_count": null,
      "outputs": [
        {
          "output_type": "stream",
          "text": [
            "/usr/local/lib/python3.6/dist-packages/ipykernel_launcher.py:1: SettingWithCopyWarning: \n",
            "A value is trying to be set on a copy of a slice from a DataFrame.\n",
            "Try using .loc[row_indexer,col_indexer] = value instead\n",
            "\n",
            "See the caveats in the documentation: https://pandas.pydata.org/pandas-docs/stable/user_guide/indexing.html#returning-a-view-versus-a-copy\n",
            "  \"\"\"Entry point for launching an IPython kernel.\n",
            "/usr/local/lib/python3.6/dist-packages/ipykernel_launcher.py:2: SettingWithCopyWarning: \n",
            "A value is trying to be set on a copy of a slice from a DataFrame.\n",
            "Try using .loc[row_indexer,col_indexer] = value instead\n",
            "\n",
            "See the caveats in the documentation: https://pandas.pydata.org/pandas-docs/stable/user_guide/indexing.html#returning-a-view-versus-a-copy\n",
            "  \n"
          ],
          "name": "stderr"
        }
      ]
    },
    {
      "cell_type": "code",
      "metadata": {
        "id": "gqZjJuheum3D",
        "colab": {
          "base_uri": "https://localhost:8080/",
          "height": 977
        },
        "outputId": "f8dc70ea-9a39-49a1-c50b-d84d1baaa2db"
      },
      "source": [
        "df_momo.head(10)"
      ],
      "execution_count": null,
      "outputs": [
        {
          "output_type": "execute_result",
          "data": {
            "text/html": [
              "<div>\n",
              "<style scoped>\n",
              "    .dataframe tbody tr th:only-of-type {\n",
              "        vertical-align: middle;\n",
              "    }\n",
              "\n",
              "    .dataframe tbody tr th {\n",
              "        vertical-align: top;\n",
              "    }\n",
              "\n",
              "    .dataframe thead th {\n",
              "        text-align: right;\n",
              "    }\n",
              "</style>\n",
              "<table border=\"1\" class=\"dataframe\">\n",
              "  <thead>\n",
              "    <tr style=\"text-align: right;\">\n",
              "      <th></th>\n",
              "      <th>Review ID</th>\n",
              "      <th>Restaurant_ID</th>\n",
              "      <th>Restaurant</th>\n",
              "      <th>User</th>\n",
              "      <th>Headline</th>\n",
              "      <th>Review</th>\n",
              "      <th>Rating</th>\n",
              "      <th>Review_tokenized</th>\n",
              "      <th>topics</th>\n",
              "      <th>score</th>\n",
              "    </tr>\n",
              "  </thead>\n",
              "  <tbody>\n",
              "    <tr>\n",
              "      <th>0</th>\n",
              "      <td>1</td>\n",
              "      <td>352696Px-mo-mo-paradise-เดอะมอลล์-บางกะปิ</td>\n",
              "      <td>Mo-Mo-Paradise (โม โม พาราไดซ์) เดอะมอลล์ บางกะปิ</td>\n",
              "      <td>7b16469831074f7abc7824745ee75212</td>\n",
              "      <td>ที่สำคัญของร้านนี้คือบริการดีมากพนักงานน่ารักส...</td>\n",
              "      <td>ที่สำคัญของร้านนี้คือบริการดีมากพนักงานน่ารักส...</td>\n",
              "      <td>5.0</td>\n",
              "      <td>พนักงาน,น่ารัก,สะอาดสะอ้าน,รสชาติ,ความต้องการ,...</td>\n",
              "      <td>1</td>\n",
              "      <td>0.997714</td>\n",
              "    </tr>\n",
              "    <tr>\n",
              "      <th>1</th>\n",
              "      <td>2</td>\n",
              "      <td>352696Px-mo-mo-paradise-เดอะมอลล์-บางกะปิ</td>\n",
              "      <td>Mo-Mo-Paradise (โม โม พาราไดซ์) เดอะมอลล์ บางกะปิ</td>\n",
              "      <td>pakkaramonpondej</td>\n",
              "      <td>รสชาติเหมือนทุกสาขา แต่สาขานี้ บริการดี ที่นั่งดี</td>\n",
              "      <td>นึกถึงชาบูญี่ปุ่นยังไงก็ต้อง คิดถึงโมโม่ พาราไ...</td>\n",
              "      <td>5.0</td>\n",
              "      <td>โมโม่,พาราไดซ์,คุณภาพ,เค้า,มาตราฐาน,มีโอ,กา,สม...</td>\n",
              "      <td>0</td>\n",
              "      <td>0.996981</td>\n",
              "    </tr>\n",
              "    <tr>\n",
              "      <th>2</th>\n",
              "      <td>3</td>\n",
              "      <td>352696Px-mo-mo-paradise-เดอะมอลล์-บางกะปิ</td>\n",
              "      <td>Mo-Mo-Paradise (โม โม พาราไดซ์) เดอะมอลล์ บางกะปิ</td>\n",
              "      <td>saanowy</td>\n",
              "      <td>ชาบูพรีเมี่ยมสไตล์ญี่ปุ่น เนื้อดีมากกก</td>\n",
              "      <td>มาทานช่วงนี้ สามารถนั่งโต๊ะเดียวกัน หม้อเดียวก...</td>\n",
              "      <td>4.0</td>\n",
              "      <td>โต๊ะ,หม้อ,โต๊ะ,ฉาก,กั้น,รส,น้ำจิ้ม,น้ำซุป,น้ำ,...</td>\n",
              "      <td>2</td>\n",
              "      <td>0.998904</td>\n",
              "    </tr>\n",
              "    <tr>\n",
              "      <th>3</th>\n",
              "      <td>4</td>\n",
              "      <td>352696Px-mo-mo-paradise-เดอะมอลล์-บางกะปิ</td>\n",
              "      <td>Mo-Mo-Paradise (โม โม พาราไดซ์) เดอะมอลล์ บางกะปิ</td>\n",
              "      <td>ployynp</td>\n",
              "      <td>เนื้อดี ไอติมดี คุ้มค่าดี</td>\n",
              "      <td>ถ้านึกถึงชาบูที่มีเนื้อเน้นๆ ในราคาไม่โหดจนเกิ...</td>\n",
              "      <td>4.0</td>\n",
              "      <td>เนื้อ,ราคา,โหด,โมโม่,โปร,ส่วนตัว,เนื้อ,ออส,ไว,...</td>\n",
              "      <td>1</td>\n",
              "      <td>0.996050</td>\n",
              "    </tr>\n",
              "    <tr>\n",
              "      <th>4</th>\n",
              "      <td>5</td>\n",
              "      <td>352696Px-mo-mo-paradise-เดอะมอลล์-บางกะปิ</td>\n",
              "      <td>Mo-Mo-Paradise (โม โม พาราไดซ์) เดอะมอลล์ บางกะปิ</td>\n",
              "      <td>665a902b335b434ab489f00f2fbb477e</td>\n",
              "      <td>อาหารมีคุณภาพ บริการดีค่ะ</td>\n",
              "      <td>เดินมาหน้าร้านแล้วได้กลิ่นชาบูหอมมาก ๆ  ประกอบ...</td>\n",
              "      <td>5.0</td>\n",
              "      <td>หอ,โปร,บัตรเครดิต,น้ำ,เนื้อ,ต่าง ๆ,ผัก,เส้น,สา...</td>\n",
              "      <td>1</td>\n",
              "      <td>0.996877</td>\n",
              "    </tr>\n",
              "    <tr>\n",
              "      <th>5</th>\n",
              "      <td>6</td>\n",
              "      <td>352696Px-mo-mo-paradise-เดอะมอลล์-บางกะปิ</td>\n",
              "      <td>Mo-Mo-Paradise (โม โม พาราไดซ์) เดอะมอลล์ บางกะปิ</td>\n",
              "      <td>12f2b56b28bb4849a92690cedc1cc50a</td>\n",
              "      <td>กินให้อิ่ม ที่ momo</td>\n",
              "      <td>ร้านบุฟเฟ่ ชาบูแนวญี่ปุ่น สายเนื้อหมู เนื้อวัว...</td>\n",
              "      <td>4.0</td>\n",
              "      <td>แนว,สาย,เนื้อหมู,เนื้อวัว,โซน,ผัก,หยิบ,เนื้อ,พ...</td>\n",
              "      <td>0</td>\n",
              "      <td>0.995480</td>\n",
              "    </tr>\n",
              "    <tr>\n",
              "      <th>6</th>\n",
              "      <td>7</td>\n",
              "      <td>352696Px-mo-mo-paradise-เดอะมอลล์-บางกะปิ</td>\n",
              "      <td>Mo-Mo-Paradise (โม โม พาราไดซ์) เดอะมอลล์ บางกะปิ</td>\n",
              "      <td>f2628bf47a394345b133fec76a79661d</td>\n",
              "      <td>ชาบู - สุกกี้สไลต์ญี่ปุ่นที่แท้ทรู</td>\n",
              "      <td>Number 20 : โมโม – พาราไดส์ (สาขาเดอะมอลบางกะป...</td>\n",
              "      <td>4.0</td>\n",
              "      <td>Number,โมโม,พาราไดส์,สาขา,เดอะมอล,บางกะปิ,ร้าน...</td>\n",
              "      <td>1</td>\n",
              "      <td>0.998300</td>\n",
              "    </tr>\n",
              "    <tr>\n",
              "      <th>7</th>\n",
              "      <td>8</td>\n",
              "      <td>352696Px-mo-mo-paradise-เดอะมอลล์-บางกะปิ</td>\n",
              "      <td>Mo-Mo-Paradise (โม โม พาราไดซ์) เดอะมอลล์ บางกะปิ</td>\n",
              "      <td>backscrash</td>\n",
              "      <td>ร้านชาบูเฟรนไชส์ ที่ราคาเหมาะสมกับคุณภาพ ถือว่...</td>\n",
              "      <td>ร้านชาบูเฟรนไชส์รสชาติดีมากคุ้มค่าเหมาะสมกับรา...</td>\n",
              "      <td>4.0</td>\n",
              "      <td>รสชาติ,ราคา,เรื่อง,น้ำซุป,งวด,น้ำ,ชาเขียว,กาแฟ...</td>\n",
              "      <td>2</td>\n",
              "      <td>0.996485</td>\n",
              "    </tr>\n",
              "  </tbody>\n",
              "</table>\n",
              "</div>"
            ],
            "text/plain": [
              "   Review ID                              Restaurant_ID  ... topics     score\n",
              "0          1  352696Px-mo-mo-paradise-เดอะมอลล์-บางกะปิ  ...      1  0.997714\n",
              "1          2  352696Px-mo-mo-paradise-เดอะมอลล์-บางกะปิ  ...      0  0.996981\n",
              "2          3  352696Px-mo-mo-paradise-เดอะมอลล์-บางกะปิ  ...      2  0.998904\n",
              "3          4  352696Px-mo-mo-paradise-เดอะมอลล์-บางกะปิ  ...      1  0.996050\n",
              "4          5  352696Px-mo-mo-paradise-เดอะมอลล์-บางกะปิ  ...      1  0.996877\n",
              "5          6  352696Px-mo-mo-paradise-เดอะมอลล์-บางกะปิ  ...      0  0.995480\n",
              "6          7  352696Px-mo-mo-paradise-เดอะมอลล์-บางกะปิ  ...      1  0.998300\n",
              "7          8  352696Px-mo-mo-paradise-เดอะมอลล์-บางกะปิ  ...      2  0.996485\n",
              "\n",
              "[8 rows x 10 columns]"
            ]
          },
          "metadata": {
            "tags": []
          },
          "execution_count": 64
        }
      ]
    },
    {
      "cell_type": "markdown",
      "metadata": {
        "id": "CrzHwXyGOM8G"
      },
      "source": [
        "# **Shabushi**"
      ]
    },
    {
      "cell_type": "markdown",
      "metadata": {
        "id": "35oQZCqsOR9z"
      },
      "source": [
        "## Create Dictionary"
      ]
    },
    {
      "cell_type": "code",
      "metadata": {
        "colab": {
          "base_uri": "https://localhost:8080/"
        },
        "id": "0FahF1BbOPpT",
        "outputId": "bb78215e-55ff-43a1-8a34-8e56bc42f242"
      },
      "source": [
        "df_shabushi = df[df['Restaurant'] == 'Shabushi (ชาบูชิ) เดอะมอลล์บางกะปิ ชั้น G']\n",
        "df_shabushi.shape"
      ],
      "execution_count": null,
      "outputs": [
        {
          "output_type": "execute_result",
          "data": {
            "text/plain": [
              "(8, 8)"
            ]
          },
          "metadata": {
            "tags": []
          },
          "execution_count": 65
        }
      ]
    },
    {
      "cell_type": "code",
      "metadata": {
        "id": "bQNVMRTWYJk0"
      },
      "source": [
        "documents_shabushi = df_shabushi['Review_tokenized'].to_list()\n",
        "texts_shabushi = [[text for text in doc.split(',')] for doc in documents_shabushi]\n",
        "dictionary_shabushi = gensim.corpora.Dictionary(texts_shabushi)"
      ],
      "execution_count": null,
      "outputs": []
    },
    {
      "cell_type": "code",
      "metadata": {
        "colab": {
          "base_uri": "https://localhost:8080/"
        },
        "id": "O6aRLD1EYQSI",
        "outputId": "124af9b1-9774-426b-a4ca-cf879b1a209b"
      },
      "source": [
        "print(dictionary_shabushi.token2id.keys())"
      ],
      "execution_count": null,
      "outputs": [
        {
          "output_type": "stream",
          "text": [
            "dict_keys(['กุ้ง', 'ของกิน', 'คุ้ม', 'ซูชิ', 'ซ่า', 'ตอน', 'ปูอัด', 'ราคา', 'สายพาน', 'หิว', 'ฮ่า', 'าน', 'เกี๊ยว', 'เทมปุระ', 'เมนู', 'แพง', 'ไม่งั้น', 'กลาย', 'ชาบูชิ', 'ชื่นใจ', 'ญี่ปุน', 'ตัว', 'ทอด', 'ปลา', 'ผิดหวัง', 'ลืม', 'อาหารเสริม', 'เป็นมา', 'เป็นหลัก', 'เย็น', 'ไข่', 'net', 'ของคาว', 'ชม', 'น้ำซุป', 'บุฟเฟ่ต์', 'รส', 'ลายตา', 'สด', 'สไลด์', 'อัพเดท', 'อิ่ม', 'เนื้อ', 'เบค่อน', 'เพลิน', 'ไลน์', 'G', 'Net', 'Shabushi', 'กรอ', 'ของหวาน', 'ขาดสารอาหาร', 'ขึ้นราคา', 'ข่าว', 'คน', 'คนเดียว', 'คิว', 'คุณภาพ', 'งาน', 'จาน', 'ชั่วโมง', 'ชั้น', 'ชื่น', 'ตลับ', 'ตับ', 'ถูกใจ', 'นาที', 'นุ่ม', 'น้ำ', 'น้ำมัน', 'บางกะปิ', 'ปลาดิบ', 'ปอกเปลือก', 'ฝรั่ง', 'พนักงาน', 'มื้อ', 'รสชาติ', 'ระดับ', 'รายการ', 'ลูก', 'ลูกชิ้น', 'วันหยุด', 'วานิลา', 'สะอาด', 'สาขา', 'สาเหตุ', 'สไปรท์', 'ส่วนตัว', 'หมู', 'หวาน', 'หอม', 'หอย', 'หาไม่', 'ห้าง', 'อย่า', 'อร่อย', 'อาทิตย์', 'เดอะมอลล์', 'เด้ง', 'เบคอน', 'เปรี้ยวหวาน', 'เรื่อง', 'เวลา', 'เสาร์', 'แก้ว', 'แถม', 'แป้ง', 'แย่', 'โซน', 'โดน', 'โดยประมาณ', 'โฟลต', 'โอเค', 'โอเด้ง', 'ใจมา', 'ใช้ได้', 'ได้ยิน', 'ไอติม', 'ไอศกรีม', 'ข้าว', 'ชอคโกแลต', 'มะนาว', 'วนิลา', 'วันก่อน', 'สตอเบอร์รี่', 'หมุ', 'หลาก', 'อยุ่', 'อาหารสด', 'เดอะ', 'แกงค์', 'ขยัน', 'ชูชิ', 'บุฟเฟต์', 'ป', 'ประตู', 'ผัก', 'พี่', 'รอบ', 'เข้าหน้า', 'โชคดี', 'ขวัญใจ', 'ข้อดี', 'ซุป', 'บุฟเฟ', 'มี่', 'ระบบ', 'ลูกค้า', 'สวัสดี', 'เก้บ', 'กลยุทธ์', 'ขนาด', 'ข้น', 'ข้าวปั้น', 'คอ', 'ค่า', 'ชอป', 'ซุ้ม', 'ดำ', 'ต้มยำ', 'บริเวณ', 'บัตรสมาชิก', 'มันดี', 'ยอด', 'ลาน', 'สลัด', 'หน้า', 'หมู่คณะ', 'หม้อ', 'ออกร้าน', 'อิอิ', 'เคาน์เตอร์', 'แมคโดนัล', 'โชคชะตา', 'โต๊ะ', 'โน้น', 'โออิชิ'])\n"
          ],
          "name": "stdout"
        }
      ]
    },
    {
      "cell_type": "code",
      "metadata": {
        "id": "umYFLdiiYTbh"
      },
      "source": [
        "gensim_corpus_shabushi = [dictionary_shabushi.doc2bow(text, allow_update=True) for \n",
        "                          text in texts_shabushi]\n",
        "word_frequencies_shabushi = [[(dictionary_shabushi[id], frequence) for \n",
        "                              id, frequence in couple] for \n",
        "                             couple in gensim_corpus_shabushi]"
      ],
      "execution_count": null,
      "outputs": []
    },
    {
      "cell_type": "markdown",
      "metadata": {
        "id": "LwaneB5sOYYa"
      },
      "source": [
        "## Topic Modeling"
      ]
    },
    {
      "cell_type": "code",
      "metadata": {
        "colab": {
          "base_uri": "https://localhost:8080/"
        },
        "id": "yk3wnbFTOY3X",
        "outputId": "25a48e99-fb1b-4a43-8d5b-542e5c7f5f54"
      },
      "source": [
        "num_topics = 3\n",
        "chunksize = 4000 # size of the doc looked at every pass\n",
        "passes = 20 # number of passes through documents\n",
        "iterations = 50\n",
        "eval_every = 1  # Don't evaluate model perplexity, takes too much time.\n",
        "\n",
        "# Make a index to word dictionary.\n",
        "temp = dictionary_shabushi[0]  # This is only to \"load\" the dictionary.\n",
        "id2word_shabushi = dictionary_shabushi.id2token\n",
        "\n",
        "%time model_shabushi = gensim.models.LdaModel(corpus=gensim_corpus_shabushi, \n",
        "                                              id2word=id2word_shabushi, \n",
        "                                              chunksize=chunksize, \\\n",
        "                                              alpha='auto', eta='auto', \\\n",
        "                                              iterations=iterations, \n",
        "                                              num_topics=num_topics, \\\n",
        "                                              passes=passes, \n",
        "                                              eval_every=eval_every)"
      ],
      "execution_count": null,
      "outputs": [
        {
          "output_type": "stream",
          "text": [
            "CPU times: user 143 ms, sys: 542 µs, total: 144 ms\n",
            "Wall time: 146 ms\n"
          ],
          "name": "stdout"
        }
      ]
    },
    {
      "cell_type": "code",
      "metadata": {
        "colab": {
          "base_uri": "https://localhost:8080/",
          "height": 881
        },
        "id": "i1UQqXLzYjFZ",
        "outputId": "8052d371-bba7-4495-9c0c-28de083c4253"
      },
      "source": [
        "pyLDAvis.gensim.prepare(model_shabushi, gensim_corpus_shabushi, dictionary_shabushi)"
      ],
      "execution_count": null,
      "outputs": [
        {
          "output_type": "execute_result",
          "data": {
            "text/html": [
              "\n",
              "<link rel=\"stylesheet\" type=\"text/css\" href=\"https://cdn.rawgit.com/bmabey/pyLDAvis/files/ldavis.v1.0.0.css\">\n",
              "\n",
              "\n",
              "<div id=\"ldavis_el571398503448810324565008121\"></div>\n",
              "<script type=\"text/javascript\">\n",
              "\n",
              "var ldavis_el571398503448810324565008121_data = {\"mdsDat\": {\"x\": [-0.025683046244589537, 0.025131763834938724, 0.0005512824096507994], \"y\": [-0.0022266767228306355, -0.0023764940947571967, 0.004603170817587846], \"topics\": [1, 2, 3], \"cluster\": [1, 1, 1], \"Freq\": [58.01003691335258, 33.32212791083474, 8.667835175812682]}, \"tinfo\": {\"Term\": [\"\\u0e04\\u0e19\", \"\\u0e23\\u0e32\\u0e04\\u0e32\", \"\\u0e23\\u0e2a\\u0e0a\\u0e32\\u0e15\\u0e34\", \"\\u0e0b\\u0e39\\u0e0a\\u0e34\", \"\\u0e01\\u0e38\\u0e49\\u0e07\", \"\\u0e40\\u0e27\\u0e25\\u0e32\", \"\\u0e2a\\u0e44\\u0e25\\u0e14\\u0e4c\", \"\\u0e2a\\u0e32\\u0e22\\u0e1e\\u0e32\\u0e19\", \"\\u0e2d\\u0e23\\u0e48\\u0e2d\\u0e22\", \"\\u0e19\\u0e38\\u0e48\\u0e21\", \"\\u0e0a\\u0e31\\u0e49\\u0e19\", \"G\", \"\\u0e40\\u0e21\\u0e19\\u0e39\", \"\\u0e40\\u0e17\\u0e21\\u0e1b\\u0e38\\u0e23\\u0e30\", \"\\u0e2a\\u0e14\", \"\\u0e40\\u0e19\\u0e37\\u0e49\\u0e2d\", \"\\u0e1a\\u0e38\\u0e1f\\u0e40\\u0e1f\\u0e48\\u0e15\\u0e4c\", \"\\u0e23\\u0e2a\", \"\\u0e0a\\u0e21\", \"\\u0e04\\u0e38\\u0e49\\u0e21\", \"\\u0e44\\u0e2d\\u0e28\\u0e01\\u0e23\\u0e35\\u0e21\", \"\\u0e2b\\u0e49\\u0e32\\u0e07\", \"\\u0e0a\\u0e32\\u0e1a\\u0e39\\u0e0a\\u0e34\", \"\\u0e2b\\u0e21\\u0e49\\u0e2d\", \"\\u0e2a\\u0e32\\u0e02\\u0e32\", \"\\u0e04\\u0e34\\u0e27\", \"\\u0e21\\u0e30\\u0e19\\u0e32\\u0e27\", \"\\u0e2b\\u0e25\\u0e32\\u0e01\", \"\\u0e27\\u0e19\\u0e34\\u0e25\\u0e32\", \"\\u0e41\\u0e01\\u0e07\\u0e04\\u0e4c\", \"\\u0e15\\u0e31\\u0e27\", \"\\u0e0a\\u0e31\\u0e48\\u0e27\\u0e42\\u0e21\\u0e07\", \"\\u0e1a\\u0e38\\u0e1f\\u0e40\\u0e1f\\u0e15\\u0e4c\", \"\\u0e1c\\u0e31\\u0e01\", \"Shabushi\", \"\\u0e1e\\u0e19\\u0e31\\u0e01\\u0e07\\u0e32\\u0e19\", \"\\u0e42\\u0e2d\\u0e40\\u0e04\", \"\\u0e2b\\u0e27\\u0e32\\u0e19\", \"\\u0e1b\\u0e2d\\u0e01\\u0e40\\u0e1b\\u0e25\\u0e37\\u0e2d\\u0e01\", \"\\u0e27\\u0e32\\u0e19\\u0e34\\u0e25\\u0e32\", \"\\u0e19\\u0e32\\u0e17\\u0e35\", \"\\u0e2b\\u0e2d\\u0e21\", \"\\u0e0a\\u0e37\\u0e48\\u0e19\", \"\\u0e25\\u0e37\\u0e21\", \"\\u0e44\\u0e02\\u0e48\", \"\\u0e1b\\u0e25\\u0e32\", \"\\u0e01\\u0e25\\u0e32\\u0e22\", \"\\u0e0d\\u0e35\\u0e48\\u0e1b\\u0e38\\u0e19\", \"\\u0e40\\u0e1b\\u0e47\\u0e19\\u0e21\\u0e32\", \"\\u0e40\\u0e22\\u0e47\\u0e19\", \"\\u0e2d\\u0e32\\u0e2b\\u0e32\\u0e23\\u0e40\\u0e2a\\u0e23\\u0e34\\u0e21\", \"\\u0e0a\\u0e37\\u0e48\\u0e19\\u0e43\\u0e08\", \"\\u0e1c\\u0e34\\u0e14\\u0e2b\\u0e27\\u0e31\\u0e07\", \"\\u0e23\\u0e2d\\u0e1a\", \"\\u0e1b\\u0e23\\u0e30\\u0e15\\u0e39\", \"\\u0e1b\", \"\\u0e42\\u0e0a\\u0e04\\u0e14\\u0e35\", \"\\u0e1e\\u0e35\\u0e48\", \"\\u0e02\\u0e22\\u0e31\\u0e19\", \"\\u0e40\\u0e02\\u0e49\\u0e32\\u0e2b\\u0e19\\u0e49\\u0e32\", \"\\u0e40\\u0e27\\u0e25\\u0e32\", \"\\u0e2a\\u0e14\", \"\\u0e01\\u0e38\\u0e49\\u0e07\", \"\\u0e04\\u0e19\", \"\\u0e19\\u0e38\\u0e48\\u0e21\", \"\\u0e04\\u0e34\\u0e27\", \"\\u0e2a\\u0e32\\u0e02\\u0e32\", \"\\u0e40\\u0e17\\u0e21\\u0e1b\\u0e38\\u0e23\\u0e30\", \"\\u0e40\\u0e19\\u0e37\\u0e49\\u0e2d\", \"G\", \"\\u0e0a\\u0e31\\u0e49\\u0e19\", \"\\u0e2b\\u0e49\\u0e32\\u0e07\", \"\\u0e23\\u0e2a\\u0e0a\\u0e32\\u0e15\\u0e34\", \"\\u0e40\\u0e14\\u0e2d\\u0e30\\u0e21\\u0e2d\\u0e25\\u0e25\\u0e4c\", \"\\u0e1a\\u0e32\\u0e07\\u0e01\\u0e30\\u0e1b\\u0e34\", \"\\u0e17\\u0e2d\\u0e14\", \"\\u0e2a\\u0e44\\u0e25\\u0e14\\u0e4c\", \"\\u0e0b\\u0e39\\u0e0a\\u0e34\", \"\\u0e23\\u0e32\\u0e04\\u0e32\", \"\\u0e2a\\u0e32\\u0e22\\u0e1e\\u0e32\\u0e19\", \"\\u0e40\\u0e21\\u0e19\\u0e39\", \"\\u0e0a\\u0e32\\u0e1a\\u0e39\\u0e0a\\u0e34\", \"\\u0e2d\\u0e23\\u0e48\\u0e2d\\u0e22\", \"\\u0e04\\u0e38\\u0e49\\u0e21\", \"\\u0e2b\\u0e21\\u0e49\\u0e2d\", \"\\u0e04\\u0e48\\u0e32\", \"\\u0e2b\\u0e19\\u0e49\\u0e32\", \"\\u0e19\\u0e49\\u0e33\\u0e0b\\u0e38\\u0e1b\", \"\\u0e2a\\u0e27\\u0e31\\u0e2a\\u0e14\\u0e35\", \"\\u0e0b\\u0e38\\u0e1b\", \"\\u0e02\\u0e49\\u0e2d\\u0e14\\u0e35\", \"\\u0e02\\u0e27\\u0e31\\u0e0d\\u0e43\\u0e08\", \"\\u0e40\\u0e01\\u0e49\\u0e1a\", \"\\u0e23\\u0e30\\u0e1a\\u0e1a\", \"\\u0e1a\\u0e38\\u0e1f\\u0e40\\u0e1f\", \"\\u0e25\\u0e39\\u0e01\\u0e04\\u0e49\\u0e32\", \"\\u0e21\\u0e35\\u0e48\", \"\\u0e40\\u0e01\\u0e35\\u0e4a\\u0e22\\u0e27\", \"\\u0e02\\u0e49\\u0e19\", \"\\u0e2d\\u0e34\\u0e2d\\u0e34\", \"\\u0e02\\u0e49\\u0e32\\u0e27\\u0e1b\\u0e31\\u0e49\\u0e19\", \"\\u0e42\\u0e15\\u0e4a\\u0e30\", \"\\u0e32\\u0e19\", \"\\u0e15\\u0e49\\u0e21\\u0e22\\u0e33\", \"\\u0e42\\u0e2d\\u0e2d\\u0e34\\u0e0a\\u0e34\", \"\\u0e04\\u0e2d\", \"\\u0e41\\u0e21\\u0e04\\u0e42\\u0e14\\u0e19\\u0e31\\u0e25\", \"\\u0e0a\\u0e2d\\u0e1b\", \"\\u0e25\\u0e32\\u0e19\", \"\\u0e42\\u0e19\\u0e49\\u0e19\", \"\\u0e40\\u0e04\\u0e32\\u0e19\\u0e4c\\u0e40\\u0e15\\u0e2d\\u0e23\\u0e4c\", \"\\u0e1a\\u0e23\\u0e34\\u0e40\\u0e27\\u0e13\", \"\\u0e22\\u0e2d\\u0e14\", \"\\u0e01\\u0e25\\u0e22\\u0e38\\u0e17\\u0e18\\u0e4c\", \"\\u0e04\\u0e38\\u0e49\\u0e21\", \"\\u0e2a\\u0e32\\u0e22\\u0e1e\\u0e32\\u0e19\", \"\\u0e40\\u0e21\\u0e19\\u0e39\", \"\\u0e23\\u0e32\\u0e04\\u0e32\", \"\\u0e0b\\u0e39\\u0e0a\\u0e34\", \"\\u0e0a\\u0e32\\u0e1a\\u0e39\\u0e0a\\u0e34\", \"\\u0e2b\\u0e49\\u0e32\\u0e07\", \"\\u0e40\\u0e19\\u0e37\\u0e49\\u0e2d\", \"\\u0e40\\u0e17\\u0e21\\u0e1b\\u0e38\\u0e23\\u0e30\", \"\\u0e01\\u0e38\\u0e49\\u0e07\", \"\\u0e2a\\u0e25\\u0e31\\u0e14\", \"\\u0e2d\\u0e2d\\u0e01\\u0e23\\u0e49\\u0e32\\u0e19\", \"\\u0e2b\\u0e21\\u0e39\\u0e48\\u0e04\\u0e13\\u0e30\", \"\\u0e21\\u0e31\\u0e19\\u0e14\\u0e35\", \"\\u0e02\\u0e2d\\u0e07\\u0e01\\u0e34\\u0e19\", \"\\u0e42\\u0e0a\\u0e04\\u0e0a\\u0e30\\u0e15\\u0e32\", \"\\u0e1a\\u0e31\\u0e15\\u0e23\\u0e2a\\u0e21\\u0e32\\u0e0a\\u0e34\\u0e01\", \"\\u0e44\\u0e25\\u0e19\\u0e4c\", \"net\", \"\\u0e25\\u0e32\\u0e22\\u0e15\\u0e32\", \"\\u0e02\\u0e19\\u0e32\\u0e14\", \"\\u0e0b\\u0e38\\u0e49\\u0e21\", \"\\u0e14\\u0e33\", \"\\u0e2d\\u0e31\\u0e1e\\u0e40\\u0e14\\u0e17\", \"\\u0e40\\u0e1a\\u0e04\\u0e48\\u0e2d\\u0e19\", \"\\u0e41\\u0e1e\\u0e07\", \"\\u0e1a\\u0e38\\u0e1f\\u0e40\\u0e1f\\u0e48\\u0e15\\u0e4c\", \"\\u0e23\\u0e2a\", \"\\u0e0a\\u0e21\", \"\\u0e04\\u0e19\", \"\\u0e2d\\u0e23\\u0e48\\u0e2d\\u0e22\", \"\\u0e2a\\u0e44\\u0e25\\u0e14\\u0e4c\", \"\\u0e2a\\u0e14\", \"\\u0e2a\\u0e32\\u0e02\\u0e32\", \"\\u0e04\\u0e34\\u0e27\", \"\\u0e40\\u0e14\\u0e2d\\u0e30\\u0e21\\u0e2d\\u0e25\\u0e25\\u0e4c\", \"\\u0e1a\\u0e32\\u0e07\\u0e01\\u0e30\\u0e1b\\u0e34\", \"\\u0e17\\u0e2d\\u0e14\", \"\\u0e40\\u0e1e\\u0e25\\u0e34\\u0e19\", \"\\u0e41\\u0e16\\u0e21\", \"\\u0e04\\u0e38\\u0e13\\u0e20\\u0e32\\u0e1e\", \"\\u0e02\\u0e2d\\u0e07\\u0e2b\\u0e27\\u0e32\\u0e19\", \"\\u0e40\\u0e27\\u0e25\\u0e32\", \"\\u0e23\\u0e2a\\u0e0a\\u0e32\\u0e15\\u0e34\", \"\\u0e0a\\u0e2d\\u0e04\\u0e42\\u0e01\\u0e41\\u0e25\\u0e15\", \"\\u0e2a\\u0e15\\u0e2d\\u0e40\\u0e1a\\u0e2d\\u0e23\\u0e4c\\u0e23\\u0e35\\u0e48\", \"\\u0e2b\\u0e21\\u0e38\", \"\\u0e2d\\u0e32\\u0e2b\\u0e32\\u0e23\\u0e2a\\u0e14\", \"\\u0e40\\u0e14\\u0e2d\\u0e30\", \"\\u0e27\\u0e31\\u0e19\\u0e01\\u0e48\\u0e2d\\u0e19\", \"\\u0e02\\u0e49\\u0e32\\u0e27\", \"\\u0e2d\\u0e22\\u0e38\\u0e48\", \"\\u0e41\\u0e01\\u0e07\\u0e04\\u0e4c\", \"\\u0e27\\u0e19\\u0e34\\u0e25\\u0e32\", \"\\u0e2b\\u0e25\\u0e32\\u0e01\", \"\\u0e21\\u0e30\\u0e19\\u0e32\\u0e27\", \"\\u0e0a\\u0e21\", \"\\u0e23\\u0e2a\", \"\\u0e1a\\u0e38\\u0e1f\\u0e40\\u0e1f\\u0e48\\u0e15\\u0e4c\", \"\\u0e23\\u0e2a\\u0e0a\\u0e32\\u0e15\\u0e34\", \"\\u0e44\\u0e2d\\u0e28\\u0e01\\u0e23\\u0e35\\u0e21\", \"\\u0e2d\\u0e23\\u0e48\\u0e2d\\u0e22\", \"\\u0e0a\\u0e31\\u0e49\\u0e19\", \"G\", \"\\u0e2a\\u0e44\\u0e25\\u0e14\\u0e4c\", \"\\u0e0b\\u0e39\\u0e0a\\u0e34\", \"\\u0e19\\u0e38\\u0e48\\u0e21\", \"\\u0e23\\u0e32\\u0e04\\u0e32\", \"\\u0e40\\u0e27\\u0e25\\u0e32\", \"\\u0e02\\u0e2d\\u0e07\\u0e01\\u0e34\\u0e19\", \"\\u0e2b\\u0e21\\u0e39\\u0e48\\u0e04\\u0e13\\u0e30\", \"\\u0e2a\\u0e25\\u0e31\\u0e14\", \"\\u0e2d\\u0e2d\\u0e01\\u0e23\\u0e49\\u0e32\\u0e19\", \"net\", \"\\u0e04\\u0e19\", \"\\u0e40\\u0e1e\\u0e25\\u0e34\\u0e19\", \"\\u0e41\\u0e16\\u0e21\", \"\\u0e04\\u0e38\\u0e13\\u0e20\\u0e32\\u0e1e\", \"\\u0e02\\u0e2d\\u0e07\\u0e2b\\u0e27\\u0e32\\u0e19\", \"\\u0e2a\\u0e32\\u0e22\\u0e1e\\u0e32\\u0e19\", \"\\u0e40\\u0e21\\u0e19\\u0e39\", \"\\u0e04\\u0e38\\u0e49\\u0e21\", \"\\u0e0a\\u0e32\\u0e1a\\u0e39\\u0e0a\\u0e34\", \"\\u0e2b\\u0e49\\u0e32\\u0e07\", \"\\u0e40\\u0e19\\u0e37\\u0e49\\u0e2d\", \"\\u0e01\\u0e38\\u0e49\\u0e07\", \"\\u0e40\\u0e17\\u0e21\\u0e1b\\u0e38\\u0e23\\u0e30\", \"\\u0e2a\\u0e14\", \"\\u0e2a\\u0e32\\u0e02\\u0e32\", \"\\u0e04\\u0e34\\u0e27\", \"\\u0e40\\u0e14\\u0e2d\\u0e30\\u0e21\\u0e2d\\u0e25\\u0e25\\u0e4c\", \"\\u0e1a\\u0e32\\u0e07\\u0e01\\u0e30\\u0e1b\\u0e34\", \"\\u0e17\\u0e2d\\u0e14\", \"\\u0e15\\u0e31\\u0e27\"], \"Freq\": [9.0, 5.0, 3.0, 5.0, 11.0, 5.0, 4.0, 5.0, 3.0, 3.0, 2.0, 2.0, 4.0, 6.0, 7.0, 5.0, 1.0, 1.0, 1.0, 3.0, 1.0, 4.0, 4.0, 2.0, 4.0, 4.0, 0.0, 0.0, 0.0, 0.0, 2.665978637765232, 2.049886924825364, 1.4101756442766658, 1.4146876088222617, 1.431474459933922, 1.4336286733230212, 1.4379037249642057, 1.4474744669062771, 1.4502422434202842, 1.4510167825848312, 1.4538005724221532, 1.456040920634557, 1.4567065692005627, 0.7868596469442537, 0.7870263540680267, 0.787033686484492, 0.7870902387999883, 0.7871171243270275, 0.7871333904922895, 0.7871399643829134, 0.7874576181490918, 0.7874772555403148, 0.7875571535955912, 0.7953547149628089, 0.7956783526550679, 0.7965202320581866, 0.7965955789584156, 0.7969658238495859, 0.797436531274395, 0.8019527941330913, 3.809558828691937, 5.076899084506294, 7.913391971522343, 6.823335049565961, 2.5245498090545144, 3.1861692543529254, 3.190555219328228, 4.166078784729707, 3.5325701385460615, 1.8682523496194865, 1.8713503377163767, 2.8608344869450844, 2.1476486007854327, 1.8886979922666542, 1.8862521678319257, 1.885207256345304, 2.3157910240113666, 2.6192655823587905, 2.879370835769222, 2.645277624751516, 2.407982928999916, 2.1681439690155258, 1.5906409940386086, 1.6469731684796625, 1.4606078504138202, 1.0194934409996774, 1.0202462552822453, 1.0276461049986778, 0.5664225495160737, 0.5668203549797305, 0.5674243008430768, 0.5683146066087634, 0.568575356301748, 0.5688122386351633, 0.5691259031841509, 0.5693672878795133, 0.5695759457288938, 0.5724406582396591, 0.5725032071819792, 0.5725213134547561, 0.572707798381859, 0.5729285593547536, 0.5733328520926138, 0.573358123414511, 0.5735278576186706, 0.5736957037355622, 0.5737249448819719, 0.5737426154423023, 0.5741892691124613, 0.5742836734758702, 0.5743053138607132, 0.5743377986442246, 0.5744615893915254, 0.5747068954989062, 1.8121882901461124, 2.5217508505246866, 2.0324380271034355, 2.367471657317376, 1.8618554423978861, 1.541257740136475, 1.7129833438266824, 1.869782116874634, 1.9992235704815688, 2.738912644961153, 0.5769216218644779, 0.5769003203670934, 0.5769836382693634, 0.5767417210365665, 0.5777196534164941, 0.5765813304437595, 0.5762560953086925, 0.5767104949779005, 0.5767425440489654, 0.5765362099992994, 0.575637335222165, 0.575560988719039, 0.5755799664167088, 0.5758828833920162, 0.5755413332464523, 0.5755009572264098, 0.851495212051816, 0.8513728252668428, 0.8509565746429508, 2.284963792897847, 1.1306651812498019, 1.3254586605826921, 1.6850493347564726, 1.3059678873008058, 1.3028436354094075, 1.02190680382836, 1.0201572731181707, 1.019379574813658, 0.8526636960083472, 0.8515896164152248, 0.8507130597978501, 0.8505608509165385, 1.1046979781631039, 0.8851673603924862, 0.19665238714454605, 0.19667985286778036, 0.19734564164433924, 0.1974323834607711, 0.19743811335718175, 0.19752763826615596, 0.19753749872525384, 0.19764640453659282, 0.19766190673984887, 0.1976905562219021, 0.19773440567091716, 0.19777660541349312, 0.290298892462584, 0.2904418754160926, 0.29047162050471226, 0.5207351014532907, 0.2866077561607424, 0.3856829542359073, 0.34436964552443616, 0.3436109316805935, 0.4521846357049864, 0.5257397315033144, 0.39335842123131043, 0.5888423880488844, 0.4862645483740197, 0.08771192567374576, 0.08745077462579916, 0.08742666498474823, 0.0874204313611806, 0.08737199799503702, 0.7794680575555374, 0.18150592859993678, 0.1811289140092954, 0.18082458724740616, 0.18077145662552374, 0.4227619828385237, 0.3651528739215418, 0.2900390699950139, 0.3069871464960975, 0.3655750980245221, 0.4190859331650336, 0.7156027580943003, 0.463251722834691, 0.4654627828175373, 0.3361492213042547, 0.3350710688838134, 0.2392285650249229, 0.23862729110399422, 0.23836840053166455, 0.20892971654843093], \"Total\": [9.0, 5.0, 3.0, 5.0, 11.0, 5.0, 4.0, 5.0, 3.0, 3.0, 2.0, 2.0, 4.0, 6.0, 7.0, 5.0, 1.0, 1.0, 1.0, 3.0, 1.0, 4.0, 4.0, 2.0, 4.0, 4.0, 0.0, 0.0, 0.0, 0.0, 3.4873026819977353, 2.7138938331452684, 1.8943182510295375, 1.9031438797139077, 1.935982751966548, 1.9401998115225225, 1.9485696334621432, 1.9673094090865233, 1.972732205163443, 1.9742488141889605, 1.9797040947089337, 1.9841002526661191, 1.9854001993209345, 1.1068648156280918, 1.1071908392688778, 1.1072051052144103, 1.1073157475217976, 1.1073683233267981, 1.107400137562458, 1.1074130014822503, 1.108034295559703, 1.108072679066863, 1.1082289172839825, 1.123483158628774, 1.1241171960847538, 1.1257644373057056, 1.1259140486017385, 1.1266369131893579, 1.1275574349080333, 1.1363986035823554, 5.40052135522906, 7.227411202080304, 11.367907374577797, 9.887766900019345, 3.7503603878007827, 4.824083958646146, 4.832672327933288, 6.628554078045967, 5.821438188585729, 2.898469702072252, 2.9045483922526647, 4.939392928796289, 3.5535510626312097, 3.149833361119937, 3.145036732054091, 3.142955231690627, 4.093434320299045, 5.006860756259991, 5.8356848811354824, 5.589790458114726, 4.805573830024893, 4.016388855648098, 3.106989129524318, 3.7492005286207886, 2.332048147979242, 1.68038794715484, 1.6824631648226203, 1.7028954369769491, 0.9958855259912993, 0.9969809905526947, 0.9986444135109774, 1.0010967523059546, 1.0018149632919953, 1.0024676372163934, 1.0033316856547216, 1.0039967784518637, 1.0045717574638888, 1.012468417183436, 1.012637100936736, 1.0126873929554558, 1.0132017779987856, 1.0138096482710601, 1.0149291609796016, 1.014993623614181, 1.0154616005871602, 1.0159268369036307, 1.0160068122198653, 1.0160549853800147, 1.0172858268688307, 1.0175477861610944, 1.0176050949834559, 1.0176948422209309, 1.0180380709603636, 1.018715786818202, 3.7492005286207886, 5.589790458114726, 4.805573830024893, 5.8356848811354824, 5.006860756259991, 4.016388855648098, 4.939392928796289, 5.821438188585729, 6.628554078045967, 11.367907374577797, 1.0248223959570146, 1.0247650676266318, 1.0249974802279977, 1.0243262924752625, 1.0270436876614992, 1.0238856397823561, 1.0229884092355466, 1.0242495952590644, 1.024339812535542, 1.0237696823393478, 1.0212790933686664, 1.0210691165196886, 1.0211225467983138, 1.0219644125959184, 1.0210212392383502, 1.020912441363426, 1.8888024420849217, 1.8885046732498123, 1.8873467942223814, 9.887766900019345, 3.106989129524318, 4.093434320299045, 7.227411202080304, 4.832672327933288, 4.824083958646146, 3.149833361119937, 3.145036732054091, 3.142955231690627, 2.2336458376173343, 2.2306561159049556, 2.2282408581400595, 2.227817653159134, 5.40052135522906, 3.5535510626312097, 0.8123880193380482, 0.8126142756800528, 0.8180436635133396, 0.8187518801109172, 0.8187988155452589, 0.8195286701108839, 0.8196095327779839, 0.8205081587855241, 0.8206313122850788, 0.8208725219943663, 0.8212341039375203, 0.821573207762927, 1.8873467942223814, 1.8885046732498123, 1.8888024420849217, 3.5535510626312097, 1.988181747981494, 3.106989129524318, 2.9045483922526647, 2.898469702072252, 4.093434320299045, 5.006860756259991, 3.7503603878007827, 5.8356848811354824, 5.40052135522906, 1.0270436876614992, 1.0249974802279977, 1.0248223959570146, 1.0247650676266318, 1.024339812535542, 9.887766900019345, 2.2336458376173343, 2.2306561159049556, 2.2282408581400595, 2.227817653159134, 5.589790458114726, 4.805573830024893, 3.7492005286207886, 4.016388855648098, 4.939392928796289, 5.821438188585729, 11.367907374577797, 6.628554078045967, 7.227411202080304, 4.832672327933288, 4.824083958646146, 3.149833361119937, 3.145036732054091, 3.142955231690627, 3.4873026819977353], \"Category\": [\"Default\", \"Default\", \"Default\", \"Default\", \"Default\", \"Default\", \"Default\", \"Default\", \"Default\", \"Default\", \"Default\", \"Default\", \"Default\", \"Default\", \"Default\", \"Default\", \"Default\", \"Default\", \"Default\", \"Default\", \"Default\", \"Default\", \"Default\", \"Default\", \"Default\", \"Default\", \"Default\", \"Default\", \"Default\", \"Default\", \"Topic1\", \"Topic1\", \"Topic1\", \"Topic1\", \"Topic1\", \"Topic1\", \"Topic1\", \"Topic1\", \"Topic1\", \"Topic1\", \"Topic1\", \"Topic1\", \"Topic1\", \"Topic1\", \"Topic1\", \"Topic1\", \"Topic1\", \"Topic1\", \"Topic1\", \"Topic1\", \"Topic1\", \"Topic1\", \"Topic1\", \"Topic1\", \"Topic1\", \"Topic1\", \"Topic1\", \"Topic1\", \"Topic1\", \"Topic1\", \"Topic1\", \"Topic1\", \"Topic1\", \"Topic1\", \"Topic1\", \"Topic1\", \"Topic1\", \"Topic1\", \"Topic1\", \"Topic1\", \"Topic1\", \"Topic1\", \"Topic1\", \"Topic1\", \"Topic1\", \"Topic1\", \"Topic1\", \"Topic1\", \"Topic1\", \"Topic1\", \"Topic1\", \"Topic1\", \"Topic1\", \"Topic1\", \"Topic2\", \"Topic2\", \"Topic2\", \"Topic2\", \"Topic2\", \"Topic2\", \"Topic2\", \"Topic2\", \"Topic2\", \"Topic2\", \"Topic2\", \"Topic2\", \"Topic2\", \"Topic2\", \"Topic2\", \"Topic2\", \"Topic2\", \"Topic2\", \"Topic2\", \"Topic2\", \"Topic2\", \"Topic2\", \"Topic2\", \"Topic2\", \"Topic2\", \"Topic2\", \"Topic2\", \"Topic2\", \"Topic2\", \"Topic2\", \"Topic2\", \"Topic2\", \"Topic2\", \"Topic2\", \"Topic2\", \"Topic2\", \"Topic2\", \"Topic2\", \"Topic2\", \"Topic2\", \"Topic2\", \"Topic2\", \"Topic2\", \"Topic2\", \"Topic2\", \"Topic2\", \"Topic2\", \"Topic2\", \"Topic2\", \"Topic2\", \"Topic2\", \"Topic2\", \"Topic2\", \"Topic2\", \"Topic2\", \"Topic2\", \"Topic2\", \"Topic2\", \"Topic2\", \"Topic2\", \"Topic2\", \"Topic2\", \"Topic2\", \"Topic2\", \"Topic2\", \"Topic2\", \"Topic2\", \"Topic2\", \"Topic2\", \"Topic2\", \"Topic2\", \"Topic2\", \"Topic2\", \"Topic2\", \"Topic3\", \"Topic3\", \"Topic3\", \"Topic3\", \"Topic3\", \"Topic3\", \"Topic3\", \"Topic3\", \"Topic3\", \"Topic3\", \"Topic3\", \"Topic3\", \"Topic3\", \"Topic3\", \"Topic3\", \"Topic3\", \"Topic3\", \"Topic3\", \"Topic3\", \"Topic3\", \"Topic3\", \"Topic3\", \"Topic3\", \"Topic3\", \"Topic3\", \"Topic3\", \"Topic3\", \"Topic3\", \"Topic3\", \"Topic3\", \"Topic3\", \"Topic3\", \"Topic3\", \"Topic3\", \"Topic3\", \"Topic3\", \"Topic3\", \"Topic3\", \"Topic3\", \"Topic3\", \"Topic3\", \"Topic3\", \"Topic3\", \"Topic3\", \"Topic3\", \"Topic3\", \"Topic3\", \"Topic3\", \"Topic3\", \"Topic3\"], \"logprob\": [30.0, 29.0, 28.0, 27.0, 26.0, 25.0, 24.0, 23.0, 22.0, 21.0, 20.0, 19.0, 18.0, 17.0, 16.0, 15.0, 14.0, 13.0, 12.0, 11.0, 10.0, 9.0, 8.0, 7.0, 6.0, 5.0, 4.0, 3.0, 2.0, 1.0, -4.217899799346924, -4.4807000160217285, -4.854700088500977, -4.851500034332275, -4.839700222015381, -4.838200092315674, -4.835299968719482, -4.82859992980957, -4.826700210571289, -4.826200008392334, -4.8242998123168945, -4.822700023651123, -4.822299957275391, -5.438199996948242, -5.437900066375732, -5.437900066375732, -5.437900066375732, -5.43779993057251, -5.43779993057251, -5.43779993057251, -5.437399864196777, -5.437399864196777, -5.437300205230713, -5.4274001121521, -5.427000045776367, -5.426000118255615, -5.425899982452393, -5.4253997802734375, -5.424799919128418, -5.4191999435424805, -3.8608999252319336, -3.573699951171875, -3.1298999786376953, -3.27810001373291, -4.27239990234375, -4.039599895477295, -4.038300037384033, -3.7715001106262207, -3.9363999366760254, -4.573400020599365, -4.571800231933594, -4.147299766540527, -4.434100151062012, -4.562600135803223, -4.563899993896484, -4.5644001960754395, -4.358699798583984, -4.235599994659424, -4.140900135040283, -4.2256999015808105, -4.319699764251709, -4.424600124359131, -4.734300136566162, -4.69950008392334, -4.265200138092041, -4.62470006942749, -4.624000072479248, -4.616799831390381, -5.212500095367432, -5.2118000984191895, -5.210700035095215, -5.209099769592285, -5.208700180053711, -5.2083001136779785, -5.207699775695801, -5.207300186157227, -5.206900119781494, -5.201900005340576, -5.2017998695373535, -5.2017998695373535, -5.201399803161621, -5.201000213623047, -5.200300216674805, -5.200300216674805, -5.199999809265137, -5.199699878692627, -5.199699878692627, -5.1996002197265625, -5.19890022277832, -5.198699951171875, -5.198599815368652, -5.198599815368652, -5.198400020599365, -5.197999954223633, -4.049499988555908, -3.719099998474121, -3.934799909591675, -3.7822000980377197, -4.022500038146973, -4.21150016784668, -4.105800151824951, -4.018199920654297, -3.9512999057769775, -3.6364998817443848, -5.1940999031066895, -5.1940999031066895, -5.193999767303467, -5.194399833679199, -5.192699909210205, -5.194699764251709, -5.195300102233887, -5.194499969482422, -5.194399833679199, -5.194799900054932, -5.196300029754639, -5.196499824523926, -5.196400165557861, -5.195899963378906, -5.196499824523926, -5.196599960327148, -4.804800033569336, -4.804999828338623, -4.8053998947143555, -3.817699909210205, -4.521200180053711, -4.362299919128418, -4.122300148010254, -4.377099990844727, -4.379499912261963, -4.622399806976318, -4.624100208282471, -4.624899864196777, -4.803400039672852, -4.804699897766113, -4.805699825286865, -4.8059000968933105, -4.54449987411499, -4.765999794006348, -4.923799991607666, -4.923600196838379, -4.920300006866455, -4.9197998046875, -4.9197998046875, -4.919300079345703, -4.919300079345703, -4.918700218200684, -4.918600082397461, -4.918499946594238, -4.918300151824951, -4.918099880218506, -4.534299850463867, -4.53380012512207, -4.533699989318848, -3.950000047683716, -4.547100067138672, -4.250199794769287, -4.363500118255615, -4.365699768066406, -4.091100215911865, -3.9403998851776123, -4.230500221252441, -3.8269999027252197, -4.018499851226807, -5.731100082397461, -5.734099864959717, -5.734399795532227, -5.734499931335449, -5.735000133514404, -3.546600103378296, -5.003900051116943, -5.00600004196167, -5.007699966430664, -5.007999897003174, -4.158400058746338, -4.304900169372559, -4.535200119018555, -4.478400230407715, -4.303699970245361, -4.167099952697754, -3.6321001052856445, -4.06689977645874, -4.06220006942749, -4.387700080871582, -4.390900135040283, -4.727799892425537, -4.730299949645996, -4.731400012969971, -4.8632001876831055], \"loglift\": [30.0, 29.0, 28.0, 27.0, 26.0, 25.0, 24.0, 23.0, 22.0, 21.0, 20.0, 19.0, 18.0, 17.0, 16.0, 15.0, 14.0, 13.0, 12.0, 11.0, 10.0, 9.0, 8.0, 7.0, 6.0, 5.0, 4.0, 3.0, 2.0, 1.0, 0.276, 0.264, 0.2494, 0.248, 0.2426, 0.242, 0.2406, 0.2377, 0.2369, 0.2366, 0.2358, 0.2351, 0.2349, 0.2033, 0.2032, 0.2032, 0.2032, 0.2032, 0.2032, 0.2032, 0.203, 0.203, 0.203, 0.1992, 0.199, 0.1986, 0.1986, 0.1984, 0.1981, 0.196, 0.1956, 0.1914, 0.1823, 0.1736, 0.1488, 0.1298, 0.1293, 0.0801, 0.045, 0.1054, 0.1049, -0.0016, 0.041, 0.0331, 0.0333, 0.0334, -0.0251, -0.1034, -0.1619, -0.2036, -0.1464, -0.072, -0.125, -0.278, 0.6311, 0.5992, 0.5987, 0.5939, 0.5347, 0.5343, 0.5337, 0.5328, 0.5325, 0.5323, 0.532, 0.5317, 0.5315, 0.5287, 0.5287, 0.5286, 0.5285, 0.5282, 0.5278, 0.5278, 0.5277, 0.5275, 0.5275, 0.5274, 0.527, 0.5269, 0.5269, 0.5269, 0.5267, 0.5265, 0.3719, 0.303, 0.2384, 0.1968, 0.1097, 0.1412, 0.0399, -0.0368, -0.0997, -0.3243, 0.5244, 0.5244, 0.5243, 0.5246, 0.5236, 0.5247, 0.525, 0.5246, 0.5245, 0.5247, 0.5256, 0.5257, 0.5257, 0.5254, 0.5257, 0.5257, 0.3022, 0.3023, 0.3024, -0.366, 0.0881, -0.0287, -0.3571, -0.2095, -0.2101, -0.0267, -0.0269, -0.027, 0.1359, 0.136, 0.1361, 0.1361, -0.488, -0.291, 1.027, 1.0269, 1.0236, 1.0232, 1.0231, 1.0227, 1.0227, 1.0221, 1.022, 1.0219, 1.0217, 1.0215, 0.5735, 0.5734, 0.5734, 0.5251, 0.5087, 0.3592, 0.3132, 0.3131, 0.2425, 0.1918, 0.1907, 0.152, 0.0381, -0.0148, -0.0158, -0.0159, -0.0159, -0.0161, -0.0949, -0.0646, -0.0653, -0.0659, -0.066, -0.1363, -0.1317, -0.1137, -0.1258, -0.158, -0.1857, -0.3199, -0.2153, -0.2971, -0.22, -0.2215, -0.1321, -0.1331, -0.1336, -0.3693]}, \"token.table\": {\"Topic\": [1, 2, 1, 2, 2, 1, 1, 2, 3, 2, 1, 2, 2, 1, 2, 2, 2, 2, 1, 2, 3, 2, 1, 2, 1, 2, 1, 2, 1, 2, 1, 2, 2, 1, 1, 2, 1, 2, 1, 1, 2, 2, 1, 2, 3, 1, 2, 1, 2, 2, 1, 2, 1, 1, 2, 1, 2, 2, 2, 1, 2, 2, 1, 1, 2, 1, 1, 1, 1, 1, 1, 1, 1, 2, 2, 2, 1, 2, 1, 2, 3, 1, 2, 1, 2, 3, 2, 2, 1, 2, 1, 1, 2, 2, 2, 1, 2, 1, 2, 1, 2, 1, 2, 2, 1, 2, 1, 1, 1, 2, 1, 2, 2, 2, 1, 2, 2, 2, 2, 1, 2, 1, 2, 1, 2, 1, 2, 2, 1, 1, 2, 1, 2, 1, 1, 2, 1, 2, 2, 2, 2, 1, 2, 2, 2, 1, 1, 2, 1, 2], \"Freq\": [0.6900192879608527, 0.34500964398042633, 0.5165335274729137, 0.976238537018986, 0.9816280585219379, 0.903084781588293, 0.7037355017415524, 0.26390081315308217, 0.08796693771769405, 0.9791642720321653, 0.8868727827434908, 0.9989044492418656, 0.9736684154857369, 0.4488697710882937, 0.4488697710882937, 0.9875206024694867, 1.0013574265981788, 0.9869702380261699, 0.7079454917152532, 0.20227014049007233, 0.10113507024503617, 0.9843228504995764, 0.62187972384335, 0.20729324128111665, 0.4487845182206705, 0.4487845182206705, 0.5334470601751825, 0.5334470601751825, 0.5951006740396804, 0.5951006740396804, 0.5298443312385612, 0.5298443312385612, 0.9841987041931496, 0.7369485038705803, 0.6885752034067062, 0.3442876017033531, 0.4979597523749411, 0.4979597523749411, 0.503676790373059, 0.9024678785890888, 1.0030281514651864, 0.9793656313967241, 0.5991778373802691, 0.399451891586846, 0.199725945793423, 0.9030419047889702, 0.9793143860503887, 0.860263726313949, 0.286754575437983, 0.9852278642295389, 0.6363437760213276, 0.3181718880106638, 0.5051259946739793, 0.7999231246571492, 0.26664104155238305, 0.5872351163118046, 0.5872351163118046, 0.9826128211652178, 0.977528182110367, 0.6359226204311316, 0.3179613102155658, 0.9966793776152424, 0.5278944018284747, 0.52943599484982, 0.52943599484982, 0.8882852991815073, 0.889586960757252, 0.9031750262805643, 0.5069111749595779, 0.5254463473094457, 0.9023406485825807, 0.5154108324622892, 0.8875974045348242, 0.9762514223700355, 0.9954490483831334, 0.9822815359514527, 0.5295194733509243, 0.5295194733509243, 0.5628172959245757, 0.2814086479622879, 0.2814086479622879, 0.8900889989490481, 0.9975384370280067, 0.514078477694682, 0.342718985129788, 0.171359492564894, 0.9830078957041642, 0.9767821974518396, 0.9034526943857627, 0.9960191321947998, 0.5065217680836289, 0.6918106442540344, 0.27672425770161374, 0.975778831478566, 1.0041314728463446, 0.6207745521374842, 0.20692485071249472, 0.536692747694126, 0.536692747694126, 0.48858729455658895, 0.24429364727829447, 0.5943666529575574, 0.5943666529575574, 0.9756121544587237, 0.42880761311318394, 0.42880761311318394, 0.5083084518282907, 0.5040067903102466, 0.6073620874561781, 0.4049080583041188, 0.6437100088297384, 0.3218550044148692, 0.9758334193768061, 0.9785076541558565, 0.9024991410530923, 0.9874715602823606, 0.9852904404035527, 0.9876851297563222, 0.9981883248319318, 0.8799729222190384, 0.9826994822743669, 0.6349542247812409, 0.31747711239062043, 0.6034498554138915, 0.30172492770694576, 0.6871154292839391, 0.34355771464196955, 0.9794115553815204, 0.9030159615124659, 0.4476985487845808, 0.4476985487845808, 0.4161833884445055, 0.4161833884445055, 0.9030054719075177, 0.7406692311524694, 0.18516730778811735, 0.448298593794817, 0.448298593794817, 0.9795159305380806, 0.9842453691969917, 0.9766715745838243, 0.8881672639593494, 0.9863784603997299, 0.9827548284220665, 0.984773820518452, 0.5131969537179119, 0.9031866635207529, 0.9763245254171362, 0.5029721256697243, 0.5029721256697243], \"Term\": [\"G\", \"G\", \"Shabushi\", \"net\", \"\\u0e01\\u0e25\\u0e22\\u0e38\\u0e17\\u0e18\\u0e4c\", \"\\u0e01\\u0e25\\u0e32\\u0e22\", \"\\u0e01\\u0e38\\u0e49\\u0e07\", \"\\u0e01\\u0e38\\u0e49\\u0e07\", \"\\u0e01\\u0e38\\u0e49\\u0e07\", \"\\u0e02\\u0e19\\u0e32\\u0e14\", \"\\u0e02\\u0e22\\u0e31\\u0e19\", \"\\u0e02\\u0e27\\u0e31\\u0e0d\\u0e43\\u0e08\", \"\\u0e02\\u0e2d\\u0e07\\u0e01\\u0e34\\u0e19\", \"\\u0e02\\u0e2d\\u0e07\\u0e2b\\u0e27\\u0e32\\u0e19\", \"\\u0e02\\u0e2d\\u0e07\\u0e2b\\u0e27\\u0e32\\u0e19\", \"\\u0e02\\u0e49\\u0e19\", \"\\u0e02\\u0e49\\u0e2d\\u0e14\\u0e35\", \"\\u0e02\\u0e49\\u0e32\\u0e27\\u0e1b\\u0e31\\u0e49\\u0e19\", \"\\u0e04\\u0e19\", \"\\u0e04\\u0e19\", \"\\u0e04\\u0e19\", \"\\u0e04\\u0e2d\", \"\\u0e04\\u0e34\\u0e27\", \"\\u0e04\\u0e34\\u0e27\", \"\\u0e04\\u0e38\\u0e13\\u0e20\\u0e32\\u0e1e\", \"\\u0e04\\u0e38\\u0e13\\u0e20\\u0e32\\u0e1e\", \"\\u0e04\\u0e38\\u0e49\\u0e21\", \"\\u0e04\\u0e38\\u0e49\\u0e21\", \"\\u0e04\\u0e48\\u0e32\", \"\\u0e04\\u0e48\\u0e32\", \"\\u0e0a\\u0e21\", \"\\u0e0a\\u0e21\", \"\\u0e0a\\u0e2d\\u0e1b\", \"\\u0e0a\\u0e31\\u0e48\\u0e27\\u0e42\\u0e21\\u0e07\", \"\\u0e0a\\u0e31\\u0e49\\u0e19\", \"\\u0e0a\\u0e31\\u0e49\\u0e19\", \"\\u0e0a\\u0e32\\u0e1a\\u0e39\\u0e0a\\u0e34\", \"\\u0e0a\\u0e32\\u0e1a\\u0e39\\u0e0a\\u0e34\", \"\\u0e0a\\u0e37\\u0e48\\u0e19\", \"\\u0e0a\\u0e37\\u0e48\\u0e19\\u0e43\\u0e08\", \"\\u0e0b\\u0e38\\u0e1b\", \"\\u0e0b\\u0e38\\u0e49\\u0e21\", \"\\u0e0b\\u0e39\\u0e0a\\u0e34\", \"\\u0e0b\\u0e39\\u0e0a\\u0e34\", \"\\u0e0b\\u0e39\\u0e0a\\u0e34\", \"\\u0e0d\\u0e35\\u0e48\\u0e1b\\u0e38\\u0e19\", \"\\u0e14\\u0e33\", \"\\u0e15\\u0e31\\u0e27\", \"\\u0e15\\u0e31\\u0e27\", \"\\u0e15\\u0e49\\u0e21\\u0e22\\u0e33\", \"\\u0e17\\u0e2d\\u0e14\", \"\\u0e17\\u0e2d\\u0e14\", \"\\u0e19\\u0e32\\u0e17\\u0e35\", \"\\u0e19\\u0e38\\u0e48\\u0e21\", \"\\u0e19\\u0e38\\u0e48\\u0e21\", \"\\u0e19\\u0e49\\u0e33\\u0e0b\\u0e38\\u0e1b\", \"\\u0e19\\u0e49\\u0e33\\u0e0b\\u0e38\\u0e1b\", \"\\u0e1a\\u0e23\\u0e34\\u0e40\\u0e27\\u0e13\", \"\\u0e1a\\u0e31\\u0e15\\u0e23\\u0e2a\\u0e21\\u0e32\\u0e0a\\u0e34\\u0e01\", \"\\u0e1a\\u0e32\\u0e07\\u0e01\\u0e30\\u0e1b\\u0e34\", \"\\u0e1a\\u0e32\\u0e07\\u0e01\\u0e30\\u0e1b\\u0e34\", \"\\u0e1a\\u0e38\\u0e1f\\u0e40\\u0e1f\", \"\\u0e1a\\u0e38\\u0e1f\\u0e40\\u0e1f\\u0e15\\u0e4c\", \"\\u0e1a\\u0e38\\u0e1f\\u0e40\\u0e1f\\u0e48\\u0e15\\u0e4c\", \"\\u0e1a\\u0e38\\u0e1f\\u0e40\\u0e1f\\u0e48\\u0e15\\u0e4c\", \"\\u0e1b\", \"\\u0e1b\\u0e23\\u0e30\\u0e15\\u0e39\", \"\\u0e1b\\u0e25\\u0e32\", \"\\u0e1b\\u0e2d\\u0e01\\u0e40\\u0e1b\\u0e25\\u0e37\\u0e2d\\u0e01\", \"\\u0e1c\\u0e31\\u0e01\", \"\\u0e1c\\u0e34\\u0e14\\u0e2b\\u0e27\\u0e31\\u0e07\", \"\\u0e1e\\u0e19\\u0e31\\u0e01\\u0e07\\u0e32\\u0e19\", \"\\u0e1e\\u0e35\\u0e48\", \"\\u0e21\\u0e31\\u0e19\\u0e14\\u0e35\", \"\\u0e21\\u0e35\\u0e48\", \"\\u0e22\\u0e2d\\u0e14\", \"\\u0e23\\u0e2a\", \"\\u0e23\\u0e2a\", \"\\u0e23\\u0e2a\\u0e0a\\u0e32\\u0e15\\u0e34\", \"\\u0e23\\u0e2a\\u0e0a\\u0e32\\u0e15\\u0e34\", \"\\u0e23\\u0e2a\\u0e0a\\u0e32\\u0e15\\u0e34\", \"\\u0e23\\u0e2d\\u0e1a\", \"\\u0e23\\u0e30\\u0e1a\\u0e1a\", \"\\u0e23\\u0e32\\u0e04\\u0e32\", \"\\u0e23\\u0e32\\u0e04\\u0e32\", \"\\u0e23\\u0e32\\u0e04\\u0e32\", \"\\u0e25\\u0e32\\u0e19\", \"\\u0e25\\u0e32\\u0e22\\u0e15\\u0e32\", \"\\u0e25\\u0e37\\u0e21\", \"\\u0e25\\u0e39\\u0e01\\u0e04\\u0e49\\u0e32\", \"\\u0e27\\u0e32\\u0e19\\u0e34\\u0e25\\u0e32\", \"\\u0e2a\\u0e14\", \"\\u0e2a\\u0e14\", \"\\u0e2a\\u0e25\\u0e31\\u0e14\", \"\\u0e2a\\u0e27\\u0e31\\u0e2a\\u0e14\\u0e35\", \"\\u0e2a\\u0e32\\u0e02\\u0e32\", \"\\u0e2a\\u0e32\\u0e02\\u0e32\", \"\\u0e2a\\u0e32\\u0e22\\u0e1e\\u0e32\\u0e19\", \"\\u0e2a\\u0e32\\u0e22\\u0e1e\\u0e32\\u0e19\", \"\\u0e2a\\u0e44\\u0e25\\u0e14\\u0e4c\", \"\\u0e2a\\u0e44\\u0e25\\u0e14\\u0e4c\", \"\\u0e2b\\u0e19\\u0e49\\u0e32\", \"\\u0e2b\\u0e19\\u0e49\\u0e32\", \"\\u0e2b\\u0e21\\u0e39\\u0e48\\u0e04\\u0e13\\u0e30\", \"\\u0e2b\\u0e21\\u0e49\\u0e2d\", \"\\u0e2b\\u0e21\\u0e49\\u0e2d\", \"\\u0e2b\\u0e27\\u0e32\\u0e19\", \"\\u0e2b\\u0e2d\\u0e21\", \"\\u0e2b\\u0e49\\u0e32\\u0e07\", \"\\u0e2b\\u0e49\\u0e32\\u0e07\", \"\\u0e2d\\u0e23\\u0e48\\u0e2d\\u0e22\", \"\\u0e2d\\u0e23\\u0e48\\u0e2d\\u0e22\", \"\\u0e2d\\u0e2d\\u0e01\\u0e23\\u0e49\\u0e32\\u0e19\", \"\\u0e2d\\u0e31\\u0e1e\\u0e40\\u0e14\\u0e17\", \"\\u0e2d\\u0e32\\u0e2b\\u0e32\\u0e23\\u0e40\\u0e2a\\u0e23\\u0e34\\u0e21\", \"\\u0e2d\\u0e34\\u0e2d\\u0e34\", \"\\u0e32\\u0e19\", \"\\u0e40\\u0e01\\u0e35\\u0e4a\\u0e22\\u0e27\", \"\\u0e40\\u0e01\\u0e49\\u0e1a\", \"\\u0e40\\u0e02\\u0e49\\u0e32\\u0e2b\\u0e19\\u0e49\\u0e32\", \"\\u0e40\\u0e04\\u0e32\\u0e19\\u0e4c\\u0e40\\u0e15\\u0e2d\\u0e23\\u0e4c\", \"\\u0e40\\u0e14\\u0e2d\\u0e30\\u0e21\\u0e2d\\u0e25\\u0e25\\u0e4c\", \"\\u0e40\\u0e14\\u0e2d\\u0e30\\u0e21\\u0e2d\\u0e25\\u0e25\\u0e4c\", \"\\u0e40\\u0e17\\u0e21\\u0e1b\\u0e38\\u0e23\\u0e30\", \"\\u0e40\\u0e17\\u0e21\\u0e1b\\u0e38\\u0e23\\u0e30\", \"\\u0e40\\u0e19\\u0e37\\u0e49\\u0e2d\", \"\\u0e40\\u0e19\\u0e37\\u0e49\\u0e2d\", \"\\u0e40\\u0e1a\\u0e04\\u0e48\\u0e2d\\u0e19\", \"\\u0e40\\u0e1b\\u0e47\\u0e19\\u0e21\\u0e32\", \"\\u0e40\\u0e1e\\u0e25\\u0e34\\u0e19\", \"\\u0e40\\u0e1e\\u0e25\\u0e34\\u0e19\", \"\\u0e40\\u0e21\\u0e19\\u0e39\", \"\\u0e40\\u0e21\\u0e19\\u0e39\", \"\\u0e40\\u0e22\\u0e47\\u0e19\", \"\\u0e40\\u0e27\\u0e25\\u0e32\", \"\\u0e40\\u0e27\\u0e25\\u0e32\", \"\\u0e41\\u0e16\\u0e21\", \"\\u0e41\\u0e16\\u0e21\", \"\\u0e41\\u0e1e\\u0e07\", \"\\u0e41\\u0e21\\u0e04\\u0e42\\u0e14\\u0e19\\u0e31\\u0e25\", \"\\u0e42\\u0e0a\\u0e04\\u0e0a\\u0e30\\u0e15\\u0e32\", \"\\u0e42\\u0e0a\\u0e04\\u0e14\\u0e35\", \"\\u0e42\\u0e15\\u0e4a\\u0e30\", \"\\u0e42\\u0e19\\u0e49\\u0e19\", \"\\u0e42\\u0e2d\\u0e2d\\u0e34\\u0e0a\\u0e34\", \"\\u0e42\\u0e2d\\u0e40\\u0e04\", \"\\u0e44\\u0e02\\u0e48\", \"\\u0e44\\u0e25\\u0e19\\u0e4c\", \"\\u0e44\\u0e2d\\u0e28\\u0e01\\u0e23\\u0e35\\u0e21\", \"\\u0e44\\u0e2d\\u0e28\\u0e01\\u0e23\\u0e35\\u0e21\"]}, \"R\": 30, \"lambda.step\": 0.01, \"plot.opts\": {\"xlab\": \"PC1\", \"ylab\": \"PC2\"}, \"topic.order\": [1, 3, 2]};\n",
              "\n",
              "function LDAvis_load_lib(url, callback){\n",
              "  var s = document.createElement('script');\n",
              "  s.src = url;\n",
              "  s.async = true;\n",
              "  s.onreadystatechange = s.onload = callback;\n",
              "  s.onerror = function(){console.warn(\"failed to load library \" + url);};\n",
              "  document.getElementsByTagName(\"head\")[0].appendChild(s);\n",
              "}\n",
              "\n",
              "if(typeof(LDAvis) !== \"undefined\"){\n",
              "   // already loaded: just create the visualization\n",
              "   !function(LDAvis){\n",
              "       new LDAvis(\"#\" + \"ldavis_el571398503448810324565008121\", ldavis_el571398503448810324565008121_data);\n",
              "   }(LDAvis);\n",
              "}else if(typeof define === \"function\" && define.amd){\n",
              "   // require.js is available: use it to load d3/LDAvis\n",
              "   require.config({paths: {d3: \"https://cdnjs.cloudflare.com/ajax/libs/d3/3.5.5/d3.min\"}});\n",
              "   require([\"d3\"], function(d3){\n",
              "      window.d3 = d3;\n",
              "      LDAvis_load_lib(\"https://cdn.rawgit.com/bmabey/pyLDAvis/files/ldavis.v1.0.0.js\", function(){\n",
              "        new LDAvis(\"#\" + \"ldavis_el571398503448810324565008121\", ldavis_el571398503448810324565008121_data);\n",
              "      });\n",
              "    });\n",
              "}else{\n",
              "    // require.js not available: dynamically load d3 & LDAvis\n",
              "    LDAvis_load_lib(\"https://cdnjs.cloudflare.com/ajax/libs/d3/3.5.5/d3.min.js\", function(){\n",
              "         LDAvis_load_lib(\"https://cdn.rawgit.com/bmabey/pyLDAvis/files/ldavis.v1.0.0.js\", function(){\n",
              "                 new LDAvis(\"#\" + \"ldavis_el571398503448810324565008121\", ldavis_el571398503448810324565008121_data);\n",
              "            })\n",
              "         });\n",
              "}\n",
              "</script>"
            ],
            "text/plain": [
              "PreparedData(topic_coordinates=              x         y  topics  cluster       Freq\n",
              "topic                                                \n",
              "0     -0.025683 -0.002227       1        1  58.010037\n",
              "2      0.025132 -0.002376       2        1  33.322128\n",
              "1      0.000551  0.004603       3        1   8.667835, topic_info=         Term       Freq      Total Category  logprob  loglift\n",
              "54         คน   9.000000   9.000000  Default  30.0000  30.0000\n",
              "7        ราคา   5.000000   5.000000  Default  29.0000  29.0000\n",
              "76     รสชาติ   3.000000   3.000000  Default  28.0000  28.0000\n",
              "3        ซูชิ   5.000000   5.000000  Default  27.0000  27.0000\n",
              "0        กุ้ง  11.000000  11.000000  Default  26.0000  26.0000\n",
              "..        ...        ...        ...      ...      ...      ...\n",
              "56        คิว   0.335071   4.824084   Topic3  -4.3909  -0.2215\n",
              "97  เดอะมอลล์   0.239229   3.149833   Topic3  -4.7278  -0.1321\n",
              "70    บางกะปิ   0.238627   3.145037   Topic3  -4.7303  -0.1331\n",
              "22        ทอด   0.238368   3.142955   Topic3  -4.7314  -0.1336\n",
              "21        ตัว   0.208930   3.487303   Topic3  -4.8632  -0.3693\n",
              "\n",
              "[208 rows x 6 columns], token_table=      Topic      Freq      Term\n",
              "term                           \n",
              "46        1  0.690019         G\n",
              "46        2  0.345010         G\n",
              "48        1  0.516534  Shabushi\n",
              "31        2  0.976239       net\n",
              "150       2  0.981628   กลยุทธ์\n",
              "...     ...       ...       ...\n",
              "112       1  0.513197      โอเค\n",
              "30        1  0.903187       ไข่\n",
              "45        2  0.976325      ไลน์\n",
              "118       1  0.502972   ไอศกรีม\n",
              "118       2  0.502972   ไอศกรีม\n",
              "\n",
              "[150 rows x 3 columns], R=30, lambda_step=0.01, plot_opts={'xlab': 'PC1', 'ylab': 'PC2'}, topic_order=[1, 3, 2])"
            ]
          },
          "metadata": {
            "tags": []
          },
          "execution_count": 70
        }
      ]
    },
    {
      "cell_type": "code",
      "metadata": {
        "colab": {
          "base_uri": "https://localhost:8080/"
        },
        "id": "9ntrLFXYLVN2",
        "outputId": "5b2aa740-03e7-4cec-f078-8ad310e9cc3f"
      },
      "source": [
        "model_shabushi.show_topics()"
      ],
      "execution_count": null,
      "outputs": [
        {
          "output_type": "execute_result",
          "data": {
            "text/plain": [
              "[(0,\n",
              "  '0.044*\"กุ้ง\" + 0.038*\"คน\" + 0.028*\"สด\" + 0.023*\"เทมปุระ\" + 0.021*\"เวลา\" + 0.020*\"เนื้อ\" + 0.018*\"สาขา\" + 0.018*\"คิว\" + 0.016*\"ราคา\" + 0.016*\"ห้าง\"'),\n",
              " (1,\n",
              "  '0.029*\"คน\" + 0.026*\"กุ้ง\" + 0.022*\"ราคา\" + 0.019*\"ซูชิ\" + 0.019*\"รสชาติ\" + 0.018*\"เวลา\" + 0.017*\"สด\" + 0.017*\"เทมปุระ\" + 0.017*\"สไลด์\" + 0.016*\"สายพาน\"'),\n",
              " (2,\n",
              "  '0.026*\"กุ้ง\" + 0.024*\"สายพาน\" + 0.023*\"ราคา\" + 0.022*\"คน\" + 0.020*\"เมนู\" + 0.019*\"เทมปุระ\" + 0.018*\"เนื้อ\" + 0.018*\"ซูชิ\" + 0.017*\"คุ้ม\" + 0.016*\"ห้าง\"')]"
            ]
          },
          "metadata": {
            "tags": []
          },
          "execution_count": 71
        }
      ]
    },
    {
      "cell_type": "code",
      "metadata": {
        "colab": {
          "base_uri": "https://localhost:8080/"
        },
        "id": "ZY4uvvSeYoqE",
        "outputId": "540dfd87-494c-49a3-df9c-dceb690535e3"
      },
      "source": [
        "model_shabushi.show_topic(1)"
      ],
      "execution_count": null,
      "outputs": [
        {
          "output_type": "execute_result",
          "data": {
            "text/plain": [
              "[('คน', 0.028822595),\n",
              " ('กุ้ง', 0.026461031),\n",
              " ('ราคา', 0.02177378),\n",
              " ('ซูชิ', 0.019440416),\n",
              " ('รสชาติ', 0.019255359),\n",
              " ('เวลา', 0.017980732),\n",
              " ('สด', 0.01721154),\n",
              " ('เทมปุระ', 0.01712978),\n",
              " ('สไลด์', 0.01672055),\n",
              " ('สายพาน', 0.015632581)]"
            ]
          },
          "metadata": {
            "tags": []
          },
          "execution_count": 72
        }
      ]
    },
    {
      "cell_type": "code",
      "metadata": {
        "colab": {
          "base_uri": "https://localhost:8080/"
        },
        "id": "vr6q4qf4YwUb",
        "outputId": "57cd6ed1-396e-4bfe-baf8-7ac8d2e0cfe3"
      },
      "source": [
        "df_shabushi['topics'] = df_shabushi['Review_tokenized'].apply(lambda x: model_shabushi.get_document_topics(dictionary_shabushi.doc2bow(x.split(',')))[0][0])\n",
        "df_shabushi['score'] = df_shabushi['Review_tokenized'].apply(lambda x: model_shabushi.get_document_topics(dictionary_shabushi.doc2bow(x.split(',')))[0][1])"
      ],
      "execution_count": null,
      "outputs": [
        {
          "output_type": "stream",
          "text": [
            "/usr/local/lib/python3.6/dist-packages/ipykernel_launcher.py:1: SettingWithCopyWarning: \n",
            "A value is trying to be set on a copy of a slice from a DataFrame.\n",
            "Try using .loc[row_indexer,col_indexer] = value instead\n",
            "\n",
            "See the caveats in the documentation: https://pandas.pydata.org/pandas-docs/stable/user_guide/indexing.html#returning-a-view-versus-a-copy\n",
            "  \"\"\"Entry point for launching an IPython kernel.\n",
            "/usr/local/lib/python3.6/dist-packages/ipykernel_launcher.py:2: SettingWithCopyWarning: \n",
            "A value is trying to be set on a copy of a slice from a DataFrame.\n",
            "Try using .loc[row_indexer,col_indexer] = value instead\n",
            "\n",
            "See the caveats in the documentation: https://pandas.pydata.org/pandas-docs/stable/user_guide/indexing.html#returning-a-view-versus-a-copy\n",
            "  \n"
          ],
          "name": "stderr"
        }
      ]
    },
    {
      "cell_type": "code",
      "metadata": {
        "colab": {
          "base_uri": "https://localhost:8080/",
          "height": 980
        },
        "id": "QRKrw_r7Y5sy",
        "outputId": "f92ad017-4d55-43ec-8faf-06388076e890"
      },
      "source": [
        "df_shabushi.head(10)"
      ],
      "execution_count": null,
      "outputs": [
        {
          "output_type": "execute_result",
          "data": {
            "text/html": [
              "<div>\n",
              "<style scoped>\n",
              "    .dataframe tbody tr th:only-of-type {\n",
              "        vertical-align: middle;\n",
              "    }\n",
              "\n",
              "    .dataframe tbody tr th {\n",
              "        vertical-align: top;\n",
              "    }\n",
              "\n",
              "    .dataframe thead th {\n",
              "        text-align: right;\n",
              "    }\n",
              "</style>\n",
              "<table border=\"1\" class=\"dataframe\">\n",
              "  <thead>\n",
              "    <tr style=\"text-align: right;\">\n",
              "      <th></th>\n",
              "      <th>Review ID</th>\n",
              "      <th>Restaurant_ID</th>\n",
              "      <th>Restaurant</th>\n",
              "      <th>User</th>\n",
              "      <th>Headline</th>\n",
              "      <th>Review</th>\n",
              "      <th>Rating</th>\n",
              "      <th>Review_tokenized</th>\n",
              "      <th>topics</th>\n",
              "      <th>score</th>\n",
              "    </tr>\n",
              "  </thead>\n",
              "  <tbody>\n",
              "    <tr>\n",
              "      <th>8</th>\n",
              "      <td>9</td>\n",
              "      <td>4621tm-shabushi-เดอะมอลล์บางกะปิ-ชั้น-g</td>\n",
              "      <td>Shabushi (ชาบูชิ) เดอะมอลล์บางกะปิ ชั้น G</td>\n",
              "      <td>a477a5812ada4d5b80fd04fca22bdbca</td>\n",
              "      <td>อร่อยคุ้ม ของทานเล่นเยอะมาก</td>\n",
              "      <td>มา านที่ขาบูชิต้องมาตอนหิว ไม่งั้นจะไม่คุ้มนะค...</td>\n",
              "      <td>4.0</td>\n",
              "      <td>าน,ตอน,หิว,ไม่งั้น,ฮ่า,เมนู,ของกิน,สายพาน,ซูชิ...</td>\n",
              "      <td>2</td>\n",
              "      <td>0.996573</td>\n",
              "    </tr>\n",
              "    <tr>\n",
              "      <th>9</th>\n",
              "      <td>10</td>\n",
              "      <td>4621tm-shabushi-เดอะมอลล์บางกะปิ-ชั้น-g</td>\n",
              "      <td>Shabushi (ชาบูชิ) เดอะมอลล์บางกะปิ ชั้น G</td>\n",
              "      <td>fd2ba94ec1bc4948ae109e2cb6c9cbc6</td>\n",
              "      <td>ทานอีก ชอบกุ้งทอดเทมปุระ</td>\n",
              "      <td>ใครชอบกุ้งทอดเทมปุระ แค่กุ้งเทมปุระก็คุ้มแล้ว ...</td>\n",
              "      <td>3.0</td>\n",
              "      <td>กุ้ง,ทอด,เทมปุระ,กุ้ง,เทมปุระ,ผิดหวัง,กุ้ง,เทม...</td>\n",
              "      <td>0</td>\n",
              "      <td>0.997147</td>\n",
              "    </tr>\n",
              "    <tr>\n",
              "      <th>10</th>\n",
              "      <td>11</td>\n",
              "      <td>4621tm-shabushi-เดอะมอลล์บางกะปิ-ชั้น-g</td>\n",
              "      <td>Shabushi (ชาบูชิ) เดอะมอลล์บางกะปิ ชั้น G</td>\n",
              "      <td>ployynp</td>\n",
              "      <td>บุฟเฟ่ต์คุ้มๆในห้าง</td>\n",
              "      <td>กลับมาอัพเดทราคาชาบูชิ ตอนนี้อยู่ที่ 399 บาท n...</td>\n",
              "      <td>3.0</td>\n",
              "      <td>อัพเดท,ราคา,net,ชม,น้ำซุป,รส,ซูชิ,ลายตา,เทมปุร...</td>\n",
              "      <td>2</td>\n",
              "      <td>0.997223</td>\n",
              "    </tr>\n",
              "    <tr>\n",
              "      <th>11</th>\n",
              "      <td>12</td>\n",
              "      <td>4621tm-shabushi-เดอะมอลล์บางกะปิ-ชั้น-g</td>\n",
              "      <td>Shabushi (ชาบูชิ) เดอะมอลล์บางกะปิ ชั้น G</td>\n",
              "      <td>c08b2776067a4026b882abfc6fca8330</td>\n",
              "      <td>เปลี่ยนจากกุ้งขาดสารอาหารเป็นกุ้งปอกเปลือกแล้ว...</td>\n",
              "      <td>ห่างหายไปนานสำหรับชาบูชิ ตั้งแต่ทางร้านได้ปรับ...</td>\n",
              "      <td>3.0</td>\n",
              "      <td>ชาบูชิ,ขึ้นราคา,แถม,เวลา,คุณภาพ,แย่,ได้ยิน,ข่า...</td>\n",
              "      <td>0</td>\n",
              "      <td>0.999459</td>\n",
              "    </tr>\n",
              "    <tr>\n",
              "      <th>12</th>\n",
              "      <td>13</td>\n",
              "      <td>4621tm-shabushi-เดอะมอลล์บางกะปิ-ชั้น-g</td>\n",
              "      <td>Shabushi (ชาบูชิ) เดอะมอลล์บางกะปิ ชั้น G</td>\n",
              "      <td>a96ec47b6cff4bd1834c90d603ef0a7e</td>\n",
              "      <td>อิ่ม อร่อย ฝุดฝุด</td>\n",
              "      <td>เมื่อหลายวันก่อนนัดหาข้าวทานกับเดอะแกงค์ และก็...</td>\n",
              "      <td>4.0</td>\n",
              "      <td>วันก่อน,ข้าว,เดอะ,แกงค์,บุฟเฟ่ต์,อยุ่,ชั้น,G,ร...</td>\n",
              "      <td>1</td>\n",
              "      <td>0.996704</td>\n",
              "    </tr>\n",
              "    <tr>\n",
              "      <th>13</th>\n",
              "      <td>14</td>\n",
              "      <td>4621tm-shabushi-เดอะมอลล์บางกะปิ-ชั้น-g</td>\n",
              "      <td>Shabushi (ชาบูชิ) เดอะมอลล์บางกะปิ ชั้น G</td>\n",
              "      <td>a6991f1e0e9b4916ab3ca91d86f8e481</td>\n",
              "      <td>จัดให้เต็มคราบกับชั่วโมงครึ่ง@Shabushi</td>\n",
              "      <td>บอกตรงๆว่าหลายครั้งที่เลือกจะกินบุฟเฟต์จะต้องอ...</td>\n",
              "      <td>3.0</td>\n",
              "      <td>บุฟเฟต์,คิว,Shabushi,คน,โชคดี,คน,รอบ,คิว,สาขา,...</td>\n",
              "      <td>0</td>\n",
              "      <td>0.997716</td>\n",
              "    </tr>\n",
              "    <tr>\n",
              "      <th>14</th>\n",
              "      <td>15</td>\n",
              "      <td>4621tm-shabushi-เดอะมอลล์บางกะปิ-ชั้น-g</td>\n",
              "      <td>Shabushi (ชาบูชิ) เดอะมอลล์บางกะปิ ชั้น G</td>\n",
              "      <td>7eb0c7d8683e407f83cc4d18e51d800d</td>\n",
              "      <td>ชาบู ชาบูชิ</td>\n",
              "      <td>สวัสดีครับวันนี้จะขอมารีวิวร้านชาบูชิ บุฟเฟขวั...</td>\n",
              "      <td>4.0</td>\n",
              "      <td>สวัสดี,ชาบูชิ,บุฟเฟ,ขวัญใจ,คน,เมนู,ระบบ,สายพาน...</td>\n",
              "      <td>2</td>\n",
              "      <td>0.996361</td>\n",
              "    </tr>\n",
              "    <tr>\n",
              "      <th>15</th>\n",
              "      <td>16</td>\n",
              "      <td>4621tm-shabushi-เดอะมอลล์บางกะปิ-ชั้น-g</td>\n",
              "      <td>Shabushi (ชาบูชิ) เดอะมอลล์บางกะปิ ชั้น G</td>\n",
              "      <td>qvanqvan</td>\n",
              "      <td>บุฟเฟต์น้ำเดือด สายพานร่อน</td>\n",
              "      <td>ชาบูชิ สาขาเดอะมอลล์บางกะปิ ตั้งอยู่ประตูหน้าห...</td>\n",
              "      <td>4.0</td>\n",
              "      <td>ชาบูชิ,สาขา,เดอะมอลล์,บางกะปิ,หน้า,ห้าง,แมคโดน...</td>\n",
              "      <td>2</td>\n",
              "      <td>0.998830</td>\n",
              "    </tr>\n",
              "  </tbody>\n",
              "</table>\n",
              "</div>"
            ],
            "text/plain": [
              "    Review ID                            Restaurant_ID  ... topics     score\n",
              "8           9  4621tm-shabushi-เดอะมอลล์บางกะปิ-ชั้น-g  ...      2  0.996573\n",
              "9          10  4621tm-shabushi-เดอะมอลล์บางกะปิ-ชั้น-g  ...      0  0.997147\n",
              "10         11  4621tm-shabushi-เดอะมอลล์บางกะปิ-ชั้น-g  ...      2  0.997223\n",
              "11         12  4621tm-shabushi-เดอะมอลล์บางกะปิ-ชั้น-g  ...      0  0.999459\n",
              "12         13  4621tm-shabushi-เดอะมอลล์บางกะปิ-ชั้น-g  ...      1  0.996704\n",
              "13         14  4621tm-shabushi-เดอะมอลล์บางกะปิ-ชั้น-g  ...      0  0.997716\n",
              "14         15  4621tm-shabushi-เดอะมอลล์บางกะปิ-ชั้น-g  ...      2  0.996361\n",
              "15         16  4621tm-shabushi-เดอะมอลล์บางกะปิ-ชั้น-g  ...      2  0.998830\n",
              "\n",
              "[8 rows x 10 columns]"
            ]
          },
          "metadata": {
            "tags": []
          },
          "execution_count": 74
        }
      ]
    },
    {
      "cell_type": "markdown",
      "metadata": {
        "id": "e5wl2ZUTOm7Q"
      },
      "source": [
        "# **ข้าน้อยขอชาบู**"
      ]
    },
    {
      "cell_type": "markdown",
      "metadata": {
        "id": "E-S67Zd5Op-B"
      },
      "source": [
        "## Create Dictionary"
      ]
    },
    {
      "cell_type": "code",
      "metadata": {
        "colab": {
          "base_uri": "https://localhost:8080/"
        },
        "id": "KoDxwhkpOpCW",
        "outputId": "c1f63de4-5b3a-48b3-9555-cdb9ebc9257b"
      },
      "source": [
        "df_khanoy = df[df['Restaurant'] == 'ข้าน้อยขอชาบู']\n",
        "df_khanoy.shape"
      ],
      "execution_count": null,
      "outputs": [
        {
          "output_type": "execute_result",
          "data": {
            "text/plain": [
              "(5, 8)"
            ]
          },
          "metadata": {
            "tags": []
          },
          "execution_count": 75
        }
      ]
    },
    {
      "cell_type": "code",
      "metadata": {
        "id": "Tr55iX9jYWSd"
      },
      "source": [
        "documents_khanoy = df_khanoy['Review_tokenized'].to_list()\n",
        "texts_khanoy = [[text for text in doc.split(',')] for doc in documents_khanoy]\n",
        "dictionary_khanoy = gensim.corpora.Dictionary(texts_khanoy)"
      ],
      "execution_count": null,
      "outputs": []
    },
    {
      "cell_type": "code",
      "metadata": {
        "colab": {
          "base_uri": "https://localhost:8080/"
        },
        "id": "FWeR1b1DYYqb",
        "outputId": "2040244d-9a8e-4e03-e4e6-8935bd5f56ce"
      },
      "source": [
        "print(dictionary_khanoy.token2id.keys())"
      ],
      "execution_count": null,
      "outputs": [
        {
          "output_type": "stream",
          "text": [
            "dict_keys(['HALL', 'MCC', 'ของหวาน', 'คนละ', 'ค่ายมวย', 'ชั้น', 'ซุป', 'ซูชิ', 'ด้านใน', 'ตอนแรก', 'ตัวเลือก', 'ทอด', 'ที่ไหนได้', 'นารายพิซเซอเรีย', 'น้ำซุป', 'น้ำดื่ม', 'บางกะปิ', 'พิซซ่า', 'รสชาติ', 'รอบ', 'ราคา', 'รีฟีล', 'สาขา', 'หมู', 'หิว', 'อยากได้', 'เดอะมอลล์', 'เนื้อ', 'เบค่อน', 'เมนู', 'แกงเขียวหวาน', 'โซน', 'VAT', 'ชม', 'ชุด', 'ช่อง', 'ซีฟู้ด', 'ต้มยำ', 'ทอน', 'น้ำ', 'น้ำซึป', 'บุฟเฟ่ต์', 'ฟรี', 'ลอตเตอรี่', 'สัปดาห์', 'หม้อ', 'หัว', 'อันนี้', 'ฮันนี่โทส', 'เงิน', 'โปรโมชั่น', 'ได้เวลา', 'Narai pizzeria', 'mall', 'pizza', 'union', 'ขยัน', 'ของสด', 'ข้าวมันไก่', 'คุณภาพ', 'จำได้', 'ชื่อ', 'ตัดกำลัง', 'ตู้', 'นิวออลีน', 'บางส่วน', 'ปรุง', 'พนักงาน', 'สปาเกตตี้', 'สุก', 'อร่อย', 'ไก่', 'ไลน์', 'กก', 'คุ้มค่า', 'งาน', 'ท่าน', 'นุ่ม', 'บราวนี่', 'บุพเฟ่', 'บุฟเฟ่', 'ปิดท้าย', 'ผัก', 'รสชาต', 'วิปครีม', 'สมราคา', 'หอ', 'เซต', 'เด็ด', 'เรย', 'โชค', 'ไอติม', 'ตอน', 'สดๆ ร้อนๆ', 'หน้า', 'เงินสด', 'เนื้อวัว', 'แปลก', 'โอเค'])\n"
          ],
          "name": "stdout"
        }
      ]
    },
    {
      "cell_type": "code",
      "metadata": {
        "id": "D74T5V6XYbOS"
      },
      "source": [
        "gensim_corpus_khanoy = [dictionary_khanoy.doc2bow(text, allow_update=True) for \n",
        "                        text in texts_khanoy]\n",
        "word_frequencies_khanoy = [[(dictionary_khanoy[id], frequence) for \n",
        "                            id, frequence in couple] for \n",
        "                           couple in gensim_corpus_khanoy]"
      ],
      "execution_count": null,
      "outputs": []
    },
    {
      "cell_type": "markdown",
      "metadata": {
        "id": "6KuEzBBpOt6z"
      },
      "source": [
        "## Topic Modeling"
      ]
    },
    {
      "cell_type": "code",
      "metadata": {
        "colab": {
          "base_uri": "https://localhost:8080/"
        },
        "id": "PldH4PheOu12",
        "outputId": "5af826da-afab-474d-a65e-26a320f704fc"
      },
      "source": [
        "num_topics = 3\n",
        "chunksize = 4000 # size of the doc looked at every pass\n",
        "passes = 20 # number of passes through documents\n",
        "iterations = 50\n",
        "eval_every = 1  # Don't evaluate model perplexity, takes too much time.\n",
        "\n",
        "# Make a index to word dictionary.\n",
        "temp = dictionary_khanoy[0]  # This is only to \"load\" the dictionary.\n",
        "id2word_khanoy = dictionary_khanoy.id2token\n",
        "\n",
        "%time model_khanoy = gensim.models.LdaModel(corpus=gensim_corpus_khanoy, \n",
        "                                            id2word=id2word_khanoy,\n",
        "                                            chunksize=chunksize, \\\n",
        "                                            alpha='auto', eta='auto', \\\n",
        "                                            iterations=iterations, \n",
        "                                            num_topics=num_topics, \\\n",
        "                                            passes=passes, \n",
        "                                            eval_every=eval_every)"
      ],
      "execution_count": null,
      "outputs": [
        {
          "output_type": "stream",
          "text": [
            "CPU times: user 85.8 ms, sys: 504 µs, total: 86.3 ms\n",
            "Wall time: 88.8 ms\n"
          ],
          "name": "stdout"
        }
      ]
    },
    {
      "cell_type": "code",
      "metadata": {
        "colab": {
          "base_uri": "https://localhost:8080/",
          "height": 881
        },
        "id": "M8eTJvpFYko2",
        "outputId": "6ada8a27-55f2-4d05-c8c3-c373876222e0"
      },
      "source": [
        "pyLDAvis.gensim.prepare(model_khanoy, gensim_corpus_khanoy, dictionary_khanoy)"
      ],
      "execution_count": null,
      "outputs": [
        {
          "output_type": "execute_result",
          "data": {
            "text/html": [
              "\n",
              "<link rel=\"stylesheet\" type=\"text/css\" href=\"https://cdn.rawgit.com/bmabey/pyLDAvis/files/ldavis.v1.0.0.css\">\n",
              "\n",
              "\n",
              "<div id=\"ldavis_el571398503448813923727315504\"></div>\n",
              "<script type=\"text/javascript\">\n",
              "\n",
              "var ldavis_el571398503448813923727315504_data = {\"mdsDat\": {\"x\": [0.03151327528048895, -0.027396696560770328, -0.004116578719718601], \"y\": [-0.010949440534503356, -0.016757946428448328, 0.02770738696295168], \"topics\": [1, 2, 3], \"cluster\": [1, 1, 1], \"Freq\": [44.92089589267794, 34.04949578137296, 21.0296083259491]}, \"tinfo\": {\"Term\": [\"\\u0e1a\\u0e38\\u0e1f\\u0e40\\u0e1f\\u0e48\\u0e15\\u0e4c\", \"\\u0e0a\\u0e38\\u0e14\", \"\\u0e19\\u0e49\\u0e33\\u0e0b\\u0e38\\u0e1b\", \"\\u0e19\\u0e49\\u0e33\", \"\\u0e02\\u0e2d\\u0e07\\u0e2b\\u0e27\\u0e32\\u0e19\", \"\\u0e2d\\u0e23\\u0e48\\u0e2d\\u0e22\", \"VAT\", \"\\u0e42\\u0e1b\\u0e23\\u0e42\\u0e21\\u0e0a\\u0e31\\u0e48\\u0e19\", \"\\u0e2e\\u0e31\\u0e19\\u0e19\\u0e35\\u0e48\\u0e42\\u0e17\\u0e2a\", \"\\u0e25\\u0e2d\\u0e15\\u0e40\\u0e15\\u0e2d\\u0e23\\u0e35\\u0e48\", \"\\u0e15\\u0e49\\u0e21\\u0e22\\u0e33\", \"\\u0e2d\\u0e31\\u0e19\\u0e19\\u0e35\\u0e49\", \"\\u0e1f\\u0e23\\u0e35\", \"\\u0e2b\\u0e21\\u0e49\\u0e2d\", \"\\u0e0a\\u0e21\", \"\\u0e2a\\u0e31\\u0e1b\\u0e14\\u0e32\\u0e2b\\u0e4c\", \"\\u0e2b\\u0e31\\u0e27\", \"\\u0e44\\u0e14\\u0e49\\u0e40\\u0e27\\u0e25\\u0e32\", \"\\u0e19\\u0e49\\u0e33\\u0e0b\\u0e36\\u0e1b\", \"\\u0e17\\u0e2d\\u0e19\", \"\\u0e0b\\u0e35\\u0e1f\\u0e39\\u0e49\\u0e14\", \"\\u0e40\\u0e07\\u0e34\\u0e19\", \"\\u0e0a\\u0e48\\u0e2d\\u0e07\", \"\\u0e1a\\u0e38\\u0e1f\\u0e40\\u0e1f\\u0e48\", \"\\u0e19\\u0e32\\u0e23\\u0e32\\u0e22\\u0e1e\\u0e34\\u0e0b\\u0e40\\u0e0b\\u0e2d\\u0e40\\u0e23\\u0e35\\u0e22\", \"\\u0e1e\\u0e34\\u0e0b\\u0e0b\\u0e48\\u0e32\", \"\\u0e04\\u0e19\\u0e25\\u0e30\", \"\\u0e1b\\u0e34\\u0e14\\u0e17\\u0e49\\u0e32\\u0e22\", \"\\u0e2a\\u0e21\\u0e23\\u0e32\\u0e04\\u0e32\", \"\\u0e15\\u0e2d\\u0e19\", \"\\u0e1a\\u0e32\\u0e07\\u0e2a\\u0e48\\u0e27\\u0e19\", \"\\u0e0a\\u0e37\\u0e48\\u0e2d\", \"\\u0e23\\u0e2a\\u0e0a\\u0e32\\u0e15\\u0e34\", \"\\u0e2a\\u0e32\\u0e02\\u0e32\", \"\\u0e44\\u0e25\\u0e19\\u0e4c\", \"\\u0e15\\u0e31\\u0e14\\u0e01\\u0e33\\u0e25\\u0e31\\u0e07\", \"Narai pizzeria\", \"pizza\", \"\\u0e15\\u0e39\\u0e49\", \"\\u0e2a\\u0e38\\u0e01\", \"\\u0e08\\u0e33\\u0e44\\u0e14\\u0e49\", \"\\u0e04\\u0e38\\u0e13\\u0e20\\u0e32\\u0e1e\", \"\\u0e19\\u0e34\\u0e27\\u0e2d\\u0e2d\\u0e25\\u0e35\\u0e19\", \"\\u0e02\\u0e22\\u0e31\\u0e19\", \"\\u0e1b\\u0e23\\u0e38\\u0e07\", \"\\u0e1e\\u0e19\\u0e31\\u0e01\\u0e07\\u0e32\\u0e19\", \"\\u0e02\\u0e2d\\u0e07\\u0e2a\\u0e14\", \"union\", \"mall\", \"\\u0e2a\\u0e1b\\u0e32\\u0e40\\u0e01\\u0e15\\u0e15\\u0e35\\u0e49\", \"\\u0e02\\u0e49\\u0e32\\u0e27\\u0e21\\u0e31\\u0e19\\u0e44\\u0e01\\u0e48\", \"\\u0e19\\u0e49\\u0e33\\u0e14\\u0e37\\u0e48\\u0e21\", \"\\u0e40\\u0e21\\u0e19\\u0e39\", \"\\u0e41\\u0e01\\u0e07\\u0e40\\u0e02\\u0e35\\u0e22\\u0e27\\u0e2b\\u0e27\\u0e32\\u0e19\", \"\\u0e0b\\u0e38\\u0e1b\", \"\\u0e23\\u0e35\\u0e1f\\u0e35\\u0e25\", \"\\u0e40\\u0e19\\u0e37\\u0e49\\u0e2d\", \"\\u0e0a\\u0e31\\u0e49\\u0e19\", \"\\u0e1a\\u0e32\\u0e07\\u0e01\\u0e30\\u0e1b\\u0e34\", \"MCC\", \"\\u0e23\\u0e32\\u0e04\\u0e32\", \"\\u0e04\\u0e19\\u0e25\\u0e30\", \"\\u0e1e\\u0e34\\u0e0b\\u0e0b\\u0e48\\u0e32\", \"\\u0e15\\u0e31\\u0e27\\u0e40\\u0e25\\u0e37\\u0e2d\\u0e01\", \"\\u0e2d\\u0e22\\u0e32\\u0e01\\u0e44\\u0e14\\u0e49\", \"\\u0e17\\u0e2d\\u0e14\", \"\\u0e17\\u0e35\\u0e48\\u0e44\\u0e2b\\u0e19\\u0e44\\u0e14\\u0e49\", \"\\u0e23\\u0e2d\\u0e1a\", \"\\u0e42\\u0e0b\\u0e19\", \"\\u0e2b\\u0e34\\u0e27\", \"\\u0e40\\u0e14\\u0e2d\\u0e30\\u0e21\\u0e2d\\u0e25\\u0e25\\u0e4c\", \"\\u0e15\\u0e2d\\u0e19\\u0e41\\u0e23\\u0e01\", \"\\u0e04\\u0e48\\u0e32\\u0e22\\u0e21\\u0e27\\u0e22\", \"\\u0e40\\u0e1a\\u0e04\\u0e48\\u0e2d\\u0e19\", \"HALL\", \"\\u0e14\\u0e49\\u0e32\\u0e19\\u0e43\\u0e19\", \"\\u0e19\\u0e49\\u0e33\\u0e0b\\u0e38\\u0e1b\", \"\\u0e19\\u0e32\\u0e23\\u0e32\\u0e22\\u0e1e\\u0e34\\u0e0b\\u0e40\\u0e0b\\u0e2d\\u0e40\\u0e23\\u0e35\\u0e22\", \"\\u0e02\\u0e2d\\u0e07\\u0e2b\\u0e27\\u0e32\\u0e19\", \"\\u0e2d\\u0e23\\u0e48\\u0e2d\\u0e22\", \"\\u0e0b\\u0e39\\u0e0a\\u0e34\", \"\\u0e2b\\u0e21\\u0e39\", \"\\u0e44\\u0e01\\u0e48\", \"\\u0e19\\u0e49\\u0e33\", \"\\u0e1a\\u0e38\\u0e1f\\u0e40\\u0e1f\\u0e48\", \"\\u0e1b\\u0e34\\u0e14\\u0e17\\u0e49\\u0e32\\u0e22\", \"\\u0e2a\\u0e21\\u0e23\\u0e32\\u0e04\\u0e32\", \"\\u0e2b\\u0e2d\", \"\\u0e15\\u0e2d\\u0e19\", \"\\u0e42\\u0e2d\\u0e40\\u0e04\", \"\\u0e40\\u0e19\\u0e37\\u0e49\\u0e2d\\u0e27\\u0e31\\u0e27\", \"\\u0e07\\u0e32\\u0e19\", \"\\u0e23\\u0e2a\\u0e0a\\u0e32\\u0e15\", \"\\u0e27\\u0e34\\u0e1b\\u0e04\\u0e23\\u0e35\\u0e21\", \"\\u0e17\\u0e48\\u0e32\\u0e19\", \"\\u0e44\\u0e2d\\u0e15\\u0e34\\u0e21\", \"\\u0e19\\u0e38\\u0e48\\u0e21\", \"\\u0e40\\u0e0b\\u0e15\", \"\\u0e2b\\u0e19\\u0e49\\u0e32\", \"\\u0e01\\u0e01\", \"\\u0e40\\u0e23\\u0e22\", \"\\u0e2a\\u0e14\\u0e46 \\u0e23\\u0e49\\u0e2d\\u0e19\\u0e46\", \"\\u0e40\\u0e07\\u0e34\\u0e19\\u0e2a\\u0e14\", \"\\u0e04\\u0e38\\u0e49\\u0e21\\u0e04\\u0e48\\u0e32\", \"\\u0e42\\u0e0a\\u0e04\", \"\\u0e1c\\u0e31\\u0e01\", \"\\u0e1a\\u0e38\\u0e1e\\u0e40\\u0e1f\\u0e48\", \"\\u0e1a\\u0e23\\u0e32\\u0e27\\u0e19\\u0e35\\u0e48\", \"\\u0e41\\u0e1b\\u0e25\\u0e01\", \"\\u0e40\\u0e14\\u0e47\\u0e14\", \"\\u0e2d\\u0e23\\u0e48\\u0e2d\\u0e22\", \"\\u0e02\\u0e2d\\u0e07\\u0e2b\\u0e27\\u0e32\\u0e19\", \"\\u0e19\\u0e49\\u0e33\", \"\\u0e42\\u0e1b\\u0e23\\u0e42\\u0e21\\u0e0a\\u0e31\\u0e48\\u0e19\", \"\\u0e23\\u0e32\\u0e04\\u0e32\", \"\\u0e1e\\u0e34\\u0e0b\\u0e0b\\u0e48\\u0e32\", \"VAT\", \"\\u0e0b\\u0e39\\u0e0a\\u0e34\", \"\\u0e2b\\u0e21\\u0e39\", \"\\u0e44\\u0e01\\u0e48\", \"\\u0e04\\u0e19\\u0e25\\u0e30\", \"\\u0e19\\u0e49\\u0e33\\u0e0b\\u0e38\\u0e1b\", \"\\u0e1a\\u0e38\\u0e1f\\u0e40\\u0e1f\\u0e48\\u0e15\\u0e4c\", \"\\u0e0a\\u0e38\\u0e14\", \"\\u0e0a\\u0e48\\u0e2d\\u0e07\", \"\\u0e40\\u0e07\\u0e34\\u0e19\", \"\\u0e0b\\u0e35\\u0e1f\\u0e39\\u0e49\\u0e14\", \"\\u0e17\\u0e2d\\u0e19\", \"\\u0e19\\u0e49\\u0e33\\u0e0b\\u0e36\\u0e1b\", \"\\u0e44\\u0e14\\u0e49\\u0e40\\u0e27\\u0e25\\u0e32\", \"\\u0e2b\\u0e31\\u0e27\", \"\\u0e2a\\u0e31\\u0e1b\\u0e14\\u0e32\\u0e2b\\u0e4c\", \"\\u0e0a\\u0e21\", \"\\u0e2b\\u0e21\\u0e49\\u0e2d\", \"\\u0e1f\\u0e23\\u0e35\", \"\\u0e2d\\u0e31\\u0e19\\u0e19\\u0e35\\u0e49\", \"\\u0e15\\u0e49\\u0e21\\u0e22\\u0e33\", \"\\u0e25\\u0e2d\\u0e15\\u0e40\\u0e15\\u0e2d\\u0e23\\u0e35\\u0e48\", \"\\u0e2e\\u0e31\\u0e19\\u0e19\\u0e35\\u0e48\\u0e42\\u0e17\\u0e2a\", \"\\u0e19\\u0e49\\u0e33\\u0e0b\\u0e38\\u0e1b\", \"\\u0e42\\u0e1b\\u0e23\\u0e42\\u0e21\\u0e0a\\u0e31\\u0e48\\u0e19\", \"VAT\", \"\\u0e19\\u0e32\\u0e23\\u0e32\\u0e22\\u0e1e\\u0e34\\u0e0b\\u0e40\\u0e0b\\u0e2d\\u0e40\\u0e23\\u0e35\\u0e22\", \"\\u0e19\\u0e49\\u0e33\", \"\\u0e04\\u0e19\\u0e25\\u0e30\", \"\\u0e1e\\u0e34\\u0e0b\\u0e0b\\u0e48\\u0e32\", \"\\u0e40\\u0e14\\u0e47\\u0e14\", \"\\u0e41\\u0e1b\\u0e25\\u0e01\", \"\\u0e1a\\u0e23\\u0e32\\u0e27\\u0e19\\u0e35\\u0e48\", \"\\u0e1a\\u0e38\\u0e1e\\u0e40\\u0e1f\\u0e48\", \"\\u0e1c\\u0e31\\u0e01\", \"\\u0e42\\u0e0a\\u0e04\", \"\\u0e0b\\u0e39\\u0e0a\\u0e34\", \"\\u0e2b\\u0e21\\u0e39\", \"\\u0e44\\u0e01\\u0e48\", \"\\u0e23\\u0e32\\u0e04\\u0e32\", \"\\u0e02\\u0e2d\\u0e07\\u0e2b\\u0e27\\u0e32\\u0e19\", \"\\u0e2d\\u0e23\\u0e48\\u0e2d\\u0e22\"], \"Freq\": [2.0, 1.0, 2.0, 2.0, 4.0, 4.0, 2.0, 2.0, 0.0, 0.0, 0.0, 0.0, 0.0, 0.0, 0.0, 0.0, 0.0, 0.0, 0.0, 0.0, 0.0, 0.0, 0.0, 1.0, 2.0, 5.0, 2.0, 1.0, 1.0, 1.0, 1.2148201975588409, 1.2149915504853463, 1.2431113278066515, 1.251321142110876, 0.6819146745314307, 0.6824642971258824, 0.6824910854540153, 0.6826431554029424, 0.6827543500580804, 0.6828258818222113, 0.6830401884472748, 0.6830914557649085, 0.6831134522153797, 0.683344617012458, 0.683982398609192, 0.6841403573716309, 0.684292138653229, 0.6845245735865549, 0.6845743398340778, 0.6846096727151496, 0.68652936818659, 0.698948818149895, 0.6992187221025274, 0.6998235378902875, 0.6999187981088637, 0.7002386992428823, 0.7003512217677338, 0.7008248671211877, 0.701195458238182, 0.7012041759915183, 3.2266150957896236, 1.5740434796694092, 2.188446371293911, 0.7031441936429217, 0.7032098943270063, 0.7031996177700932, 0.7030933304595486, 0.7026058290743017, 0.7027391356468425, 0.7021963256013557, 0.7020702357120403, 0.7020107125087967, 0.7018625107020785, 0.7017670772831048, 0.7017252205203971, 0.7015140892359528, 1.1669080025568317, 0.9879043526299268, 1.4962642617370103, 1.473593715319058, 1.0102567876513007, 1.010203441928898, 0.9936841653584716, 0.7857104973593698, 1.0087523852606055, 0.567641815187112, 0.5681478704996265, 0.5682246277651185, 0.568256004594855, 0.5682624375013701, 0.5682768787200773, 0.5683265039989074, 0.5683709654480179, 0.5683851878603811, 0.56845691257996, 0.5687252129190319, 0.5687393915701262, 0.5687463058505982, 0.5687825401811725, 0.5688651614566851, 0.5688781147922527, 0.5689386803882852, 0.5690374495719885, 0.5690527660160719, 0.5691020849660204, 0.5691371815036057, 0.5691958653650794, 0.5694587830680876, 0.5697799907811503, 0.5699347743889299, 2.234558563276059, 2.253658081525483, 1.3247693991846836, 0.8382429029666021, 2.3728000613555205, 1.8353036775618772, 0.839292735805345, 0.847235231049217, 0.8471902444648808, 0.8332093067830435, 0.6541552179476162, 0.6455952512008403, 1.3407450097495914, 0.7248258633989287, 0.40639867357641896, 0.4074419189267226, 0.40754438124758585, 0.40759124742125424, 0.4075941934494722, 0.40767616871171913, 0.4078095237871977, 0.4080631795195379, 0.40834997131238415, 0.4084203246284504, 0.40842954110204954, 0.40847313691411824, 0.408630222382031, 0.4092043735511416, 0.40928978134167915, 0.9285032270502214, 0.5933161908071508, 0.5940602656405366, 0.5865191361250152, 0.7019973339883832, 0.6989854660939705, 1.0636394333504642, 0.16771671075105116, 0.16761178890204265, 0.16737897158948234, 0.1671922771865905, 0.1671507219720489, 0.16712582938499665, 0.3641158711483252, 0.36408284319894646, 0.35406788784161713, 0.9726955963191568, 0.6524818430908486, 0.6388797875587233], \"Total\": [2.0, 1.0, 2.0, 2.0, 4.0, 4.0, 2.0, 2.0, 0.0, 0.0, 0.0, 0.0, 0.0, 0.0, 0.0, 0.0, 0.0, 0.0, 0.0, 0.0, 0.0, 0.0, 0.0, 1.0, 2.0, 5.0, 2.0, 1.0, 1.0, 1.0, 1.8170917885784246, 1.8175086671237373, 1.8863392241325196, 1.906571439463438, 1.0897308417612241, 1.0910695582998864, 1.0911345964183845, 1.0915061038261586, 1.0917763997766987, 1.0919513195006478, 1.0924735103958323, 1.0925988596628635, 1.0926517013521793, 1.0932157859771776, 1.0947706872661225, 1.0951554878917078, 1.0955257566995285, 1.096092139088895, 1.0962143707660539, 1.0963014034412364, 1.1009806893460752, 1.1314175020217285, 1.132082571027067, 1.1335720528417643, 1.1338043681832717, 1.1345938322439688, 1.1348716121696005, 1.1360400148471383, 1.1369544039625865, 1.1369758856046381, 6.5721107534643, 2.927184163710996, 5.087389482206253, 1.1417832744090257, 1.1419476477656985, 1.1419230029800915, 1.1416593653973088, 1.1404433745815634, 1.1407767776134667, 1.1394314515146604, 1.1391173945163, 1.138970153532258, 1.1386016804077808, 1.1383658197692463, 1.138263937195331, 1.1377408712865327, 2.7410064808078936, 2.0699011337016886, 4.402404186353342, 4.34703206615384, 2.221607889848843, 2.2214765295927252, 2.180961359983132, 2.8124772305324366, 1.6601879332263965, 1.0135822687061709, 1.015053695121989, 1.0152768557510832, 1.0153661161656766, 1.0153849777134234, 1.0154268424866506, 1.0155730049226794, 1.0157024014130485, 1.015743611898754, 1.0159522005789268, 1.0167323869313274, 1.0167735014391517, 1.0167935194141673, 1.0168965871665243, 1.017139208762818, 1.0171769051963837, 1.0173504509791853, 1.0176375223083587, 1.0176847067188517, 1.017828118687453, 1.0179303687090586, 1.0181011580802861, 1.018865619641947, 1.0197960091311447, 1.020249785633232, 4.34703206615384, 4.402404186353342, 2.8124772305324366, 2.0341796819635602, 6.5721107534643, 5.087389482206253, 2.0372387608053124, 2.221607889848843, 2.2214765295927252, 2.180961359983132, 2.927184163710996, 2.7410064808078936, 2.5738434596801794, 1.5100135980010787, 0.9352200896513045, 0.9395148292434385, 0.9399361476555902, 0.9401294131162261, 0.9401415681432388, 0.9404784928815735, 0.9410280796709252, 0.9420731717626418, 0.943254575102132, 0.9435438021872777, 0.9435820735696442, 0.943762017000598, 0.9444087300255448, 0.9467754438610702, 0.947127227193777, 2.7410064808078936, 2.0341796819635602, 2.0372387608053124, 2.0699011337016886, 2.8124772305324366, 2.927184163710996, 5.087389482206253, 1.020249785633232, 1.0197960091311447, 1.018865619641947, 1.0181011580802861, 1.0179303687090586, 1.017828118687453, 2.221607889848843, 2.2214765295927252, 2.180961359983132, 6.5721107534643, 4.402404186353342, 4.34703206615384], \"Category\": [\"Default\", \"Default\", \"Default\", \"Default\", \"Default\", \"Default\", \"Default\", \"Default\", \"Default\", \"Default\", \"Default\", \"Default\", \"Default\", \"Default\", \"Default\", \"Default\", \"Default\", \"Default\", \"Default\", \"Default\", \"Default\", \"Default\", \"Default\", \"Default\", \"Default\", \"Default\", \"Default\", \"Default\", \"Default\", \"Default\", \"Topic1\", \"Topic1\", \"Topic1\", \"Topic1\", \"Topic1\", \"Topic1\", \"Topic1\", \"Topic1\", \"Topic1\", \"Topic1\", \"Topic1\", \"Topic1\", \"Topic1\", \"Topic1\", \"Topic1\", \"Topic1\", \"Topic1\", \"Topic1\", \"Topic1\", \"Topic1\", \"Topic1\", \"Topic1\", \"Topic1\", \"Topic1\", \"Topic1\", \"Topic1\", \"Topic1\", \"Topic1\", \"Topic1\", \"Topic1\", \"Topic1\", \"Topic1\", \"Topic1\", \"Topic1\", \"Topic1\", \"Topic1\", \"Topic1\", \"Topic1\", \"Topic1\", \"Topic1\", \"Topic1\", \"Topic1\", \"Topic1\", \"Topic1\", \"Topic1\", \"Topic1\", \"Topic1\", \"Topic1\", \"Topic1\", \"Topic1\", \"Topic1\", \"Topic1\", \"Topic1\", \"Topic1\", \"Topic2\", \"Topic2\", \"Topic2\", \"Topic2\", \"Topic2\", \"Topic2\", \"Topic2\", \"Topic2\", \"Topic2\", \"Topic2\", \"Topic2\", \"Topic2\", \"Topic2\", \"Topic2\", \"Topic2\", \"Topic2\", \"Topic2\", \"Topic2\", \"Topic2\", \"Topic2\", \"Topic2\", \"Topic2\", \"Topic2\", \"Topic2\", \"Topic2\", \"Topic2\", \"Topic2\", \"Topic2\", \"Topic2\", \"Topic2\", \"Topic2\", \"Topic2\", \"Topic2\", \"Topic2\", \"Topic2\", \"Topic2\", \"Topic2\", \"Topic2\", \"Topic3\", \"Topic3\", \"Topic3\", \"Topic3\", \"Topic3\", \"Topic3\", \"Topic3\", \"Topic3\", \"Topic3\", \"Topic3\", \"Topic3\", \"Topic3\", \"Topic3\", \"Topic3\", \"Topic3\", \"Topic3\", \"Topic3\", \"Topic3\", \"Topic3\", \"Topic3\", \"Topic3\", \"Topic3\", \"Topic3\", \"Topic3\", \"Topic3\", \"Topic3\", \"Topic3\", \"Topic3\", \"Topic3\", \"Topic3\", \"Topic3\", \"Topic3\", \"Topic3\", \"Topic3\", \"Topic3\", \"Topic3\"], \"logprob\": [30.0, 29.0, 28.0, 27.0, 26.0, 25.0, 24.0, 23.0, 22.0, 21.0, 20.0, 19.0, 18.0, 17.0, 16.0, 15.0, 14.0, 13.0, 12.0, 11.0, 10.0, 9.0, 8.0, 7.0, 6.0, 5.0, 4.0, 3.0, 2.0, 1.0, -3.9323999881744385, -3.9321999549865723, -3.90939998626709, -3.9028000831604004, -4.509799957275391, -4.508999824523926, -4.508999824523926, -4.508800029754639, -4.508600234985352, -4.508500099182129, -4.508200168609619, -4.5081000328063965, -4.5081000328063965, -4.507699966430664, -4.506800174713135, -4.5065999031066895, -4.506400108337402, -4.50600004196167, -4.505899906158447, -4.505899906158447, -4.5030999183654785, -4.485199928283691, -4.484799861907959, -4.48390007019043, -4.483799934387207, -4.48330020904541, -4.4832000732421875, -4.482500076293945, -4.48199987411499, -4.481900215148926, -2.9556000232696533, -3.67330002784729, -3.3438000679016113, -4.4791998863220215, -4.479100227355957, -4.479100227355957, -4.479300022125244, -4.479899883270264, -4.479800224304199, -4.480500221252441, -4.4807000160217285, -4.480800151824951, -4.480999946594238, -4.481100082397461, -4.481200218200684, -4.481500148773193, -3.972599983215332, -4.139200210571289, -3.7239999771118164, -3.739300012588501, -4.116799831390381, -4.116799831390381, -4.133299827575684, -4.368199825286865, -3.841200113296509, -4.416200160980225, -4.415299892425537, -4.41510009765625, -4.41510009765625, -4.41510009765625, -4.414999961853027, -4.414999961853027, -4.414899826049805, -4.414899826049805, -4.414700031280518, -4.414299964904785, -4.4141998291015625, -4.4141998291015625, -4.4141998291015625, -4.414000034332275, -4.414000034332275, -4.413899898529053, -4.413700103759766, -4.413700103759766, -4.413599967956543, -4.41349983215332, -4.413400173187256, -4.413000106811523, -4.412399768829346, -4.412099838256836, -3.0459001064300537, -3.0373001098632812, -3.568700075149536, -4.026299953460693, -2.98580002784729, -3.2427000999450684, -4.025100231170654, -4.015699863433838, -4.015699863433838, -4.032400131225586, -4.2743000984191895, -4.287499904632568, -3.0748000144958496, -3.6898000240325928, -4.268400192260742, -4.265900135040283, -4.265600204467773, -4.265500068664551, -4.265500068664551, -4.2652997970581055, -4.264999866485596, -4.2642998695373535, -4.263599872589111, -4.263500213623047, -4.263500213623047, -4.263299942016602, -4.263000011444092, -4.261600017547607, -4.261300086975098, -3.442199945449829, -3.890000104904175, -3.8887999057769775, -3.901599884033203, -3.7218000888824463, -3.726099967956543, -3.306299924850464, -5.153500080108643, -5.154099941253662, -5.1554999351501465, -5.156599998474121, -5.156899929046631, -5.1570000648498535, -4.378300189971924, -4.378399848937988, -4.406300067901611, -3.395699977874756, -3.7950000762939453, -3.8160998821258545], \"loglift\": [30.0, 29.0, 28.0, 27.0, 26.0, 25.0, 24.0, 23.0, 22.0, 21.0, 20.0, 19.0, 18.0, 17.0, 16.0, 15.0, 14.0, 13.0, 12.0, 11.0, 10.0, 9.0, 8.0, 7.0, 6.0, 5.0, 4.0, 3.0, 2.0, 1.0, 0.3976, 0.3975, 0.3832, 0.3792, 0.3315, 0.3311, 0.331, 0.3309, 0.3308, 0.3308, 0.3306, 0.3306, 0.3306, 0.3304, 0.3299, 0.3298, 0.3297, 0.3295, 0.3294, 0.3294, 0.328, 0.3186, 0.3184, 0.318, 0.3179, 0.3177, 0.3176, 0.3172, 0.3169, 0.3169, 0.0889, 0.1799, -0.0433, 0.3155, 0.3154, 0.3154, 0.3155, 0.3159, 0.3158, 0.3162, 0.3163, 0.3163, 0.3164, 0.3165, 0.3165, 0.3167, -0.0537, 0.0606, -0.2789, -0.2815, 0.0122, 0.0122, 0.0142, -0.475, 0.5791, 0.4976, 0.497, 0.497, 0.4969, 0.4969, 0.4969, 0.4968, 0.4968, 0.4968, 0.4967, 0.4964, 0.4964, 0.4964, 0.4963, 0.4962, 0.4962, 0.4962, 0.4961, 0.496, 0.496, 0.4959, 0.4959, 0.4956, 0.4952, 0.4951, 0.4119, 0.4078, 0.3245, 0.1908, 0.0586, 0.0578, 0.1906, 0.1133, 0.1134, 0.1151, -0.4211, -0.3686, 0.9071, 0.8253, 0.7258, 0.7238, 0.7236, 0.7235, 0.7235, 0.7233, 0.7231, 0.7226, 0.722, 0.7219, 0.7219, 0.7218, 0.7215, 0.7204, 0.7202, 0.4767, 0.3271, 0.3269, 0.2982, 0.1713, 0.1271, -0.0058, -0.2463, -0.2465, -0.2469, -0.2473, -0.2474, -0.2474, -0.2493, -0.2493, -0.2588, -0.3513, -0.3499, -0.3583]}, \"token.table\": {\"Topic\": [1, 1, 1, 1, 2, 3, 1, 1, 1, 2, 1, 1, 1, 2, 3, 1, 1, 2, 3, 1, 2, 1, 2, 1, 1, 1, 3, 1, 1, 2, 1, 2, 1, 1, 1, 1, 1, 1, 2, 1, 3, 1, 2, 1, 2, 3, 1, 2, 3, 1, 2, 1, 1, 2, 2, 1, 2, 3, 1, 2, 2, 1, 1, 2, 3, 2, 1, 1, 1, 2, 3, 1, 2, 2, 1, 2, 1, 1, 2, 1, 2, 2, 1, 1, 1, 2, 3, 2, 2, 1, 2, 1, 2, 1, 1, 2, 1, 2, 2, 1, 1, 2, 3, 2, 1, 2, 1, 2], \"Freq\": [0.878530863820555, 0.8795261294994, 0.9164772185598999, 0.4908604819617235, 0.4908604819617235, 0.4908604819617235, 0.9122303325591166, 0.9161652843668087, 0.9123320607255065, 0.9831495938656568, 0.914732491816466, 0.9128037327143113, 0.2271486119106963, 0.4542972238213926, 0.2271486119106963, 0.9082811439626135, 0.6832504851571963, 0.34162524257859817, 0.34162524257859817, 0.9152489874541548, 0.98262260737329, 0.878270265367831, 0.984665794731453, 0.9153540021649342, 0.8802506838938737, 0.5502037036128858, 0.6622456919088524, 0.8819863708960035, 0.4501244367060829, 0.4501244367060829, 0.8789347603107742, 0.9848664280587739, 0.877986132383475, 0.9165318493150961, 0.875822953806701, 0.9159384652430024, 0.8757157859070067, 0.8759180104934278, 0.9842982764643488, 0.4831148617285209, 0.4831148617285209, 0.9152047251310542, 0.9835032075330343, 0.3555584340893269, 0.3555584340893269, 0.3555584340893269, 0.3648294912842587, 0.3648294912842587, 0.3648294912842587, 0.8838470310147237, 0.9814837017971253, 0.8795427472858505, 0.5503299317544853, 0.9822206684113617, 0.6023414458004207, 0.38852401696731703, 0.38852401696731703, 0.38852401696731703, 0.9134332985268493, 0.9865997372630556, 0.9823854663735025, 0.9131123489369602, 0.393128933217171, 0.393128933217171, 0.1965644666085855, 0.9845403521826834, 0.5301273425302785, 0.8768519527476819, 0.45647435238650474, 0.30431623492433646, 0.15215811746216823, 0.8813726741509137, 0.9845004076675176, 0.9829454531007621, 0.9121579128340518, 0.9851695578329185, 0.5245017203663911, 0.9157917410249594, 0.9833841637588686, 0.4501510534452215, 0.4501510534452215, 0.984953014870233, 0.8776306803456123, 0.8756968867675947, 0.23004201137277977, 0.46008402274555954, 0.23004201137277977, 0.9826681682605899, 0.983483844956208, 0.8778726449214016, 0.9801521294898742, 0.8811569425798231, 0.9848075293648214, 0.8784522362088367, 0.8833277939194516, 0.9831131584794807, 0.8821671260270478, 0.9805882657375659, 0.9824841558607722, 0.8765956842950684, 0.4915986571229128, 0.4915986571229128, 0.4915986571229128, 0.9848481334162839, 0.4585133961326734, 0.4585133961326734, 0.9176577937206943, 0.9835429783231077], \"Term\": [\"HALL\", \"MCC\", \"Narai pizzeria\", \"VAT\", \"VAT\", \"VAT\", \"mall\", \"pizza\", \"union\", \"\\u0e01\\u0e01\", \"\\u0e02\\u0e22\\u0e31\\u0e19\", \"\\u0e02\\u0e2d\\u0e07\\u0e2a\\u0e14\", \"\\u0e02\\u0e2d\\u0e07\\u0e2b\\u0e27\\u0e32\\u0e19\", \"\\u0e02\\u0e2d\\u0e07\\u0e2b\\u0e27\\u0e32\\u0e19\", \"\\u0e02\\u0e2d\\u0e07\\u0e2b\\u0e27\\u0e32\\u0e19\", \"\\u0e02\\u0e49\\u0e32\\u0e27\\u0e21\\u0e31\\u0e19\\u0e44\\u0e01\\u0e48\", \"\\u0e04\\u0e19\\u0e25\\u0e30\", \"\\u0e04\\u0e19\\u0e25\\u0e30\", \"\\u0e04\\u0e19\\u0e25\\u0e30\", \"\\u0e04\\u0e38\\u0e13\\u0e20\\u0e32\\u0e1e\", \"\\u0e04\\u0e38\\u0e49\\u0e21\\u0e04\\u0e48\\u0e32\", \"\\u0e04\\u0e48\\u0e32\\u0e22\\u0e21\\u0e27\\u0e22\", \"\\u0e07\\u0e32\\u0e19\", \"\\u0e08\\u0e33\\u0e44\\u0e14\\u0e49\", \"\\u0e0a\\u0e31\\u0e49\\u0e19\", \"\\u0e0a\\u0e37\\u0e48\\u0e2d\", \"\\u0e0a\\u0e38\\u0e14\", \"\\u0e0b\\u0e38\\u0e1b\", \"\\u0e0b\\u0e39\\u0e0a\\u0e34\", \"\\u0e0b\\u0e39\\u0e0a\\u0e34\", \"\\u0e14\\u0e49\\u0e32\\u0e19\\u0e43\\u0e19\", \"\\u0e15\\u0e2d\\u0e19\", \"\\u0e15\\u0e2d\\u0e19\\u0e41\\u0e23\\u0e01\", \"\\u0e15\\u0e31\\u0e14\\u0e01\\u0e33\\u0e25\\u0e31\\u0e07\", \"\\u0e15\\u0e31\\u0e27\\u0e40\\u0e25\\u0e37\\u0e2d\\u0e01\", \"\\u0e15\\u0e39\\u0e49\", \"\\u0e17\\u0e2d\\u0e14\", \"\\u0e17\\u0e35\\u0e48\\u0e44\\u0e2b\\u0e19\\u0e44\\u0e14\\u0e49\", \"\\u0e17\\u0e48\\u0e32\\u0e19\", \"\\u0e19\\u0e32\\u0e23\\u0e32\\u0e22\\u0e1e\\u0e34\\u0e0b\\u0e40\\u0e0b\\u0e2d\\u0e40\\u0e23\\u0e35\\u0e22\", \"\\u0e19\\u0e32\\u0e23\\u0e32\\u0e22\\u0e1e\\u0e34\\u0e0b\\u0e40\\u0e0b\\u0e2d\\u0e40\\u0e23\\u0e35\\u0e22\", \"\\u0e19\\u0e34\\u0e27\\u0e2d\\u0e2d\\u0e25\\u0e35\\u0e19\", \"\\u0e19\\u0e38\\u0e48\\u0e21\", \"\\u0e19\\u0e49\\u0e33\", \"\\u0e19\\u0e49\\u0e33\", \"\\u0e19\\u0e49\\u0e33\", \"\\u0e19\\u0e49\\u0e33\\u0e0b\\u0e38\\u0e1b\", \"\\u0e19\\u0e49\\u0e33\\u0e0b\\u0e38\\u0e1b\", \"\\u0e19\\u0e49\\u0e33\\u0e0b\\u0e38\\u0e1b\", \"\\u0e19\\u0e49\\u0e33\\u0e14\\u0e37\\u0e48\\u0e21\", \"\\u0e1a\\u0e23\\u0e32\\u0e27\\u0e19\\u0e35\\u0e48\", \"\\u0e1a\\u0e32\\u0e07\\u0e01\\u0e30\\u0e1b\\u0e34\", \"\\u0e1a\\u0e32\\u0e07\\u0e2a\\u0e48\\u0e27\\u0e19\", \"\\u0e1a\\u0e38\\u0e1e\\u0e40\\u0e1f\\u0e48\", \"\\u0e1a\\u0e38\\u0e1f\\u0e40\\u0e1f\\u0e48\", \"\\u0e1a\\u0e38\\u0e1f\\u0e40\\u0e1f\\u0e48\\u0e15\\u0e4c\", \"\\u0e1a\\u0e38\\u0e1f\\u0e40\\u0e1f\\u0e48\\u0e15\\u0e4c\", \"\\u0e1a\\u0e38\\u0e1f\\u0e40\\u0e1f\\u0e48\\u0e15\\u0e4c\", \"\\u0e1b\\u0e23\\u0e38\\u0e07\", \"\\u0e1b\\u0e34\\u0e14\\u0e17\\u0e49\\u0e32\\u0e22\", \"\\u0e1c\\u0e31\\u0e01\", \"\\u0e1e\\u0e19\\u0e31\\u0e01\\u0e07\\u0e32\\u0e19\", \"\\u0e1e\\u0e34\\u0e0b\\u0e0b\\u0e48\\u0e32\", \"\\u0e1e\\u0e34\\u0e0b\\u0e0b\\u0e48\\u0e32\", \"\\u0e1e\\u0e34\\u0e0b\\u0e0b\\u0e48\\u0e32\", \"\\u0e23\\u0e2a\\u0e0a\\u0e32\\u0e15\", \"\\u0e23\\u0e2a\\u0e0a\\u0e32\\u0e15\\u0e34\", \"\\u0e23\\u0e2d\\u0e1a\", \"\\u0e23\\u0e32\\u0e04\\u0e32\", \"\\u0e23\\u0e32\\u0e04\\u0e32\", \"\\u0e23\\u0e32\\u0e04\\u0e32\", \"\\u0e23\\u0e35\\u0e1f\\u0e35\\u0e25\", \"\\u0e27\\u0e34\\u0e1b\\u0e04\\u0e23\\u0e35\\u0e21\", \"\\u0e2a\\u0e14\\u0e46 \\u0e23\\u0e49\\u0e2d\\u0e19\\u0e46\", \"\\u0e2a\\u0e1b\\u0e32\\u0e40\\u0e01\\u0e15\\u0e15\\u0e35\\u0e49\", \"\\u0e2a\\u0e21\\u0e23\\u0e32\\u0e04\\u0e32\", \"\\u0e2a\\u0e32\\u0e02\\u0e32\", \"\\u0e2a\\u0e38\\u0e01\", \"\\u0e2b\\u0e19\\u0e49\\u0e32\", \"\\u0e2b\\u0e21\\u0e39\", \"\\u0e2b\\u0e21\\u0e39\", \"\\u0e2b\\u0e2d\", \"\\u0e2b\\u0e34\\u0e27\", \"\\u0e2d\\u0e22\\u0e32\\u0e01\\u0e44\\u0e14\\u0e49\", \"\\u0e2d\\u0e23\\u0e48\\u0e2d\\u0e22\", \"\\u0e2d\\u0e23\\u0e48\\u0e2d\\u0e22\", \"\\u0e2d\\u0e23\\u0e48\\u0e2d\\u0e22\", \"\\u0e40\\u0e07\\u0e34\\u0e19\\u0e2a\\u0e14\", \"\\u0e40\\u0e0b\\u0e15\", \"\\u0e40\\u0e14\\u0e2d\\u0e30\\u0e21\\u0e2d\\u0e25\\u0e25\\u0e4c\", \"\\u0e40\\u0e14\\u0e47\\u0e14\", \"\\u0e40\\u0e19\\u0e37\\u0e49\\u0e2d\", \"\\u0e40\\u0e19\\u0e37\\u0e49\\u0e2d\\u0e27\\u0e31\\u0e27\", \"\\u0e40\\u0e1a\\u0e04\\u0e48\\u0e2d\\u0e19\", \"\\u0e40\\u0e21\\u0e19\\u0e39\", \"\\u0e40\\u0e23\\u0e22\", \"\\u0e41\\u0e01\\u0e07\\u0e40\\u0e02\\u0e35\\u0e22\\u0e27\\u0e2b\\u0e27\\u0e32\\u0e19\", \"\\u0e41\\u0e1b\\u0e25\\u0e01\", \"\\u0e42\\u0e0a\\u0e04\", \"\\u0e42\\u0e0b\\u0e19\", \"\\u0e42\\u0e1b\\u0e23\\u0e42\\u0e21\\u0e0a\\u0e31\\u0e48\\u0e19\", \"\\u0e42\\u0e1b\\u0e23\\u0e42\\u0e21\\u0e0a\\u0e31\\u0e48\\u0e19\", \"\\u0e42\\u0e1b\\u0e23\\u0e42\\u0e21\\u0e0a\\u0e31\\u0e48\\u0e19\", \"\\u0e42\\u0e2d\\u0e40\\u0e04\", \"\\u0e44\\u0e01\\u0e48\", \"\\u0e44\\u0e01\\u0e48\", \"\\u0e44\\u0e25\\u0e19\\u0e4c\", \"\\u0e44\\u0e2d\\u0e15\\u0e34\\u0e21\"]}, \"R\": 30, \"lambda.step\": 0.01, \"plot.opts\": {\"xlab\": \"PC1\", \"ylab\": \"PC2\"}, \"topic.order\": [3, 2, 1]};\n",
              "\n",
              "function LDAvis_load_lib(url, callback){\n",
              "  var s = document.createElement('script');\n",
              "  s.src = url;\n",
              "  s.async = true;\n",
              "  s.onreadystatechange = s.onload = callback;\n",
              "  s.onerror = function(){console.warn(\"failed to load library \" + url);};\n",
              "  document.getElementsByTagName(\"head\")[0].appendChild(s);\n",
              "}\n",
              "\n",
              "if(typeof(LDAvis) !== \"undefined\"){\n",
              "   // already loaded: just create the visualization\n",
              "   !function(LDAvis){\n",
              "       new LDAvis(\"#\" + \"ldavis_el571398503448813923727315504\", ldavis_el571398503448813923727315504_data);\n",
              "   }(LDAvis);\n",
              "}else if(typeof define === \"function\" && define.amd){\n",
              "   // require.js is available: use it to load d3/LDAvis\n",
              "   require.config({paths: {d3: \"https://cdnjs.cloudflare.com/ajax/libs/d3/3.5.5/d3.min\"}});\n",
              "   require([\"d3\"], function(d3){\n",
              "      window.d3 = d3;\n",
              "      LDAvis_load_lib(\"https://cdn.rawgit.com/bmabey/pyLDAvis/files/ldavis.v1.0.0.js\", function(){\n",
              "        new LDAvis(\"#\" + \"ldavis_el571398503448813923727315504\", ldavis_el571398503448813923727315504_data);\n",
              "      });\n",
              "    });\n",
              "}else{\n",
              "    // require.js not available: dynamically load d3 & LDAvis\n",
              "    LDAvis_load_lib(\"https://cdnjs.cloudflare.com/ajax/libs/d3/3.5.5/d3.min.js\", function(){\n",
              "         LDAvis_load_lib(\"https://cdn.rawgit.com/bmabey/pyLDAvis/files/ldavis.v1.0.0.js\", function(){\n",
              "                 new LDAvis(\"#\" + \"ldavis_el571398503448813923727315504\", ldavis_el571398503448813923727315504_data);\n",
              "            })\n",
              "         });\n",
              "}\n",
              "</script>"
            ],
            "text/plain": [
              "PreparedData(topic_coordinates=              x         y  topics  cluster       Freq\n",
              "topic                                                \n",
              "2      0.031513 -0.010949       1        1  44.920896\n",
              "1     -0.027397 -0.016758       2        1  34.049496\n",
              "0     -0.004117  0.027707       3        1  21.029608, topic_info=        Term      Freq     Total Category  logprob  loglift\n",
              "41  บุฟเฟ่ต์  2.000000  2.000000  Default  30.0000  30.0000\n",
              "34       ชุด  1.000000  1.000000  Default  29.0000  29.0000\n",
              "14    น้ำซุป  2.000000  2.000000  Default  28.0000  28.0000\n",
              "39       น้ำ  2.000000  2.000000  Default  27.0000  27.0000\n",
              "2    ของหวาน  4.000000  4.000000  Default  26.0000  26.0000\n",
              "..       ...       ...       ...      ...      ...      ...\n",
              "23       หมู  0.364083  2.221477   Topic3  -4.3784  -0.2493\n",
              "71       ไก่  0.354068  2.180961   Topic3  -4.4063  -0.2588\n",
              "20      ราคา  0.972696  6.572111   Topic3  -3.3957  -0.3513\n",
              "2    ของหวาน  0.652482  4.402404   Topic3  -3.7950  -0.3499\n",
              "70     อร่อย  0.638880  4.347032   Topic3  -3.8161  -0.3583\n",
              "\n",
              "[158 rows x 6 columns], token_table=      Topic      Freq            Term\n",
              "term                                 \n",
              "0         1  0.878531            HALL\n",
              "1         1  0.879526             MCC\n",
              "52        1  0.916477  Narai pizzeria\n",
              "32        1  0.490860             VAT\n",
              "32        2  0.490860             VAT\n",
              "...     ...       ...             ...\n",
              "98        2  0.984848            โอเค\n",
              "71        1  0.458513             ไก่\n",
              "71        2  0.458513             ไก่\n",
              "72        1  0.917658            ไลน์\n",
              "91        2  0.983543           ไอติม\n",
              "\n",
              "[108 rows x 3 columns], R=30, lambda_step=0.01, plot_opts={'xlab': 'PC1', 'ylab': 'PC2'}, topic_order=[3, 2, 1])"
            ]
          },
          "metadata": {
            "tags": []
          },
          "execution_count": 80
        }
      ]
    },
    {
      "cell_type": "code",
      "metadata": {
        "colab": {
          "base_uri": "https://localhost:8080/"
        },
        "id": "lkOD9X3LLwqq",
        "outputId": "272e7c9b-7fc4-402d-f8b3-e41d5873d0c9"
      },
      "source": [
        "model_khanoy.show_topics()"
      ],
      "execution_count": null,
      "outputs": [
        {
          "output_type": "execute_result",
          "data": {
            "text/plain": [
              "[(0,\n",
              "  '0.046*\"บุฟเฟ่ต์\" + 0.037*\"พิซซ่า\" + 0.034*\"ราคา\" + 0.032*\"น้ำซุป\" + 0.025*\"ชุด\" + 0.024*\"น้ำ\" + 0.024*\"คนละ\" + 0.022*\"ของหวาน\" + 0.022*\"อร่อย\" + 0.020*\"VAT\"'),\n",
              " (1,\n",
              "  '0.050*\"ราคา\" + 0.048*\"ของหวาน\" + 0.048*\"อร่อย\" + 0.039*\"พิซซ่า\" + 0.028*\"น้ำ\" + 0.021*\"บุฟเฟ่\" + 0.018*\"ซูชิ\" + 0.018*\"หมู\" + 0.018*\"VAT\" + 0.018*\"โปรโมชั่น\"'),\n",
              " (2,\n",
              "  '0.052*\"ราคา\" + 0.035*\"พิซซ่า\" + 0.025*\"คนละ\" + 0.024*\"ของหวาน\" + 0.024*\"อร่อย\" + 0.020*\"สาขา\" + 0.020*\"รสชาติ\" + 0.020*\"ชื่อ\" + 0.020*\"บางส่วน\" + 0.019*\"น้ำซุป\"')]"
            ]
          },
          "metadata": {
            "tags": []
          },
          "execution_count": 81
        }
      ]
    },
    {
      "cell_type": "code",
      "metadata": {
        "colab": {
          "base_uri": "https://localhost:8080/"
        },
        "id": "bI6fBzyeYqHn",
        "outputId": "b7947ab6-dd44-4889-c01d-72184288dca9"
      },
      "source": [
        "model_khanoy.show_topic(1)"
      ],
      "execution_count": null,
      "outputs": [
        {
          "output_type": "execute_result",
          "data": {
            "text/plain": [
              "[('ราคา', 0.050497673),\n",
              " ('ของหวาน', 0.047962107),\n",
              " ('อร่อย', 0.047555633),\n",
              " ('พิซซ่า', 0.039058734),\n",
              " ('น้ำ', 0.028193599),\n",
              " ('บุฟเฟ่', 0.021468159),\n",
              " ('ซูชิ', 0.018030768),\n",
              " ('หมู', 0.01802981),\n",
              " ('VAT', 0.017861737),\n",
              " ('โปรโมชั่น', 0.017839395)]"
            ]
          },
          "metadata": {
            "tags": []
          },
          "execution_count": 82
        }
      ]
    },
    {
      "cell_type": "code",
      "metadata": {
        "colab": {
          "base_uri": "https://localhost:8080/"
        },
        "id": "rvT2LlG2Yx-3",
        "outputId": "5e22d3be-2103-475f-f738-2e8158ed4faf"
      },
      "source": [
        "df_khanoy['topics'] = df_khanoy['Review_tokenized'].apply(lambda x: model_khanoy.get_document_topics(dictionary_khanoy.doc2bow(x.split(',')))[0][0])\n",
        "df_khanoy['score'] = df_khanoy['Review_tokenized'].apply(lambda x: model_khanoy.get_document_topics(dictionary_khanoy.doc2bow(x.split(',')))[0][1])"
      ],
      "execution_count": null,
      "outputs": [
        {
          "output_type": "stream",
          "text": [
            "/usr/local/lib/python3.6/dist-packages/ipykernel_launcher.py:1: SettingWithCopyWarning: \n",
            "A value is trying to be set on a copy of a slice from a DataFrame.\n",
            "Try using .loc[row_indexer,col_indexer] = value instead\n",
            "\n",
            "See the caveats in the documentation: https://pandas.pydata.org/pandas-docs/stable/user_guide/indexing.html#returning-a-view-versus-a-copy\n",
            "  \"\"\"Entry point for launching an IPython kernel.\n",
            "/usr/local/lib/python3.6/dist-packages/ipykernel_launcher.py:2: SettingWithCopyWarning: \n",
            "A value is trying to be set on a copy of a slice from a DataFrame.\n",
            "Try using .loc[row_indexer,col_indexer] = value instead\n",
            "\n",
            "See the caveats in the documentation: https://pandas.pydata.org/pandas-docs/stable/user_guide/indexing.html#returning-a-view-versus-a-copy\n",
            "  \n"
          ],
          "name": "stderr"
        }
      ]
    },
    {
      "cell_type": "code",
      "metadata": {
        "colab": {
          "base_uri": "https://localhost:8080/",
          "height": 666
        },
        "id": "G8f_AhgJY76E",
        "outputId": "006790a7-0f4d-4bcb-b896-f3f5f986b339"
      },
      "source": [
        "df_khanoy.head(10)"
      ],
      "execution_count": null,
      "outputs": [
        {
          "output_type": "execute_result",
          "data": {
            "text/html": [
              "<div>\n",
              "<style scoped>\n",
              "    .dataframe tbody tr th:only-of-type {\n",
              "        vertical-align: middle;\n",
              "    }\n",
              "\n",
              "    .dataframe tbody tr th {\n",
              "        vertical-align: top;\n",
              "    }\n",
              "\n",
              "    .dataframe thead th {\n",
              "        text-align: right;\n",
              "    }\n",
              "</style>\n",
              "<table border=\"1\" class=\"dataframe\">\n",
              "  <thead>\n",
              "    <tr style=\"text-align: right;\">\n",
              "      <th></th>\n",
              "      <th>Review ID</th>\n",
              "      <th>Restaurant_ID</th>\n",
              "      <th>Restaurant</th>\n",
              "      <th>User</th>\n",
              "      <th>Headline</th>\n",
              "      <th>Review</th>\n",
              "      <th>Rating</th>\n",
              "      <th>Review_tokenized</th>\n",
              "      <th>topics</th>\n",
              "      <th>score</th>\n",
              "    </tr>\n",
              "  </thead>\n",
              "  <tbody>\n",
              "    <tr>\n",
              "      <th>16</th>\n",
              "      <td>17</td>\n",
              "      <td>436045MJ-ข้าน้อยขอชาบู</td>\n",
              "      <td>ข้าน้อยขอชาบู</td>\n",
              "      <td>ployynp</td>\n",
              "      <td>บุฟเฟ่ต์ชาบูและพิซซ่าไม่อั้นในราคา 199 บาท เน้...</td>\n",
              "      <td>หลังจากที่เคยลองสาขายูเนี่ยนมอลล์ไป รอบนี้มาที...</td>\n",
              "      <td>4.0</td>\n",
              "      <td>สาขา,รอบ,สาขา,เดอะมอลล์,บางกะปิ,ชั้น,โซน,MCC,H...</td>\n",
              "      <td>2</td>\n",
              "      <td>0.998142</td>\n",
              "    </tr>\n",
              "    <tr>\n",
              "      <th>17</th>\n",
              "      <td>18</td>\n",
              "      <td>436045MJ-ข้าน้อยขอชาบู</td>\n",
              "      <td>ข้าน้อยขอชาบู</td>\n",
              "      <td>27a91236fe5e4559a4f097c97a480781</td>\n",
              "      <td>ร้านบุฟเฟ่ต์ ราคามิตรภาพ อยู่ชั้น4 ติดโรงหนัง ...</td>\n",
              "      <td>ร้านบุฟเฟ่ต์ที่มีโปรโมชั่นหัวละ199บาท ไม่รวมน้...</td>\n",
              "      <td>4.0</td>\n",
              "      <td>บุฟเฟ่ต์,โปรโมชั่น,หัว,น้ำ,VAT,ได้เวลา,ชม,น้ำซ...</td>\n",
              "      <td>0</td>\n",
              "      <td>0.996984</td>\n",
              "    </tr>\n",
              "    <tr>\n",
              "      <th>18</th>\n",
              "      <td>19</td>\n",
              "      <td>436045MJ-ข้าน้อยขอชาบู</td>\n",
              "      <td>ข้าน้อยขอชาบู</td>\n",
              "      <td>0b81d251e4db486f9bcdba73b374ed99</td>\n",
              "      <td>ของหลากหลาย ปนๆ งงๆ นิดหน่อย</td>\n",
              "      <td>เคยรู้จักร้านนี้จากที่ union mall ไม่เคยได้ลอง...</td>\n",
              "      <td>3.0</td>\n",
              "      <td>union,mall,จำได้,ชื่อ,ชื่อ,Narai pizzeria,ไลน์...</td>\n",
              "      <td>2</td>\n",
              "      <td>0.997063</td>\n",
              "    </tr>\n",
              "    <tr>\n",
              "      <th>19</th>\n",
              "      <td>20</td>\n",
              "      <td>436045MJ-ข้าน้อยขอชาบู</td>\n",
              "      <td>ข้าน้อยขอชาบู</td>\n",
              "      <td>40e0e087f3914fd49a8933b5a29936ca</td>\n",
              "      <td>อร่อยมากค่ะ คุ้มค่าสมราคา บุฟเฟ่หมูผักต่างๆ รว...</td>\n",
              "      <td>อร่อยมากค่ะ คุ้มค่าสมราคา บุฟเฟ่หมูผักต่างๆ รว...</td>\n",
              "      <td>5.0</td>\n",
              "      <td>อร่อย,คุ้มค่า,สมราคา,บุฟเฟ่,หมู,ผัก,น้ำ,ท่าน,เ...</td>\n",
              "      <td>1</td>\n",
              "      <td>0.997776</td>\n",
              "    </tr>\n",
              "    <tr>\n",
              "      <th>20</th>\n",
              "      <td>21</td>\n",
              "      <td>436045MJ-ข้าน้อยขอชาบู</td>\n",
              "      <td>ข้าน้อยขอชาบู</td>\n",
              "      <td>41841cb99ea243a3a8d4b006e946c586</td>\n",
              "      <td>แม้จะแปลกบ้าง แต่ก็ถือว่าอยู่ในเกณฑ์ที่ดี มีอา...</td>\n",
              "      <td>ก็ตามที่เขียนเลยครับ ว่า ถ้าจะจ่ายในราคา 199 บ...</td>\n",
              "      <td>NaN</td>\n",
              "      <td>ราคา,เงินสด,ราคา,น้ำ,VAT,เนื้อวัว,ซูชิ,ของหวาน...</td>\n",
              "      <td>1</td>\n",
              "      <td>0.995275</td>\n",
              "    </tr>\n",
              "  </tbody>\n",
              "</table>\n",
              "</div>"
            ],
            "text/plain": [
              "    Review ID           Restaurant_ID  ... topics     score\n",
              "16         17  436045MJ-ข้าน้อยขอชาบู  ...      2  0.998142\n",
              "17         18  436045MJ-ข้าน้อยขอชาบู  ...      0  0.996984\n",
              "18         19  436045MJ-ข้าน้อยขอชาบู  ...      2  0.997063\n",
              "19         20  436045MJ-ข้าน้อยขอชาบู  ...      1  0.997776\n",
              "20         21  436045MJ-ข้าน้อยขอชาบู  ...      1  0.995275\n",
              "\n",
              "[5 rows x 10 columns]"
            ]
          },
          "metadata": {
            "tags": []
          },
          "execution_count": 84
        }
      ]
    }
  ]
}