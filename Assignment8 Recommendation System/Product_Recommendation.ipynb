{
  "nbformat": 4,
  "nbformat_minor": 0,
  "metadata": {
    "colab": {
      "name": "Copy of Product Recommendation",
      "provenance": [],
      "collapsed_sections": []
    },
    "kernelspec": {
      "name": "python3",
      "display_name": "Python 3"
    }
  },
  "cells": [
    {
      "cell_type": "markdown",
      "metadata": {
        "id": "awPaiIwZNzBv"
      },
      "source": [
        "# Market Basket Analysis"
      ]
    },
    {
      "cell_type": "code",
      "metadata": {
        "id": "qU2LWxFOaXc1",
        "colab": {
          "base_uri": "https://localhost:8080/",
          "height": 275
        },
        "outputId": "79ee5143-f30a-4ed8-cecd-2428753a5766"
      },
      "source": [
        "!pip install mlxtend"
      ],
      "execution_count": null,
      "outputs": [
        {
          "output_type": "stream",
          "text": [
            "Requirement already satisfied: mlxtend in /usr/local/lib/python3.6/dist-packages (0.14.0)\n",
            "Requirement already satisfied: setuptools in /usr/local/lib/python3.6/dist-packages (from mlxtend) (50.3.0)\n",
            "Requirement already satisfied: numpy>=1.10.4 in /usr/local/lib/python3.6/dist-packages (from mlxtend) (1.18.5)\n",
            "Requirement already satisfied: scipy>=0.17 in /usr/local/lib/python3.6/dist-packages (from mlxtend) (1.4.1)\n",
            "Requirement already satisfied: pandas>=0.17.1 in /usr/local/lib/python3.6/dist-packages (from mlxtend) (1.1.2)\n",
            "Requirement already satisfied: matplotlib>=1.5.1 in /usr/local/lib/python3.6/dist-packages (from mlxtend) (3.2.2)\n",
            "Requirement already satisfied: scikit-learn>=0.18 in /usr/local/lib/python3.6/dist-packages (from mlxtend) (0.22.2.post1)\n",
            "Requirement already satisfied: python-dateutil>=2.7.3 in /usr/local/lib/python3.6/dist-packages (from pandas>=0.17.1->mlxtend) (2.8.1)\n",
            "Requirement already satisfied: pytz>=2017.2 in /usr/local/lib/python3.6/dist-packages (from pandas>=0.17.1->mlxtend) (2018.9)\n",
            "Requirement already satisfied: cycler>=0.10 in /usr/local/lib/python3.6/dist-packages (from matplotlib>=1.5.1->mlxtend) (0.10.0)\n",
            "Requirement already satisfied: pyparsing!=2.0.4,!=2.1.2,!=2.1.6,>=2.0.1 in /usr/local/lib/python3.6/dist-packages (from matplotlib>=1.5.1->mlxtend) (2.4.7)\n",
            "Requirement already satisfied: kiwisolver>=1.0.1 in /usr/local/lib/python3.6/dist-packages (from matplotlib>=1.5.1->mlxtend) (1.2.0)\n",
            "Requirement already satisfied: joblib>=0.11 in /usr/local/lib/python3.6/dist-packages (from scikit-learn>=0.18->mlxtend) (0.16.0)\n",
            "Requirement already satisfied: six>=1.5 in /usr/local/lib/python3.6/dist-packages (from python-dateutil>=2.7.3->pandas>=0.17.1->mlxtend) (1.15.0)\n"
          ],
          "name": "stdout"
        }
      ]
    },
    {
      "cell_type": "markdown",
      "metadata": {
        "id": "PbrGWnT6ODaU"
      },
      "source": [
        "## Prepare data"
      ]
    },
    {
      "cell_type": "code",
      "metadata": {
        "id": "7gAwynAjakpt",
        "colab": {
          "base_uri": "https://localhost:8080/",
          "height": 34
        },
        "outputId": "ec051fbb-ba6e-43f2-c5d5-1d6a031a2224"
      },
      "source": [
        "import pandas as pd\n",
        "from google.colab import drive\n",
        "drive.mount('/content/drive')"
      ],
      "execution_count": null,
      "outputs": [
        {
          "output_type": "stream",
          "text": [
            "Mounted at /content/drive\n"
          ],
          "name": "stdout"
        }
      ]
    },
    {
      "cell_type": "code",
      "metadata": {
        "id": "kL-9PRUz8rdM"
      },
      "source": [
        "df = pd.read_csv('/content/drive/My Drive/Colab Notebooks/CRM/1 Recommendation System/Customer Preference Survey - Weekday (Responses) - Form Responses 1.csv')"
      ],
      "execution_count": null,
      "outputs": []
    },
    {
      "cell_type": "code",
      "metadata": {
        "id": "QLt5WszRz8Pn",
        "colab": {
          "base_uri": "https://localhost:8080/",
          "height": 408
        },
        "outputId": "109b915f-fb87-4340-b7cd-46210f69cff8"
      },
      "source": [
        "df.head(5)"
      ],
      "execution_count": null,
      "outputs": [
        {
          "output_type": "execute_result",
          "data": {
            "text/html": [
              "<div>\n",
              "<style scoped>\n",
              "    .dataframe tbody tr th:only-of-type {\n",
              "        vertical-align: middle;\n",
              "    }\n",
              "\n",
              "    .dataframe tbody tr th {\n",
              "        vertical-align: top;\n",
              "    }\n",
              "\n",
              "    .dataframe thead th {\n",
              "        text-align: right;\n",
              "    }\n",
              "</style>\n",
              "<table border=\"1\" class=\"dataframe\">\n",
              "  <thead>\n",
              "    <tr style=\"text-align: right;\">\n",
              "      <th></th>\n",
              "      <th>Timestamp</th>\n",
              "      <th>เสื้อกันฝน</th>\n",
              "      <th>เต็นท์</th>\n",
              "      <th>เครื่อง Playstation</th>\n",
              "      <th>รองเท้า Vans</th>\n",
              "      <th>หูฟัง Bluetooth</th>\n",
              "      <th>โรบอทดูดฝุ่น</th>\n",
              "      <th>แผ่นไวนิล</th>\n",
              "      <th>E-Book</th>\n",
              "      <th>ยาดม</th>\n",
              "      <th>ลำโพงฟังเพลง</th>\n",
              "      <th>เครื่องฟอกอากาศในรถ</th>\n",
              "      <th>Pesto Sauce</th>\n",
              "      <th>มาสคาร่า</th>\n",
              "      <th>Milo Cereal Bar</th>\n",
              "      <th>น้ำวิตามิน</th>\n",
              "      <th>น้ำอัดลม</th>\n",
              "    </tr>\n",
              "  </thead>\n",
              "  <tbody>\n",
              "    <tr>\n",
              "      <th>0</th>\n",
              "      <td>10/20/2020 10:10:07</td>\n",
              "      <td>เคยซื้อ</td>\n",
              "      <td>เคยซื้อ</td>\n",
              "      <td>ไม่เคยซื้อ</td>\n",
              "      <td>ไม่เคยซื้อ</td>\n",
              "      <td>เคย</td>\n",
              "      <td>ไม่เคยซื้อ</td>\n",
              "      <td>ไม่เคยซื้อ</td>\n",
              "      <td>ไม่เคยซื้อ</td>\n",
              "      <td>เคยซื้อ</td>\n",
              "      <td>เคยซื้อ</td>\n",
              "      <td>NaN</td>\n",
              "      <td>ไม่เคยซื้อ</td>\n",
              "      <td>ไม่เคยซื้อ</td>\n",
              "      <td>ไม่เคยซื้อ</td>\n",
              "      <td>ไม่เคยซื้อ</td>\n",
              "      <td>เคยซื้อ</td>\n",
              "    </tr>\n",
              "    <tr>\n",
              "      <th>1</th>\n",
              "      <td>10/20/2020 10:10:09</td>\n",
              "      <td>เคยซื้อ</td>\n",
              "      <td>เคยซื้อ</td>\n",
              "      <td>เคยซื้อ</td>\n",
              "      <td>ไม่เคยซื้อ</td>\n",
              "      <td>เคย</td>\n",
              "      <td>ไม่เคยซื้อ</td>\n",
              "      <td>ไม่เคยซื้อ</td>\n",
              "      <td>เคยซื้อ</td>\n",
              "      <td>เคยซื้อ</td>\n",
              "      <td>เคยซื้อ</td>\n",
              "      <td>ไม่เคยซื้อ</td>\n",
              "      <td>ไม่เคยซื้อ</td>\n",
              "      <td>ไม่เคยซื้อ</td>\n",
              "      <td>ไม่เคยซื้อ</td>\n",
              "      <td>เคยซื้อ</td>\n",
              "      <td>เคยซื้อ</td>\n",
              "    </tr>\n",
              "    <tr>\n",
              "      <th>2</th>\n",
              "      <td>10/20/2020 10:10:28</td>\n",
              "      <td>เคยซื้อ</td>\n",
              "      <td>ไม่เคยซื้อ</td>\n",
              "      <td>เคยซื้อ</td>\n",
              "      <td>ไม่เคยซื้อ</td>\n",
              "      <td>เคย</td>\n",
              "      <td>ไม่เคยซื้อ</td>\n",
              "      <td>ไม่เคยซื้อ</td>\n",
              "      <td>เคยซื้อ</td>\n",
              "      <td>เคยซื้อ</td>\n",
              "      <td>เคยซื้อ</td>\n",
              "      <td>ไม่เคยซื้อ</td>\n",
              "      <td>เคยซื้อ</td>\n",
              "      <td>ไม่เคยซื้อ</td>\n",
              "      <td>เคยซื้อ</td>\n",
              "      <td>ไม่เคยซื้อ</td>\n",
              "      <td>ไ่ม่เคยซื้อ</td>\n",
              "    </tr>\n",
              "    <tr>\n",
              "      <th>3</th>\n",
              "      <td>10/20/2020 10:10:31</td>\n",
              "      <td>เคยซื้อ</td>\n",
              "      <td>ไม่เคยซื้อ</td>\n",
              "      <td>ไม่เคยซื้อ</td>\n",
              "      <td>ไม่เคยซื้อ</td>\n",
              "      <td>เคย</td>\n",
              "      <td>ไม่เคยซื้อ</td>\n",
              "      <td>ไม่เคยซื้อ</td>\n",
              "      <td>ไม่เคยซื้อ</td>\n",
              "      <td>เคยซื้อ</td>\n",
              "      <td>เคยซื้อ</td>\n",
              "      <td>ไม่เคยซื้อ</td>\n",
              "      <td>ไม่เคยซื้อ</td>\n",
              "      <td>เคยซื้อ</td>\n",
              "      <td>เคยซื้อ</td>\n",
              "      <td>เคยซื้อ</td>\n",
              "      <td>เคยซื้อ</td>\n",
              "    </tr>\n",
              "    <tr>\n",
              "      <th>4</th>\n",
              "      <td>10/20/2020 10:10:35</td>\n",
              "      <td>เคยซื้อ</td>\n",
              "      <td>ไม่เคยซื้อ</td>\n",
              "      <td>ไม่เคยซื้อ</td>\n",
              "      <td>เคยซื้อ</td>\n",
              "      <td>ไม่เคย</td>\n",
              "      <td>ไม่เคยซื้อ</td>\n",
              "      <td>ไม่เคยซื้อ</td>\n",
              "      <td>เคยซื้อ</td>\n",
              "      <td>ไม่เคยซื้อ</td>\n",
              "      <td>ไม่เคยซื้อ</td>\n",
              "      <td>เคยซื้อ</td>\n",
              "      <td>ไม่เคยซื้อ</td>\n",
              "      <td>ไม่เคยซื้อ</td>\n",
              "      <td>เคยซื้อ</td>\n",
              "      <td>เคยซื้อ</td>\n",
              "      <td>เคยซื้อ</td>\n",
              "    </tr>\n",
              "  </tbody>\n",
              "</table>\n",
              "</div>"
            ],
            "text/plain": [
              "             Timestamp เสื้อกันฝน  ...  น้ำวิตามิน     น้ำอัดลม\n",
              "0  10/20/2020 10:10:07    เคยซื้อ  ...  ไม่เคยซื้อ      เคยซื้อ\n",
              "1  10/20/2020 10:10:09    เคยซื้อ  ...     เคยซื้อ      เคยซื้อ\n",
              "2  10/20/2020 10:10:28    เคยซื้อ  ...  ไม่เคยซื้อ  ไ่ม่เคยซื้อ\n",
              "3  10/20/2020 10:10:31    เคยซื้อ  ...     เคยซื้อ      เคยซื้อ\n",
              "4  10/20/2020 10:10:35    เคยซื้อ  ...     เคยซื้อ      เคยซื้อ\n",
              "\n",
              "[5 rows x 17 columns]"
            ]
          },
          "metadata": {
            "tags": []
          },
          "execution_count": 19
        }
      ]
    },
    {
      "cell_type": "code",
      "metadata": {
        "id": "qvtQIJyXanKL",
        "colab": {
          "base_uri": "https://localhost:8080/",
          "height": 323
        },
        "outputId": "85d8d60d-47cf-4b16-e161-df16a5bddb3b"
      },
      "source": [
        "missing = df.isnull().sum()\n",
        "print(missing)"
      ],
      "execution_count": null,
      "outputs": [
        {
          "output_type": "stream",
          "text": [
            "Timestamp              0\n",
            "เสื้อกันฝน             0\n",
            "เต็นท์                 0\n",
            "เครื่อง Playstation    0\n",
            "รองเท้า Vans           0\n",
            "หูฟัง Bluetooth        0\n",
            "โรบอทดูดฝุ่น           0\n",
            "แผ่นไวนิล              0\n",
            "E-Book                 0\n",
            "ยาดม                   0\n",
            "ลำโพงฟังเพลง           0\n",
            "เครื่องฟอกอากาศในรถ    1\n",
            "Pesto Sauce            0\n",
            "มาสคาร่า               0\n",
            "Milo Cereal Bar        0\n",
            "น้ำวิตามิน             0\n",
            "น้ำอัดลม               0\n",
            "dtype: int64\n"
          ],
          "name": "stdout"
        }
      ]
    },
    {
      "cell_type": "code",
      "metadata": {
        "id": "dzoXhowhD1Fj"
      },
      "source": [
        "hot_encoded_df=df.fillna('ไม่เคยซื้อ')"
      ],
      "execution_count": null,
      "outputs": []
    },
    {
      "cell_type": "code",
      "metadata": {
        "id": "Q_dQafxs0GPV",
        "colab": {
          "base_uri": "https://localhost:8080/",
          "height": 408
        },
        "outputId": "aa03da89-fb5a-4f73-b977-d1c26d88cd89"
      },
      "source": [
        "hot_encoded_df.head(5)"
      ],
      "execution_count": null,
      "outputs": [
        {
          "output_type": "execute_result",
          "data": {
            "text/html": [
              "<div>\n",
              "<style scoped>\n",
              "    .dataframe tbody tr th:only-of-type {\n",
              "        vertical-align: middle;\n",
              "    }\n",
              "\n",
              "    .dataframe tbody tr th {\n",
              "        vertical-align: top;\n",
              "    }\n",
              "\n",
              "    .dataframe thead th {\n",
              "        text-align: right;\n",
              "    }\n",
              "</style>\n",
              "<table border=\"1\" class=\"dataframe\">\n",
              "  <thead>\n",
              "    <tr style=\"text-align: right;\">\n",
              "      <th></th>\n",
              "      <th>Timestamp</th>\n",
              "      <th>เสื้อกันฝน</th>\n",
              "      <th>เต็นท์</th>\n",
              "      <th>เครื่อง Playstation</th>\n",
              "      <th>รองเท้า Vans</th>\n",
              "      <th>หูฟัง Bluetooth</th>\n",
              "      <th>โรบอทดูดฝุ่น</th>\n",
              "      <th>แผ่นไวนิล</th>\n",
              "      <th>E-Book</th>\n",
              "      <th>ยาดม</th>\n",
              "      <th>ลำโพงฟังเพลง</th>\n",
              "      <th>เครื่องฟอกอากาศในรถ</th>\n",
              "      <th>Pesto Sauce</th>\n",
              "      <th>มาสคาร่า</th>\n",
              "      <th>Milo Cereal Bar</th>\n",
              "      <th>น้ำวิตามิน</th>\n",
              "      <th>น้ำอัดลม</th>\n",
              "    </tr>\n",
              "  </thead>\n",
              "  <tbody>\n",
              "    <tr>\n",
              "      <th>0</th>\n",
              "      <td>10/20/2020 10:10:07</td>\n",
              "      <td>เคยซื้อ</td>\n",
              "      <td>เคยซื้อ</td>\n",
              "      <td>ไม่เคยซื้อ</td>\n",
              "      <td>ไม่เคยซื้อ</td>\n",
              "      <td>เคย</td>\n",
              "      <td>ไม่เคยซื้อ</td>\n",
              "      <td>ไม่เคยซื้อ</td>\n",
              "      <td>ไม่เคยซื้อ</td>\n",
              "      <td>เคยซื้อ</td>\n",
              "      <td>เคยซื้อ</td>\n",
              "      <td>ไม่เคยซื้อ</td>\n",
              "      <td>ไม่เคยซื้อ</td>\n",
              "      <td>ไม่เคยซื้อ</td>\n",
              "      <td>ไม่เคยซื้อ</td>\n",
              "      <td>ไม่เคยซื้อ</td>\n",
              "      <td>เคยซื้อ</td>\n",
              "    </tr>\n",
              "    <tr>\n",
              "      <th>1</th>\n",
              "      <td>10/20/2020 10:10:09</td>\n",
              "      <td>เคยซื้อ</td>\n",
              "      <td>เคยซื้อ</td>\n",
              "      <td>เคยซื้อ</td>\n",
              "      <td>ไม่เคยซื้อ</td>\n",
              "      <td>เคย</td>\n",
              "      <td>ไม่เคยซื้อ</td>\n",
              "      <td>ไม่เคยซื้อ</td>\n",
              "      <td>เคยซื้อ</td>\n",
              "      <td>เคยซื้อ</td>\n",
              "      <td>เคยซื้อ</td>\n",
              "      <td>ไม่เคยซื้อ</td>\n",
              "      <td>ไม่เคยซื้อ</td>\n",
              "      <td>ไม่เคยซื้อ</td>\n",
              "      <td>ไม่เคยซื้อ</td>\n",
              "      <td>เคยซื้อ</td>\n",
              "      <td>เคยซื้อ</td>\n",
              "    </tr>\n",
              "    <tr>\n",
              "      <th>2</th>\n",
              "      <td>10/20/2020 10:10:28</td>\n",
              "      <td>เคยซื้อ</td>\n",
              "      <td>ไม่เคยซื้อ</td>\n",
              "      <td>เคยซื้อ</td>\n",
              "      <td>ไม่เคยซื้อ</td>\n",
              "      <td>เคย</td>\n",
              "      <td>ไม่เคยซื้อ</td>\n",
              "      <td>ไม่เคยซื้อ</td>\n",
              "      <td>เคยซื้อ</td>\n",
              "      <td>เคยซื้อ</td>\n",
              "      <td>เคยซื้อ</td>\n",
              "      <td>ไม่เคยซื้อ</td>\n",
              "      <td>เคยซื้อ</td>\n",
              "      <td>ไม่เคยซื้อ</td>\n",
              "      <td>เคยซื้อ</td>\n",
              "      <td>ไม่เคยซื้อ</td>\n",
              "      <td>ไ่ม่เคยซื้อ</td>\n",
              "    </tr>\n",
              "    <tr>\n",
              "      <th>3</th>\n",
              "      <td>10/20/2020 10:10:31</td>\n",
              "      <td>เคยซื้อ</td>\n",
              "      <td>ไม่เคยซื้อ</td>\n",
              "      <td>ไม่เคยซื้อ</td>\n",
              "      <td>ไม่เคยซื้อ</td>\n",
              "      <td>เคย</td>\n",
              "      <td>ไม่เคยซื้อ</td>\n",
              "      <td>ไม่เคยซื้อ</td>\n",
              "      <td>ไม่เคยซื้อ</td>\n",
              "      <td>เคยซื้อ</td>\n",
              "      <td>เคยซื้อ</td>\n",
              "      <td>ไม่เคยซื้อ</td>\n",
              "      <td>ไม่เคยซื้อ</td>\n",
              "      <td>เคยซื้อ</td>\n",
              "      <td>เคยซื้อ</td>\n",
              "      <td>เคยซื้อ</td>\n",
              "      <td>เคยซื้อ</td>\n",
              "    </tr>\n",
              "    <tr>\n",
              "      <th>4</th>\n",
              "      <td>10/20/2020 10:10:35</td>\n",
              "      <td>เคยซื้อ</td>\n",
              "      <td>ไม่เคยซื้อ</td>\n",
              "      <td>ไม่เคยซื้อ</td>\n",
              "      <td>เคยซื้อ</td>\n",
              "      <td>ไม่เคย</td>\n",
              "      <td>ไม่เคยซื้อ</td>\n",
              "      <td>ไม่เคยซื้อ</td>\n",
              "      <td>เคยซื้อ</td>\n",
              "      <td>ไม่เคยซื้อ</td>\n",
              "      <td>ไม่เคยซื้อ</td>\n",
              "      <td>เคยซื้อ</td>\n",
              "      <td>ไม่เคยซื้อ</td>\n",
              "      <td>ไม่เคยซื้อ</td>\n",
              "      <td>เคยซื้อ</td>\n",
              "      <td>เคยซื้อ</td>\n",
              "      <td>เคยซื้อ</td>\n",
              "    </tr>\n",
              "  </tbody>\n",
              "</table>\n",
              "</div>"
            ],
            "text/plain": [
              "             Timestamp เสื้อกันฝน  ...  น้ำวิตามิน     น้ำอัดลม\n",
              "0  10/20/2020 10:10:07    เคยซื้อ  ...  ไม่เคยซื้อ      เคยซื้อ\n",
              "1  10/20/2020 10:10:09    เคยซื้อ  ...     เคยซื้อ      เคยซื้อ\n",
              "2  10/20/2020 10:10:28    เคยซื้อ  ...  ไม่เคยซื้อ  ไ่ม่เคยซื้อ\n",
              "3  10/20/2020 10:10:31    เคยซื้อ  ...     เคยซื้อ      เคยซื้อ\n",
              "4  10/20/2020 10:10:35    เคยซื้อ  ...     เคยซื้อ      เคยซื้อ\n",
              "\n",
              "[5 rows x 17 columns]"
            ]
          },
          "metadata": {
            "tags": []
          },
          "execution_count": 27
        }
      ]
    },
    {
      "cell_type": "code",
      "metadata": {
        "id": "BaZeBEghIwax"
      },
      "source": [
        "del hot_encoded_df['Timestamp']"
      ],
      "execution_count": null,
      "outputs": []
    },
    {
      "cell_type": "markdown",
      "metadata": {
        "id": "ENVJSXSFOJ9E"
      },
      "source": [
        "## Data Transformation"
      ]
    },
    {
      "cell_type": "code",
      "metadata": {
        "id": "RozaIQpLbTeh",
        "colab": {
          "base_uri": "https://localhost:8080/",
          "height": 393
        },
        "outputId": "9645e308-07ca-48c0-cb71-6c7a80e60d6e"
      },
      "source": [
        "def encode_units(x):\n",
        "    if x == 'ไม่เคยซื้อ' or x == 'ไม่เคย' or x == 'ไ่ม่เคยซื้อ':\n",
        "        return 0\n",
        "    if x == 'เคยซื้อ' or x == 'เคย':\n",
        "        return 1\n",
        "#hot_encoded_df.applymap(encode_units).head(10)\n",
        "hot_encoded_cleaned_df = hot_encoded_df.applymap(encode_units)\n",
        "hot_encoded_cleaned_df.head(10)"
      ],
      "execution_count": null,
      "outputs": [
        {
          "output_type": "execute_result",
          "data": {
            "text/html": [
              "<div>\n",
              "<style scoped>\n",
              "    .dataframe tbody tr th:only-of-type {\n",
              "        vertical-align: middle;\n",
              "    }\n",
              "\n",
              "    .dataframe tbody tr th {\n",
              "        vertical-align: top;\n",
              "    }\n",
              "\n",
              "    .dataframe thead th {\n",
              "        text-align: right;\n",
              "    }\n",
              "</style>\n",
              "<table border=\"1\" class=\"dataframe\">\n",
              "  <thead>\n",
              "    <tr style=\"text-align: right;\">\n",
              "      <th></th>\n",
              "      <th>เสื้อกันฝน</th>\n",
              "      <th>เต็นท์</th>\n",
              "      <th>เครื่อง Playstation</th>\n",
              "      <th>รองเท้า Vans</th>\n",
              "      <th>หูฟัง Bluetooth</th>\n",
              "      <th>โรบอทดูดฝุ่น</th>\n",
              "      <th>แผ่นไวนิล</th>\n",
              "      <th>E-Book</th>\n",
              "      <th>ยาดม</th>\n",
              "      <th>ลำโพงฟังเพลง</th>\n",
              "      <th>เครื่องฟอกอากาศในรถ</th>\n",
              "      <th>Pesto Sauce</th>\n",
              "      <th>มาสคาร่า</th>\n",
              "      <th>Milo Cereal Bar</th>\n",
              "      <th>น้ำวิตามิน</th>\n",
              "      <th>น้ำอัดลม</th>\n",
              "    </tr>\n",
              "  </thead>\n",
              "  <tbody>\n",
              "    <tr>\n",
              "      <th>0</th>\n",
              "      <td>1</td>\n",
              "      <td>1</td>\n",
              "      <td>0</td>\n",
              "      <td>0</td>\n",
              "      <td>1</td>\n",
              "      <td>0</td>\n",
              "      <td>0</td>\n",
              "      <td>0</td>\n",
              "      <td>1</td>\n",
              "      <td>1</td>\n",
              "      <td>0</td>\n",
              "      <td>0</td>\n",
              "      <td>0</td>\n",
              "      <td>0</td>\n",
              "      <td>0</td>\n",
              "      <td>1</td>\n",
              "    </tr>\n",
              "    <tr>\n",
              "      <th>1</th>\n",
              "      <td>1</td>\n",
              "      <td>1</td>\n",
              "      <td>1</td>\n",
              "      <td>0</td>\n",
              "      <td>1</td>\n",
              "      <td>0</td>\n",
              "      <td>0</td>\n",
              "      <td>1</td>\n",
              "      <td>1</td>\n",
              "      <td>1</td>\n",
              "      <td>0</td>\n",
              "      <td>0</td>\n",
              "      <td>0</td>\n",
              "      <td>0</td>\n",
              "      <td>1</td>\n",
              "      <td>1</td>\n",
              "    </tr>\n",
              "    <tr>\n",
              "      <th>2</th>\n",
              "      <td>1</td>\n",
              "      <td>0</td>\n",
              "      <td>1</td>\n",
              "      <td>0</td>\n",
              "      <td>1</td>\n",
              "      <td>0</td>\n",
              "      <td>0</td>\n",
              "      <td>1</td>\n",
              "      <td>1</td>\n",
              "      <td>1</td>\n",
              "      <td>0</td>\n",
              "      <td>1</td>\n",
              "      <td>0</td>\n",
              "      <td>1</td>\n",
              "      <td>0</td>\n",
              "      <td>0</td>\n",
              "    </tr>\n",
              "    <tr>\n",
              "      <th>3</th>\n",
              "      <td>1</td>\n",
              "      <td>0</td>\n",
              "      <td>0</td>\n",
              "      <td>0</td>\n",
              "      <td>1</td>\n",
              "      <td>0</td>\n",
              "      <td>0</td>\n",
              "      <td>0</td>\n",
              "      <td>1</td>\n",
              "      <td>1</td>\n",
              "      <td>0</td>\n",
              "      <td>0</td>\n",
              "      <td>1</td>\n",
              "      <td>1</td>\n",
              "      <td>1</td>\n",
              "      <td>1</td>\n",
              "    </tr>\n",
              "    <tr>\n",
              "      <th>4</th>\n",
              "      <td>1</td>\n",
              "      <td>0</td>\n",
              "      <td>0</td>\n",
              "      <td>1</td>\n",
              "      <td>0</td>\n",
              "      <td>0</td>\n",
              "      <td>0</td>\n",
              "      <td>1</td>\n",
              "      <td>0</td>\n",
              "      <td>0</td>\n",
              "      <td>1</td>\n",
              "      <td>0</td>\n",
              "      <td>0</td>\n",
              "      <td>1</td>\n",
              "      <td>1</td>\n",
              "      <td>1</td>\n",
              "    </tr>\n",
              "    <tr>\n",
              "      <th>5</th>\n",
              "      <td>1</td>\n",
              "      <td>0</td>\n",
              "      <td>1</td>\n",
              "      <td>1</td>\n",
              "      <td>1</td>\n",
              "      <td>1</td>\n",
              "      <td>1</td>\n",
              "      <td>1</td>\n",
              "      <td>1</td>\n",
              "      <td>1</td>\n",
              "      <td>0</td>\n",
              "      <td>0</td>\n",
              "      <td>0</td>\n",
              "      <td>1</td>\n",
              "      <td>1</td>\n",
              "      <td>1</td>\n",
              "    </tr>\n",
              "    <tr>\n",
              "      <th>6</th>\n",
              "      <td>0</td>\n",
              "      <td>0</td>\n",
              "      <td>1</td>\n",
              "      <td>1</td>\n",
              "      <td>1</td>\n",
              "      <td>0</td>\n",
              "      <td>0</td>\n",
              "      <td>0</td>\n",
              "      <td>1</td>\n",
              "      <td>1</td>\n",
              "      <td>0</td>\n",
              "      <td>0</td>\n",
              "      <td>1</td>\n",
              "      <td>0</td>\n",
              "      <td>1</td>\n",
              "      <td>1</td>\n",
              "    </tr>\n",
              "    <tr>\n",
              "      <th>7</th>\n",
              "      <td>1</td>\n",
              "      <td>0</td>\n",
              "      <td>1</td>\n",
              "      <td>1</td>\n",
              "      <td>1</td>\n",
              "      <td>1</td>\n",
              "      <td>0</td>\n",
              "      <td>1</td>\n",
              "      <td>1</td>\n",
              "      <td>1</td>\n",
              "      <td>1</td>\n",
              "      <td>0</td>\n",
              "      <td>1</td>\n",
              "      <td>1</td>\n",
              "      <td>1</td>\n",
              "      <td>1</td>\n",
              "    </tr>\n",
              "    <tr>\n",
              "      <th>8</th>\n",
              "      <td>1</td>\n",
              "      <td>0</td>\n",
              "      <td>1</td>\n",
              "      <td>0</td>\n",
              "      <td>0</td>\n",
              "      <td>0</td>\n",
              "      <td>1</td>\n",
              "      <td>1</td>\n",
              "      <td>0</td>\n",
              "      <td>1</td>\n",
              "      <td>0</td>\n",
              "      <td>0</td>\n",
              "      <td>0</td>\n",
              "      <td>0</td>\n",
              "      <td>1</td>\n",
              "      <td>1</td>\n",
              "    </tr>\n",
              "    <tr>\n",
              "      <th>9</th>\n",
              "      <td>0</td>\n",
              "      <td>0</td>\n",
              "      <td>0</td>\n",
              "      <td>0</td>\n",
              "      <td>1</td>\n",
              "      <td>0</td>\n",
              "      <td>0</td>\n",
              "      <td>0</td>\n",
              "      <td>0</td>\n",
              "      <td>1</td>\n",
              "      <td>0</td>\n",
              "      <td>0</td>\n",
              "      <td>0</td>\n",
              "      <td>1</td>\n",
              "      <td>0</td>\n",
              "      <td>1</td>\n",
              "    </tr>\n",
              "  </tbody>\n",
              "</table>\n",
              "</div>"
            ],
            "text/plain": [
              "   เสื้อกันฝน  เต็นท์  ...  น้ำวิตามิน  น้ำอัดลม\n",
              "0           1       1  ...           0         1\n",
              "1           1       1  ...           1         1\n",
              "2           1       0  ...           0         0\n",
              "3           1       0  ...           1         1\n",
              "4           1       0  ...           1         1\n",
              "5           1       0  ...           1         1\n",
              "6           0       0  ...           1         1\n",
              "7           1       0  ...           1         1\n",
              "8           1       0  ...           1         1\n",
              "9           0       0  ...           0         1\n",
              "\n",
              "[10 rows x 16 columns]"
            ]
          },
          "metadata": {
            "tags": []
          },
          "execution_count": 42
        }
      ]
    },
    {
      "cell_type": "markdown",
      "metadata": {
        "id": "IaPMlzHLOSCg"
      },
      "source": [
        "## Run Apriori"
      ]
    },
    {
      "cell_type": "code",
      "metadata": {
        "id": "NDguvzrEbVWJ"
      },
      "source": [
        "from mlxtend.frequent_patterns import apriori\n",
        "from mlxtend.frequent_patterns import association_rules\n",
        "\n",
        "frequent_itemsets = apriori(hot_encoded_cleaned_df, \n",
        "                            min_support=0.1, \n",
        "                            use_colnames=True)"
      ],
      "execution_count": null,
      "outputs": []
    },
    {
      "cell_type": "code",
      "metadata": {
        "id": "zHiSL7fZbXLw",
        "colab": {
          "base_uri": "https://localhost:8080/",
          "height": 359
        },
        "outputId": "60964574-1400-4836-b2e1-e51dced2e07d"
      },
      "source": [
        "rules = association_rules(frequent_itemsets, metric=\"lift\", min_threshold=1)\n",
        "rules.head(10)"
      ],
      "execution_count": null,
      "outputs": [
        {
          "output_type": "execute_result",
          "data": {
            "text/html": [
              "<div>\n",
              "<style scoped>\n",
              "    .dataframe tbody tr th:only-of-type {\n",
              "        vertical-align: middle;\n",
              "    }\n",
              "\n",
              "    .dataframe tbody tr th {\n",
              "        vertical-align: top;\n",
              "    }\n",
              "\n",
              "    .dataframe thead th {\n",
              "        text-align: right;\n",
              "    }\n",
              "</style>\n",
              "<table border=\"1\" class=\"dataframe\">\n",
              "  <thead>\n",
              "    <tr style=\"text-align: right;\">\n",
              "      <th></th>\n",
              "      <th>antecedents</th>\n",
              "      <th>consequents</th>\n",
              "      <th>antecedent support</th>\n",
              "      <th>consequent support</th>\n",
              "      <th>support</th>\n",
              "      <th>confidence</th>\n",
              "      <th>lift</th>\n",
              "      <th>leverage</th>\n",
              "      <th>conviction</th>\n",
              "    </tr>\n",
              "  </thead>\n",
              "  <tbody>\n",
              "    <tr>\n",
              "      <th>0</th>\n",
              "      <td>(เสื้อกันฝน)</td>\n",
              "      <td>(เต็นท์)</td>\n",
              "      <td>0.857143</td>\n",
              "      <td>0.285714</td>\n",
              "      <td>0.285714</td>\n",
              "      <td>0.333333</td>\n",
              "      <td>1.166667</td>\n",
              "      <td>0.040816</td>\n",
              "      <td>1.071429</td>\n",
              "    </tr>\n",
              "    <tr>\n",
              "      <th>1</th>\n",
              "      <td>(เต็นท์)</td>\n",
              "      <td>(เสื้อกันฝน)</td>\n",
              "      <td>0.285714</td>\n",
              "      <td>0.857143</td>\n",
              "      <td>0.285714</td>\n",
              "      <td>1.000000</td>\n",
              "      <td>1.166667</td>\n",
              "      <td>0.040816</td>\n",
              "      <td>inf</td>\n",
              "    </tr>\n",
              "    <tr>\n",
              "      <th>2</th>\n",
              "      <td>(เสื้อกันฝน)</td>\n",
              "      <td>(เครื่อง Playstation)</td>\n",
              "      <td>0.857143</td>\n",
              "      <td>0.428571</td>\n",
              "      <td>0.380952</td>\n",
              "      <td>0.444444</td>\n",
              "      <td>1.037037</td>\n",
              "      <td>0.013605</td>\n",
              "      <td>1.028571</td>\n",
              "    </tr>\n",
              "    <tr>\n",
              "      <th>3</th>\n",
              "      <td>(เครื่อง Playstation)</td>\n",
              "      <td>(เสื้อกันฝน)</td>\n",
              "      <td>0.428571</td>\n",
              "      <td>0.857143</td>\n",
              "      <td>0.380952</td>\n",
              "      <td>0.888889</td>\n",
              "      <td>1.037037</td>\n",
              "      <td>0.013605</td>\n",
              "      <td>1.285714</td>\n",
              "    </tr>\n",
              "    <tr>\n",
              "      <th>4</th>\n",
              "      <td>(เสื้อกันฝน)</td>\n",
              "      <td>(โรบอทดูดฝุ่น)</td>\n",
              "      <td>0.857143</td>\n",
              "      <td>0.142857</td>\n",
              "      <td>0.142857</td>\n",
              "      <td>0.166667</td>\n",
              "      <td>1.166667</td>\n",
              "      <td>0.020408</td>\n",
              "      <td>1.028571</td>\n",
              "    </tr>\n",
              "    <tr>\n",
              "      <th>5</th>\n",
              "      <td>(โรบอทดูดฝุ่น)</td>\n",
              "      <td>(เสื้อกันฝน)</td>\n",
              "      <td>0.142857</td>\n",
              "      <td>0.857143</td>\n",
              "      <td>0.142857</td>\n",
              "      <td>1.000000</td>\n",
              "      <td>1.166667</td>\n",
              "      <td>0.020408</td>\n",
              "      <td>inf</td>\n",
              "    </tr>\n",
              "    <tr>\n",
              "      <th>6</th>\n",
              "      <td>(เสื้อกันฝน)</td>\n",
              "      <td>(แผ่นไวนิล )</td>\n",
              "      <td>0.857143</td>\n",
              "      <td>0.333333</td>\n",
              "      <td>0.333333</td>\n",
              "      <td>0.388889</td>\n",
              "      <td>1.166667</td>\n",
              "      <td>0.047619</td>\n",
              "      <td>1.090909</td>\n",
              "    </tr>\n",
              "    <tr>\n",
              "      <th>7</th>\n",
              "      <td>(แผ่นไวนิล )</td>\n",
              "      <td>(เสื้อกันฝน)</td>\n",
              "      <td>0.333333</td>\n",
              "      <td>0.857143</td>\n",
              "      <td>0.333333</td>\n",
              "      <td>1.000000</td>\n",
              "      <td>1.166667</td>\n",
              "      <td>0.047619</td>\n",
              "      <td>inf</td>\n",
              "    </tr>\n",
              "    <tr>\n",
              "      <th>8</th>\n",
              "      <td>(E-Book)</td>\n",
              "      <td>(เสื้อกันฝน)</td>\n",
              "      <td>0.666667</td>\n",
              "      <td>0.857143</td>\n",
              "      <td>0.666667</td>\n",
              "      <td>1.000000</td>\n",
              "      <td>1.166667</td>\n",
              "      <td>0.095238</td>\n",
              "      <td>inf</td>\n",
              "    </tr>\n",
              "    <tr>\n",
              "      <th>9</th>\n",
              "      <td>(เสื้อกันฝน)</td>\n",
              "      <td>(E-Book)</td>\n",
              "      <td>0.857143</td>\n",
              "      <td>0.666667</td>\n",
              "      <td>0.666667</td>\n",
              "      <td>0.777778</td>\n",
              "      <td>1.166667</td>\n",
              "      <td>0.095238</td>\n",
              "      <td>1.500000</td>\n",
              "    </tr>\n",
              "  </tbody>\n",
              "</table>\n",
              "</div>"
            ],
            "text/plain": [
              "             antecedents            consequents  ...  leverage  conviction\n",
              "0           (เสื้อกันฝน)               (เต็นท์)  ...  0.040816    1.071429\n",
              "1               (เต็นท์)           (เสื้อกันฝน)  ...  0.040816         inf\n",
              "2           (เสื้อกันฝน)  (เครื่อง Playstation)  ...  0.013605    1.028571\n",
              "3  (เครื่อง Playstation)           (เสื้อกันฝน)  ...  0.013605    1.285714\n",
              "4           (เสื้อกันฝน)         (โรบอทดูดฝุ่น)  ...  0.020408    1.028571\n",
              "5         (โรบอทดูดฝุ่น)           (เสื้อกันฝน)  ...  0.020408         inf\n",
              "6           (เสื้อกันฝน)           (แผ่นไวนิล )  ...  0.047619    1.090909\n",
              "7           (แผ่นไวนิล )           (เสื้อกันฝน)  ...  0.047619         inf\n",
              "8               (E-Book)           (เสื้อกันฝน)  ...  0.095238         inf\n",
              "9           (เสื้อกันฝน)               (E-Book)  ...  0.095238    1.500000\n",
              "\n",
              "[10 rows x 9 columns]"
            ]
          },
          "metadata": {
            "tags": []
          },
          "execution_count": 114
        }
      ]
    },
    {
      "cell_type": "code",
      "metadata": {
        "id": "G_NoSEUFLxIn",
        "colab": {
          "base_uri": "https://localhost:8080/",
          "height": 34
        },
        "outputId": "358bfb50-157a-4d5e-9396-39d92d42165e"
      },
      "source": [
        "rules.shape"
      ],
      "execution_count": null,
      "outputs": [
        {
          "output_type": "execute_result",
          "data": {
            "text/plain": [
              "(29676, 9)"
            ]
          },
          "metadata": {
            "tags": []
          },
          "execution_count": 115
        }
      ]
    },
    {
      "cell_type": "code",
      "metadata": {
        "id": "WwTk0UcyN2-p",
        "colab": {
          "base_uri": "https://localhost:8080/",
          "height": 478
        },
        "outputId": "573f83d1-6207-41a3-d818-d092c2ee43a6"
      },
      "source": [
        "rules.sort_values('confidence', ascending = False, inplace = True)\n",
        "rules.head(10)"
      ],
      "execution_count": null,
      "outputs": [
        {
          "output_type": "execute_result",
          "data": {
            "text/html": [
              "<div>\n",
              "<style scoped>\n",
              "    .dataframe tbody tr th:only-of-type {\n",
              "        vertical-align: middle;\n",
              "    }\n",
              "\n",
              "    .dataframe tbody tr th {\n",
              "        vertical-align: top;\n",
              "    }\n",
              "\n",
              "    .dataframe thead th {\n",
              "        text-align: right;\n",
              "    }\n",
              "</style>\n",
              "<table border=\"1\" class=\"dataframe\">\n",
              "  <thead>\n",
              "    <tr style=\"text-align: right;\">\n",
              "      <th></th>\n",
              "      <th>antecedents</th>\n",
              "      <th>consequents</th>\n",
              "      <th>antecedent support</th>\n",
              "      <th>consequent support</th>\n",
              "      <th>support</th>\n",
              "      <th>confidence</th>\n",
              "      <th>lift</th>\n",
              "      <th>leverage</th>\n",
              "      <th>conviction</th>\n",
              "    </tr>\n",
              "  </thead>\n",
              "  <tbody>\n",
              "    <tr>\n",
              "      <th>463</th>\n",
              "      <td>(น้ำอัดลม, แผ่นไวนิล )</td>\n",
              "      <td>(เสื้อกันฝน, ลำโพงฟังเพลง)</td>\n",
              "      <td>0.333333</td>\n",
              "      <td>0.714286</td>\n",
              "      <td>0.333333</td>\n",
              "      <td>1.0</td>\n",
              "      <td>1.400000</td>\n",
              "      <td>0.095238</td>\n",
              "      <td>inf</td>\n",
              "    </tr>\n",
              "    <tr>\n",
              "      <th>800</th>\n",
              "      <td>(E-Book, ยาดม, หูฟัง Bluetooth, ลำโพงฟังเพลง)</td>\n",
              "      <td>(เสื้อกันฝน)</td>\n",
              "      <td>0.333333</td>\n",
              "      <td>0.857143</td>\n",
              "      <td>0.333333</td>\n",
              "      <td>1.0</td>\n",
              "      <td>1.166667</td>\n",
              "      <td>0.047619</td>\n",
              "      <td>inf</td>\n",
              "    </tr>\n",
              "    <tr>\n",
              "      <th>1041</th>\n",
              "      <td>(E-Book, น้ำวิตามิน, ลำโพงฟังเพลง)</td>\n",
              "      <td>(เสื้อกันฝน, น้ำอัดลม)</td>\n",
              "      <td>0.428571</td>\n",
              "      <td>0.809524</td>\n",
              "      <td>0.428571</td>\n",
              "      <td>1.0</td>\n",
              "      <td>1.235294</td>\n",
              "      <td>0.081633</td>\n",
              "      <td>inf</td>\n",
              "    </tr>\n",
              "    <tr>\n",
              "      <th>946</th>\n",
              "      <td>(E-Book, เสื้อกันฝน, ยาดม, น้ำวิตามิน)</td>\n",
              "      <td>(ลำโพงฟังเพลง)</td>\n",
              "      <td>0.380952</td>\n",
              "      <td>0.857143</td>\n",
              "      <td>0.380952</td>\n",
              "      <td>1.0</td>\n",
              "      <td>1.166667</td>\n",
              "      <td>0.054422</td>\n",
              "      <td>inf</td>\n",
              "    </tr>\n",
              "    <tr>\n",
              "      <th>799</th>\n",
              "      <td>(E-Book, เสื้อกันฝน, หูฟัง Bluetooth, ลำโพงฟัง...</td>\n",
              "      <td>(ยาดม)</td>\n",
              "      <td>0.333333</td>\n",
              "      <td>0.761905</td>\n",
              "      <td>0.333333</td>\n",
              "      <td>1.0</td>\n",
              "      <td>1.312500</td>\n",
              "      <td>0.079365</td>\n",
              "      <td>inf</td>\n",
              "    </tr>\n",
              "    <tr>\n",
              "      <th>131</th>\n",
              "      <td>(E-Book, น้ำวิตามิน)</td>\n",
              "      <td>(เสื้อกันฝน)</td>\n",
              "      <td>0.523810</td>\n",
              "      <td>0.857143</td>\n",
              "      <td>0.523810</td>\n",
              "      <td>1.0</td>\n",
              "      <td>1.166667</td>\n",
              "      <td>0.074830</td>\n",
              "      <td>inf</td>\n",
              "    </tr>\n",
              "    <tr>\n",
              "      <th>798</th>\n",
              "      <td>(E-Book, เสื้อกันฝน, ยาดม, หูฟัง Bluetooth)</td>\n",
              "      <td>(ลำโพงฟังเพลง)</td>\n",
              "      <td>0.333333</td>\n",
              "      <td>0.857143</td>\n",
              "      <td>0.333333</td>\n",
              "      <td>1.0</td>\n",
              "      <td>1.166667</td>\n",
              "      <td>0.047619</td>\n",
              "      <td>inf</td>\n",
              "    </tr>\n",
              "    <tr>\n",
              "      <th>711</th>\n",
              "      <td>(น้ำวิตามิน, หูฟัง Bluetooth, ลำโพงฟังเพลง)</td>\n",
              "      <td>(น้ำอัดลม)</td>\n",
              "      <td>0.380952</td>\n",
              "      <td>0.952381</td>\n",
              "      <td>0.380952</td>\n",
              "      <td>1.0</td>\n",
              "      <td>1.050000</td>\n",
              "      <td>0.018141</td>\n",
              "      <td>inf</td>\n",
              "    </tr>\n",
              "    <tr>\n",
              "      <th>950</th>\n",
              "      <td>(E-Book, ยาดม, น้ำวิตามิน, ลำโพงฟังเพลง)</td>\n",
              "      <td>(เสื้อกันฝน)</td>\n",
              "      <td>0.380952</td>\n",
              "      <td>0.857143</td>\n",
              "      <td>0.380952</td>\n",
              "      <td>1.0</td>\n",
              "      <td>1.166667</td>\n",
              "      <td>0.054422</td>\n",
              "      <td>inf</td>\n",
              "    </tr>\n",
              "    <tr>\n",
              "      <th>718</th>\n",
              "      <td>(E-Book, น้ำอัดลม, แผ่นไวนิล )</td>\n",
              "      <td>(ลำโพงฟังเพลง)</td>\n",
              "      <td>0.333333</td>\n",
              "      <td>0.857143</td>\n",
              "      <td>0.333333</td>\n",
              "      <td>1.0</td>\n",
              "      <td>1.166667</td>\n",
              "      <td>0.047619</td>\n",
              "      <td>inf</td>\n",
              "    </tr>\n",
              "  </tbody>\n",
              "</table>\n",
              "</div>"
            ],
            "text/plain": [
              "                                            antecedents  ... conviction\n",
              "463                              (น้ำอัดลม, แผ่นไวนิล )  ...        inf\n",
              "800       (E-Book, ยาดม, หูฟัง Bluetooth, ลำโพงฟังเพลง)  ...        inf\n",
              "1041                 (E-Book, น้ำวิตามิน, ลำโพงฟังเพลง)  ...        inf\n",
              "946              (E-Book, เสื้อกันฝน, ยาดม, น้ำวิตามิน)  ...        inf\n",
              "799   (E-Book, เสื้อกันฝน, หูฟัง Bluetooth, ลำโพงฟัง...  ...        inf\n",
              "131                                (E-Book, น้ำวิตามิน)  ...        inf\n",
              "798         (E-Book, เสื้อกันฝน, ยาดม, หูฟัง Bluetooth)  ...        inf\n",
              "711         (น้ำวิตามิน, หูฟัง Bluetooth, ลำโพงฟังเพลง)  ...        inf\n",
              "950            (E-Book, ยาดม, น้ำวิตามิน, ลำโพงฟังเพลง)  ...        inf\n",
              "718                      (E-Book, น้ำอัดลม, แผ่นไวนิล )  ...        inf\n",
              "\n",
              "[10 rows x 9 columns]"
            ]
          },
          "metadata": {
            "tags": []
          },
          "execution_count": 55
        }
      ]
    },
    {
      "cell_type": "markdown",
      "metadata": {
        "id": "B-D0jcqvOf_t"
      },
      "source": [
        "filter result with lift >= 1 and confidence >= 0.5"
      ]
    },
    {
      "cell_type": "code",
      "metadata": {
        "id": "u87ulTasbZYb",
        "colab": {
          "base_uri": "https://localhost:8080/",
          "height": 555
        },
        "outputId": "a7b892fd-f7b2-47df-9a27-2c9e173b395f"
      },
      "source": [
        "rules[ (rules['lift'] >= 1) & (rules['confidence'] >= 0.5) ]"
      ],
      "execution_count": null,
      "outputs": [
        {
          "output_type": "execute_result",
          "data": {
            "text/html": [
              "<div>\n",
              "<style scoped>\n",
              "    .dataframe tbody tr th:only-of-type {\n",
              "        vertical-align: middle;\n",
              "    }\n",
              "\n",
              "    .dataframe tbody tr th {\n",
              "        vertical-align: top;\n",
              "    }\n",
              "\n",
              "    .dataframe thead th {\n",
              "        text-align: right;\n",
              "    }\n",
              "</style>\n",
              "<table border=\"1\" class=\"dataframe\">\n",
              "  <thead>\n",
              "    <tr style=\"text-align: right;\">\n",
              "      <th></th>\n",
              "      <th>antecedents</th>\n",
              "      <th>consequents</th>\n",
              "      <th>antecedent support</th>\n",
              "      <th>consequent support</th>\n",
              "      <th>support</th>\n",
              "      <th>confidence</th>\n",
              "      <th>lift</th>\n",
              "      <th>leverage</th>\n",
              "      <th>conviction</th>\n",
              "    </tr>\n",
              "  </thead>\n",
              "  <tbody>\n",
              "    <tr>\n",
              "      <th>463</th>\n",
              "      <td>(น้ำอัดลม, แผ่นไวนิล )</td>\n",
              "      <td>(เสื้อกันฝน, ลำโพงฟังเพลง)</td>\n",
              "      <td>0.333333</td>\n",
              "      <td>0.714286</td>\n",
              "      <td>0.333333</td>\n",
              "      <td>1.0</td>\n",
              "      <td>1.400000</td>\n",
              "      <td>0.095238</td>\n",
              "      <td>inf</td>\n",
              "    </tr>\n",
              "    <tr>\n",
              "      <th>800</th>\n",
              "      <td>(E-Book, ยาดม, หูฟัง Bluetooth, ลำโพงฟังเพลง)</td>\n",
              "      <td>(เสื้อกันฝน)</td>\n",
              "      <td>0.333333</td>\n",
              "      <td>0.857143</td>\n",
              "      <td>0.333333</td>\n",
              "      <td>1.0</td>\n",
              "      <td>1.166667</td>\n",
              "      <td>0.047619</td>\n",
              "      <td>inf</td>\n",
              "    </tr>\n",
              "    <tr>\n",
              "      <th>1041</th>\n",
              "      <td>(E-Book, น้ำวิตามิน, ลำโพงฟังเพลง)</td>\n",
              "      <td>(เสื้อกันฝน, น้ำอัดลม)</td>\n",
              "      <td>0.428571</td>\n",
              "      <td>0.809524</td>\n",
              "      <td>0.428571</td>\n",
              "      <td>1.0</td>\n",
              "      <td>1.235294</td>\n",
              "      <td>0.081633</td>\n",
              "      <td>inf</td>\n",
              "    </tr>\n",
              "    <tr>\n",
              "      <th>946</th>\n",
              "      <td>(E-Book, เสื้อกันฝน, ยาดม, น้ำวิตามิน)</td>\n",
              "      <td>(ลำโพงฟังเพลง)</td>\n",
              "      <td>0.380952</td>\n",
              "      <td>0.857143</td>\n",
              "      <td>0.380952</td>\n",
              "      <td>1.0</td>\n",
              "      <td>1.166667</td>\n",
              "      <td>0.054422</td>\n",
              "      <td>inf</td>\n",
              "    </tr>\n",
              "    <tr>\n",
              "      <th>799</th>\n",
              "      <td>(E-Book, เสื้อกันฝน, หูฟัง Bluetooth, ลำโพงฟัง...</td>\n",
              "      <td>(ยาดม)</td>\n",
              "      <td>0.333333</td>\n",
              "      <td>0.761905</td>\n",
              "      <td>0.333333</td>\n",
              "      <td>1.0</td>\n",
              "      <td>1.312500</td>\n",
              "      <td>0.079365</td>\n",
              "      <td>inf</td>\n",
              "    </tr>\n",
              "    <tr>\n",
              "      <th>...</th>\n",
              "      <td>...</td>\n",
              "      <td>...</td>\n",
              "      <td>...</td>\n",
              "      <td>...</td>\n",
              "      <td>...</td>\n",
              "      <td>...</td>\n",
              "      <td>...</td>\n",
              "      <td>...</td>\n",
              "      <td>...</td>\n",
              "    </tr>\n",
              "    <tr>\n",
              "      <th>681</th>\n",
              "      <td>(ยาดม)</td>\n",
              "      <td>(น้ำวิตามิน, หูฟัง Bluetooth, ลำโพงฟังเพลง)</td>\n",
              "      <td>0.761905</td>\n",
              "      <td>0.380952</td>\n",
              "      <td>0.380952</td>\n",
              "      <td>0.5</td>\n",
              "      <td>1.312500</td>\n",
              "      <td>0.090703</td>\n",
              "      <td>1.238095</td>\n",
              "    </tr>\n",
              "    <tr>\n",
              "      <th>438</th>\n",
              "      <td>(E-Book)</td>\n",
              "      <td>(เสื้อกันฝน, แผ่นไวนิล , ลำโพงฟังเพลง)</td>\n",
              "      <td>0.666667</td>\n",
              "      <td>0.333333</td>\n",
              "      <td>0.333333</td>\n",
              "      <td>0.5</td>\n",
              "      <td>1.500000</td>\n",
              "      <td>0.111111</td>\n",
              "      <td>1.333333</td>\n",
              "    </tr>\n",
              "    <tr>\n",
              "      <th>452</th>\n",
              "      <td>(E-Book)</td>\n",
              "      <td>(เสื้อกันฝน, น้ำอัดลม, แผ่นไวนิล )</td>\n",
              "      <td>0.666667</td>\n",
              "      <td>0.333333</td>\n",
              "      <td>0.333333</td>\n",
              "      <td>0.5</td>\n",
              "      <td>1.500000</td>\n",
              "      <td>0.111111</td>\n",
              "      <td>1.333333</td>\n",
              "    </tr>\n",
              "    <tr>\n",
              "      <th>282</th>\n",
              "      <td>(E-Book)</td>\n",
              "      <td>(น้ำอัดลม, Milo Cereal Bar)</td>\n",
              "      <td>0.666667</td>\n",
              "      <td>0.476190</td>\n",
              "      <td>0.333333</td>\n",
              "      <td>0.5</td>\n",
              "      <td>1.050000</td>\n",
              "      <td>0.015873</td>\n",
              "      <td>1.047619</td>\n",
              "    </tr>\n",
              "    <tr>\n",
              "      <th>1052</th>\n",
              "      <td>(เสื้อกันฝน)</td>\n",
              "      <td>(E-Book, น้ำอัดลม, น้ำวิตามิน, ลำโพงฟังเพลง)</td>\n",
              "      <td>0.857143</td>\n",
              "      <td>0.428571</td>\n",
              "      <td>0.428571</td>\n",
              "      <td>0.5</td>\n",
              "      <td>1.166667</td>\n",
              "      <td>0.061224</td>\n",
              "      <td>1.142857</td>\n",
              "    </tr>\n",
              "  </tbody>\n",
              "</table>\n",
              "<p>1108 rows × 9 columns</p>\n",
              "</div>"
            ],
            "text/plain": [
              "                                            antecedents  ... conviction\n",
              "463                              (น้ำอัดลม, แผ่นไวนิล )  ...        inf\n",
              "800       (E-Book, ยาดม, หูฟัง Bluetooth, ลำโพงฟังเพลง)  ...        inf\n",
              "1041                 (E-Book, น้ำวิตามิน, ลำโพงฟังเพลง)  ...        inf\n",
              "946              (E-Book, เสื้อกันฝน, ยาดม, น้ำวิตามิน)  ...        inf\n",
              "799   (E-Book, เสื้อกันฝน, หูฟัง Bluetooth, ลำโพงฟัง...  ...        inf\n",
              "...                                                 ...  ...        ...\n",
              "681                                              (ยาดม)  ...   1.238095\n",
              "438                                            (E-Book)  ...   1.333333\n",
              "452                                            (E-Book)  ...   1.333333\n",
              "282                                            (E-Book)  ...   1.047619\n",
              "1052                                       (เสื้อกันฝน)  ...   1.142857\n",
              "\n",
              "[1108 rows x 9 columns]"
            ]
          },
          "metadata": {
            "tags": []
          },
          "execution_count": 56
        }
      ]
    },
    {
      "cell_type": "markdown",
      "metadata": {
        "id": "SCAd8jPEOvM3"
      },
      "source": [
        "try to filter only 1 item in antecedents and\tconsequents "
      ]
    },
    {
      "cell_type": "code",
      "metadata": {
        "id": "0-NBPne1RQX1"
      },
      "source": [
        "def count_item (row,col):\n",
        "   return len(row[col])"
      ],
      "execution_count": null,
      "outputs": []
    },
    {
      "cell_type": "code",
      "metadata": {
        "id": "0J_sUZF6QmK8"
      },
      "source": [
        "rules['num_antecedents'] = rules.apply(lambda row:count_item(row,'antecedents'), \n",
        "                                       axis=1)\n",
        "rules['num_consequents'] = rules.apply(lambda row:count_item(row,'consequents'), \n",
        "                                        axis=1)"
      ],
      "execution_count": null,
      "outputs": []
    },
    {
      "cell_type": "code",
      "metadata": {
        "id": "h-TWhp6qSJeP",
        "colab": {
          "base_uri": "https://localhost:8080/",
          "height": 408
        },
        "outputId": "98039a47-87d7-43f3-ff81-7e128422374b"
      },
      "source": [
        "rules.head()"
      ],
      "execution_count": null,
      "outputs": [
        {
          "output_type": "execute_result",
          "data": {
            "text/html": [
              "<div>\n",
              "<style scoped>\n",
              "    .dataframe tbody tr th:only-of-type {\n",
              "        vertical-align: middle;\n",
              "    }\n",
              "\n",
              "    .dataframe tbody tr th {\n",
              "        vertical-align: top;\n",
              "    }\n",
              "\n",
              "    .dataframe thead th {\n",
              "        text-align: right;\n",
              "    }\n",
              "</style>\n",
              "<table border=\"1\" class=\"dataframe\">\n",
              "  <thead>\n",
              "    <tr style=\"text-align: right;\">\n",
              "      <th></th>\n",
              "      <th>antecedents</th>\n",
              "      <th>consequents</th>\n",
              "      <th>antecedent support</th>\n",
              "      <th>consequent support</th>\n",
              "      <th>support</th>\n",
              "      <th>confidence</th>\n",
              "      <th>lift</th>\n",
              "      <th>leverage</th>\n",
              "      <th>conviction</th>\n",
              "      <th>num_antecedents</th>\n",
              "      <th>num_consequents</th>\n",
              "    </tr>\n",
              "  </thead>\n",
              "  <tbody>\n",
              "    <tr>\n",
              "      <th>463</th>\n",
              "      <td>(น้ำอัดลม, แผ่นไวนิล )</td>\n",
              "      <td>(เสื้อกันฝน, ลำโพงฟังเพลง)</td>\n",
              "      <td>0.333333</td>\n",
              "      <td>0.714286</td>\n",
              "      <td>0.333333</td>\n",
              "      <td>1.0</td>\n",
              "      <td>1.400000</td>\n",
              "      <td>0.095238</td>\n",
              "      <td>inf</td>\n",
              "      <td>2</td>\n",
              "      <td>2</td>\n",
              "    </tr>\n",
              "    <tr>\n",
              "      <th>800</th>\n",
              "      <td>(E-Book, ยาดม, หูฟัง Bluetooth, ลำโพงฟังเพลง)</td>\n",
              "      <td>(เสื้อกันฝน)</td>\n",
              "      <td>0.333333</td>\n",
              "      <td>0.857143</td>\n",
              "      <td>0.333333</td>\n",
              "      <td>1.0</td>\n",
              "      <td>1.166667</td>\n",
              "      <td>0.047619</td>\n",
              "      <td>inf</td>\n",
              "      <td>4</td>\n",
              "      <td>1</td>\n",
              "    </tr>\n",
              "    <tr>\n",
              "      <th>1041</th>\n",
              "      <td>(E-Book, น้ำวิตามิน, ลำโพงฟังเพลง)</td>\n",
              "      <td>(เสื้อกันฝน, น้ำอัดลม)</td>\n",
              "      <td>0.428571</td>\n",
              "      <td>0.809524</td>\n",
              "      <td>0.428571</td>\n",
              "      <td>1.0</td>\n",
              "      <td>1.235294</td>\n",
              "      <td>0.081633</td>\n",
              "      <td>inf</td>\n",
              "      <td>3</td>\n",
              "      <td>2</td>\n",
              "    </tr>\n",
              "    <tr>\n",
              "      <th>946</th>\n",
              "      <td>(E-Book, เสื้อกันฝน, ยาดม, น้ำวิตามิน)</td>\n",
              "      <td>(ลำโพงฟังเพลง)</td>\n",
              "      <td>0.380952</td>\n",
              "      <td>0.857143</td>\n",
              "      <td>0.380952</td>\n",
              "      <td>1.0</td>\n",
              "      <td>1.166667</td>\n",
              "      <td>0.054422</td>\n",
              "      <td>inf</td>\n",
              "      <td>4</td>\n",
              "      <td>1</td>\n",
              "    </tr>\n",
              "    <tr>\n",
              "      <th>799</th>\n",
              "      <td>(E-Book, เสื้อกันฝน, หูฟัง Bluetooth, ลำโพงฟัง...</td>\n",
              "      <td>(ยาดม)</td>\n",
              "      <td>0.333333</td>\n",
              "      <td>0.761905</td>\n",
              "      <td>0.333333</td>\n",
              "      <td>1.0</td>\n",
              "      <td>1.312500</td>\n",
              "      <td>0.079365</td>\n",
              "      <td>inf</td>\n",
              "      <td>4</td>\n",
              "      <td>1</td>\n",
              "    </tr>\n",
              "  </tbody>\n",
              "</table>\n",
              "</div>"
            ],
            "text/plain": [
              "                                            antecedents  ... num_consequents\n",
              "463                              (น้ำอัดลม, แผ่นไวนิล )  ...               2\n",
              "800       (E-Book, ยาดม, หูฟัง Bluetooth, ลำโพงฟังเพลง)  ...               1\n",
              "1041                 (E-Book, น้ำวิตามิน, ลำโพงฟังเพลง)  ...               2\n",
              "946              (E-Book, เสื้อกันฝน, ยาดม, น้ำวิตามิน)  ...               1\n",
              "799   (E-Book, เสื้อกันฝน, หูฟัง Bluetooth, ลำโพงฟัง...  ...               1\n",
              "\n",
              "[5 rows x 11 columns]"
            ]
          },
          "metadata": {
            "tags": []
          },
          "execution_count": 66
        }
      ]
    },
    {
      "cell_type": "code",
      "metadata": {
        "id": "nUl_fDJQScfV"
      },
      "source": [
        "ant_morethan1 = rules['num_antecedents']==1"
      ],
      "execution_count": null,
      "outputs": []
    },
    {
      "cell_type": "code",
      "metadata": {
        "id": "r5AwnvFUS4By"
      },
      "source": [
        "rules_ant = rules[ant_morethan1]"
      ],
      "execution_count": null,
      "outputs": []
    },
    {
      "cell_type": "code",
      "metadata": {
        "id": "FGpsRMM_TV_A"
      },
      "source": [
        "con_morethan1 = rules_ant['num_consequents']==1\n",
        "rules_ant_con = rules_ant[con_morethan1]"
      ],
      "execution_count": null,
      "outputs": []
    },
    {
      "cell_type": "code",
      "metadata": {
        "id": "NTawEFogS5v5",
        "colab": {
          "base_uri": "https://localhost:8080/",
          "height": 34
        },
        "outputId": "02a256cc-972d-4f00-93bc-692ee02ee8ea"
      },
      "source": [
        "rules_ant_con.shape"
      ],
      "execution_count": null,
      "outputs": [
        {
          "output_type": "execute_result",
          "data": {
            "text/plain": [
              "(112, 11)"
            ]
          },
          "metadata": {
            "tags": []
          },
          "execution_count": 120
        }
      ]
    },
    {
      "cell_type": "markdown",
      "metadata": {
        "id": "dm85wzHWPbA5"
      },
      "source": [
        "only 1 item in antecedents and consequents "
      ]
    },
    {
      "cell_type": "code",
      "metadata": {
        "id": "usKIO1iRTzjI",
        "colab": {
          "base_uri": "https://localhost:8080/",
          "height": 238
        },
        "outputId": "25e544a9-cf36-4f16-fee8-e2c2ca614368"
      },
      "source": [
        "rules_ant_con.head()"
      ],
      "execution_count": null,
      "outputs": [
        {
          "output_type": "execute_result",
          "data": {
            "text/html": [
              "<div>\n",
              "<style scoped>\n",
              "    .dataframe tbody tr th:only-of-type {\n",
              "        vertical-align: middle;\n",
              "    }\n",
              "\n",
              "    .dataframe tbody tr th {\n",
              "        vertical-align: top;\n",
              "    }\n",
              "\n",
              "    .dataframe thead th {\n",
              "        text-align: right;\n",
              "    }\n",
              "</style>\n",
              "<table border=\"1\" class=\"dataframe\">\n",
              "  <thead>\n",
              "    <tr style=\"text-align: right;\">\n",
              "      <th></th>\n",
              "      <th>antecedents</th>\n",
              "      <th>consequents</th>\n",
              "      <th>antecedent support</th>\n",
              "      <th>consequent support</th>\n",
              "      <th>support</th>\n",
              "      <th>confidence</th>\n",
              "      <th>lift</th>\n",
              "      <th>leverage</th>\n",
              "      <th>conviction</th>\n",
              "      <th>num_antecedents</th>\n",
              "      <th>num_consequents</th>\n",
              "    </tr>\n",
              "  </thead>\n",
              "  <tbody>\n",
              "    <tr>\n",
              "      <th>54</th>\n",
              "      <td>(มาสคาร่า)</td>\n",
              "      <td>(น้ำอัดลม)</td>\n",
              "      <td>0.380952</td>\n",
              "      <td>0.952381</td>\n",
              "      <td>0.380952</td>\n",
              "      <td>1.0</td>\n",
              "      <td>1.050000</td>\n",
              "      <td>0.018141</td>\n",
              "      <td>inf</td>\n",
              "      <td>1</td>\n",
              "      <td>1</td>\n",
              "    </tr>\n",
              "    <tr>\n",
              "      <th>57</th>\n",
              "      <td>(น้ำวิตามิน)</td>\n",
              "      <td>(น้ำอัดลม)</td>\n",
              "      <td>0.666667</td>\n",
              "      <td>0.952381</td>\n",
              "      <td>0.666667</td>\n",
              "      <td>1.0</td>\n",
              "      <td>1.050000</td>\n",
              "      <td>0.031746</td>\n",
              "      <td>inf</td>\n",
              "      <td>1</td>\n",
              "      <td>1</td>\n",
              "    </tr>\n",
              "    <tr>\n",
              "      <th>35</th>\n",
              "      <td>(แผ่นไวนิล )</td>\n",
              "      <td>(น้ำอัดลม)</td>\n",
              "      <td>0.333333</td>\n",
              "      <td>0.952381</td>\n",
              "      <td>0.333333</td>\n",
              "      <td>1.0</td>\n",
              "      <td>1.050000</td>\n",
              "      <td>0.015873</td>\n",
              "      <td>inf</td>\n",
              "      <td>1</td>\n",
              "      <td>1</td>\n",
              "    </tr>\n",
              "    <tr>\n",
              "      <th>32</th>\n",
              "      <td>(แผ่นไวนิล )</td>\n",
              "      <td>(ลำโพงฟังเพลง)</td>\n",
              "      <td>0.333333</td>\n",
              "      <td>0.857143</td>\n",
              "      <td>0.333333</td>\n",
              "      <td>1.0</td>\n",
              "      <td>1.166667</td>\n",
              "      <td>0.047619</td>\n",
              "      <td>inf</td>\n",
              "      <td>1</td>\n",
              "      <td>1</td>\n",
              "    </tr>\n",
              "    <tr>\n",
              "      <th>3</th>\n",
              "      <td>(แผ่นไวนิล )</td>\n",
              "      <td>(เสื้อกันฝน)</td>\n",
              "      <td>0.333333</td>\n",
              "      <td>0.857143</td>\n",
              "      <td>0.333333</td>\n",
              "      <td>1.0</td>\n",
              "      <td>1.166667</td>\n",
              "      <td>0.047619</td>\n",
              "      <td>inf</td>\n",
              "      <td>1</td>\n",
              "      <td>1</td>\n",
              "    </tr>\n",
              "  </tbody>\n",
              "</table>\n",
              "</div>"
            ],
            "text/plain": [
              "     antecedents     consequents  ...  num_antecedents  num_consequents\n",
              "54    (มาสคาร่า)      (น้ำอัดลม)  ...                1                1\n",
              "57  (น้ำวิตามิน)      (น้ำอัดลม)  ...                1                1\n",
              "35  (แผ่นไวนิล )      (น้ำอัดลม)  ...                1                1\n",
              "32  (แผ่นไวนิล )  (ลำโพงฟังเพลง)  ...                1                1\n",
              "3   (แผ่นไวนิล )    (เสื้อกันฝน)  ...                1                1\n",
              "\n",
              "[5 rows x 11 columns]"
            ]
          },
          "metadata": {
            "tags": []
          },
          "execution_count": 76
        }
      ]
    },
    {
      "cell_type": "code",
      "metadata": {
        "id": "fIWWSBZVT6xJ"
      },
      "source": [
        "!wget -q http://www.arts.chula.ac.th/ling/wp-content/uploads/TH-Sarabun_Chula1.1.zip -O font.zip\n",
        "!unzip -qj font.zip TH-Sarabun_Chula1.1/THSarabunChula-Regular.ttf"
      ],
      "execution_count": null,
      "outputs": []
    },
    {
      "cell_type": "code",
      "metadata": {
        "id": "ZIybFTMSUS8N",
        "colab": {
          "base_uri": "https://localhost:8080/",
          "height": 289
        },
        "outputId": "114be675-2d3c-425b-f0b3-24cee0be0941"
      },
      "source": [
        "!wget https://github.com/Phonbopit/sarabun-webfont/raw/master/fonts/thsarabunnew-webfont.ttf"
      ],
      "execution_count": null,
      "outputs": [
        {
          "output_type": "stream",
          "text": [
            "--2020-10-20 04:42:54--  https://github.com/Phonbopit/sarabun-webfont/raw/master/fonts/thsarabunnew-webfont.ttf\n",
            "Resolving github.com (github.com)... 140.82.112.3\n",
            "Connecting to github.com (github.com)|140.82.112.3|:443... connected.\n",
            "HTTP request sent, awaiting response... 302 Found\n",
            "Location: https://raw.githubusercontent.com/Phonbopit/sarabun-webfont/master/fonts/thsarabunnew-webfont.ttf [following]\n",
            "--2020-10-20 04:42:54--  https://raw.githubusercontent.com/Phonbopit/sarabun-webfont/master/fonts/thsarabunnew-webfont.ttf\n",
            "Resolving raw.githubusercontent.com (raw.githubusercontent.com)... 151.101.0.133, 151.101.64.133, 151.101.128.133, ...\n",
            "Connecting to raw.githubusercontent.com (raw.githubusercontent.com)|151.101.0.133|:443... connected.\n",
            "HTTP request sent, awaiting response... 200 OK\n",
            "Length: 98308 (96K) [application/octet-stream]\n",
            "Saving to: ‘thsarabunnew-webfont.ttf’\n",
            "\n",
            "thsarabunnew-webfon 100%[===================>]  96.00K  --.-KB/s    in 0.03s   \n",
            "\n",
            "2020-10-20 04:42:55 (2.99 MB/s) - ‘thsarabunnew-webfont.ttf’ saved [98308/98308]\n",
            "\n"
          ],
          "name": "stdout"
        }
      ]
    },
    {
      "cell_type": "code",
      "metadata": {
        "id": "_Hjt7G86ULlN",
        "colab": {
          "base_uri": "https://localhost:8080/",
          "height": 88
        },
        "outputId": "1665c9d0-f73e-4340-f622-7a9a32c67922"
      },
      "source": [
        "import matplotlib.font_manager as fm\n",
        " \n",
        "font_list = fm.createFontList(['thsarabunnew-webfont.ttf'])\n",
        "fm.fontManager.ttflist.extend(font_list)"
      ],
      "execution_count": null,
      "outputs": [
        {
          "output_type": "stream",
          "text": [
            "/usr/local/lib/python3.6/dist-packages/ipykernel_launcher.py:3: MatplotlibDeprecationWarning: \n",
            "The createFontList function was deprecated in Matplotlib 3.2 and will be removed two minor releases later. Use FontManager.addfont instead.\n",
            "  This is separate from the ipykernel package so we can avoid doing imports until\n"
          ],
          "name": "stderr"
        }
      ]
    },
    {
      "cell_type": "code",
      "metadata": {
        "id": "vsbd5SyeT-ok"
      },
      "source": [
        "import matplotlib as mpl\n",
        "mpl.font_manager.fontManager.addfont('THSarabunChula-Regular.ttf')\n",
        "mpl.rc('font', family='TH Sarabun Chula')"
      ],
      "execution_count": null,
      "outputs": []
    },
    {
      "cell_type": "markdown",
      "metadata": {
        "id": "zFlzrGnXPnCe"
      },
      "source": [
        "## visualize result with graph"
      ]
    },
    {
      "cell_type": "code",
      "metadata": {
        "id": "82NvGkwFbbuM",
        "colab": {
          "base_uri": "https://localhost:8080/",
          "height": 248
        },
        "outputId": "611e5a1b-40dd-44ea-ba0c-1743bb509499"
      },
      "source": [
        "import matplotlib.pyplot as plt\n",
        "import networkx as nx\n",
        "\n",
        "fig, ax=plt.subplots(figsize=(10,4))\n",
        "GA=nx.from_pandas_edgelist(rules_ant_con,source='antecedents',\n",
        "                           target='consequents')\n",
        "labels_params = {\"font_family\":\"TH Sarabun New\", \n",
        "                 \"alpha\":.7, \n",
        "                 \"font_size\":10 }\n",
        "nx.draw(GA,\n",
        "        with_labels=True, \n",
        "        font_family=\"TH Sarabun New\", \n",
        "        alpha=.7, \n",
        "        font_size=10)\n",
        "plt.show()"
      ],
      "execution_count": null,
      "outputs": [
        {
          "output_type": "display_data",
          "data": {
            "image/png": "[encoded data removed]",
            "text/plain": [
              "<Figure size 720x288 with 1 Axes>"
            ]
          },
          "metadata": {
            "tags": []
          }
        }
      ]
    },
    {
      "cell_type": "code",
      "metadata": {
        "id": "rY3dJ-0AWQFX",
        "colab": {
          "base_uri": "https://localhost:8080/",
          "height": 238
        },
        "outputId": "0a54338d-7e0d-44e4-ff42-1eb37f77e9e9"
      },
      "source": [
        "hot_encoded_cleaned_df.head()"
      ],
      "execution_count": null,
      "outputs": [
        {
          "output_type": "execute_result",
          "data": {
            "text/html": [
              "<div>\n",
              "<style scoped>\n",
              "    .dataframe tbody tr th:only-of-type {\n",
              "        vertical-align: middle;\n",
              "    }\n",
              "\n",
              "    .dataframe tbody tr th {\n",
              "        vertical-align: top;\n",
              "    }\n",
              "\n",
              "    .dataframe thead th {\n",
              "        text-align: right;\n",
              "    }\n",
              "</style>\n",
              "<table border=\"1\" class=\"dataframe\">\n",
              "  <thead>\n",
              "    <tr style=\"text-align: right;\">\n",
              "      <th></th>\n",
              "      <th>เสื้อกันฝน</th>\n",
              "      <th>เต็นท์</th>\n",
              "      <th>เครื่อง Playstation</th>\n",
              "      <th>รองเท้า Vans</th>\n",
              "      <th>หูฟัง Bluetooth</th>\n",
              "      <th>โรบอทดูดฝุ่น</th>\n",
              "      <th>แผ่นไวนิล</th>\n",
              "      <th>E-Book</th>\n",
              "      <th>ยาดม</th>\n",
              "      <th>ลำโพงฟังเพลง</th>\n",
              "      <th>เครื่องฟอกอากาศในรถ</th>\n",
              "      <th>Pesto Sauce</th>\n",
              "      <th>มาสคาร่า</th>\n",
              "      <th>Milo Cereal Bar</th>\n",
              "      <th>น้ำวิตามิน</th>\n",
              "      <th>น้ำอัดลม</th>\n",
              "    </tr>\n",
              "  </thead>\n",
              "  <tbody>\n",
              "    <tr>\n",
              "      <th>0</th>\n",
              "      <td>1</td>\n",
              "      <td>1</td>\n",
              "      <td>0</td>\n",
              "      <td>0</td>\n",
              "      <td>1</td>\n",
              "      <td>0</td>\n",
              "      <td>0</td>\n",
              "      <td>0</td>\n",
              "      <td>1</td>\n",
              "      <td>1</td>\n",
              "      <td>0</td>\n",
              "      <td>0</td>\n",
              "      <td>0</td>\n",
              "      <td>0</td>\n",
              "      <td>0</td>\n",
              "      <td>1</td>\n",
              "    </tr>\n",
              "    <tr>\n",
              "      <th>1</th>\n",
              "      <td>1</td>\n",
              "      <td>1</td>\n",
              "      <td>1</td>\n",
              "      <td>0</td>\n",
              "      <td>1</td>\n",
              "      <td>0</td>\n",
              "      <td>0</td>\n",
              "      <td>1</td>\n",
              "      <td>1</td>\n",
              "      <td>1</td>\n",
              "      <td>0</td>\n",
              "      <td>0</td>\n",
              "      <td>0</td>\n",
              "      <td>0</td>\n",
              "      <td>1</td>\n",
              "      <td>1</td>\n",
              "    </tr>\n",
              "    <tr>\n",
              "      <th>2</th>\n",
              "      <td>1</td>\n",
              "      <td>0</td>\n",
              "      <td>1</td>\n",
              "      <td>0</td>\n",
              "      <td>1</td>\n",
              "      <td>0</td>\n",
              "      <td>0</td>\n",
              "      <td>1</td>\n",
              "      <td>1</td>\n",
              "      <td>1</td>\n",
              "      <td>0</td>\n",
              "      <td>1</td>\n",
              "      <td>0</td>\n",
              "      <td>1</td>\n",
              "      <td>0</td>\n",
              "      <td>0</td>\n",
              "    </tr>\n",
              "    <tr>\n",
              "      <th>3</th>\n",
              "      <td>1</td>\n",
              "      <td>0</td>\n",
              "      <td>0</td>\n",
              "      <td>0</td>\n",
              "      <td>1</td>\n",
              "      <td>0</td>\n",
              "      <td>0</td>\n",
              "      <td>0</td>\n",
              "      <td>1</td>\n",
              "      <td>1</td>\n",
              "      <td>0</td>\n",
              "      <td>0</td>\n",
              "      <td>1</td>\n",
              "      <td>1</td>\n",
              "      <td>1</td>\n",
              "      <td>1</td>\n",
              "    </tr>\n",
              "    <tr>\n",
              "      <th>4</th>\n",
              "      <td>1</td>\n",
              "      <td>0</td>\n",
              "      <td>0</td>\n",
              "      <td>1</td>\n",
              "      <td>0</td>\n",
              "      <td>0</td>\n",
              "      <td>0</td>\n",
              "      <td>1</td>\n",
              "      <td>0</td>\n",
              "      <td>0</td>\n",
              "      <td>1</td>\n",
              "      <td>0</td>\n",
              "      <td>0</td>\n",
              "      <td>1</td>\n",
              "      <td>1</td>\n",
              "      <td>1</td>\n",
              "    </tr>\n",
              "  </tbody>\n",
              "</table>\n",
              "</div>"
            ],
            "text/plain": [
              "   เสื้อกันฝน  เต็นท์  ...  น้ำวิตามิน  น้ำอัดลม\n",
              "0           1       1  ...           0         1\n",
              "1           1       1  ...           1         1\n",
              "2           1       0  ...           0         0\n",
              "3           1       0  ...           1         1\n",
              "4           1       0  ...           1         1\n",
              "\n",
              "[5 rows x 16 columns]"
            ]
          },
          "metadata": {
            "tags": []
          },
          "execution_count": 95
        }
      ]
    },
    {
      "cell_type": "markdown",
      "metadata": {
        "id": "DPb5j5TOPz_B"
      },
      "source": [
        "# Collaborative Filtering"
      ]
    },
    {
      "cell_type": "code",
      "metadata": {
        "id": "9yrfvS_kbkBX"
      },
      "source": [
        "item_item_matrix = pd.DataFrame(index=hot_encoded_cleaned_df.columns,\n",
        "                                columns=hot_encoded_cleaned_df.columns)"
      ],
      "execution_count": null,
      "outputs": []
    },
    {
      "cell_type": "code",
      "metadata": {
        "id": "MW4YmpY6WnjW",
        "colab": {
          "base_uri": "https://localhost:8080/",
          "height": 289
        },
        "outputId": "35a5cf93-2bb3-4866-b788-e9b54f7ed7a6"
      },
      "source": [
        "item_item_matrix.head()"
      ],
      "execution_count": null,
      "outputs": [
        {
          "output_type": "execute_result",
          "data": {
            "text/html": [
              "<div>\n",
              "<style scoped>\n",
              "    .dataframe tbody tr th:only-of-type {\n",
              "        vertical-align: middle;\n",
              "    }\n",
              "\n",
              "    .dataframe tbody tr th {\n",
              "        vertical-align: top;\n",
              "    }\n",
              "\n",
              "    .dataframe thead th {\n",
              "        text-align: right;\n",
              "    }\n",
              "</style>\n",
              "<table border=\"1\" class=\"dataframe\">\n",
              "  <thead>\n",
              "    <tr style=\"text-align: right;\">\n",
              "      <th></th>\n",
              "      <th>เสื้อกันฝน</th>\n",
              "      <th>เต็นท์</th>\n",
              "      <th>เครื่อง Playstation</th>\n",
              "      <th>รองเท้า Vans</th>\n",
              "      <th>หูฟัง Bluetooth</th>\n",
              "      <th>โรบอทดูดฝุ่น</th>\n",
              "      <th>แผ่นไวนิล</th>\n",
              "      <th>E-Book</th>\n",
              "      <th>ยาดม</th>\n",
              "      <th>ลำโพงฟังเพลง</th>\n",
              "      <th>เครื่องฟอกอากาศในรถ</th>\n",
              "      <th>Pesto Sauce</th>\n",
              "      <th>มาสคาร่า</th>\n",
              "      <th>Milo Cereal Bar</th>\n",
              "      <th>น้ำวิตามิน</th>\n",
              "      <th>น้ำอัดลม</th>\n",
              "    </tr>\n",
              "  </thead>\n",
              "  <tbody>\n",
              "    <tr>\n",
              "      <th>เสื้อกันฝน</th>\n",
              "      <td>NaN</td>\n",
              "      <td>NaN</td>\n",
              "      <td>NaN</td>\n",
              "      <td>NaN</td>\n",
              "      <td>NaN</td>\n",
              "      <td>NaN</td>\n",
              "      <td>NaN</td>\n",
              "      <td>NaN</td>\n",
              "      <td>NaN</td>\n",
              "      <td>NaN</td>\n",
              "      <td>NaN</td>\n",
              "      <td>NaN</td>\n",
              "      <td>NaN</td>\n",
              "      <td>NaN</td>\n",
              "      <td>NaN</td>\n",
              "      <td>NaN</td>\n",
              "    </tr>\n",
              "    <tr>\n",
              "      <th>เต็นท์</th>\n",
              "      <td>NaN</td>\n",
              "      <td>NaN</td>\n",
              "      <td>NaN</td>\n",
              "      <td>NaN</td>\n",
              "      <td>NaN</td>\n",
              "      <td>NaN</td>\n",
              "      <td>NaN</td>\n",
              "      <td>NaN</td>\n",
              "      <td>NaN</td>\n",
              "      <td>NaN</td>\n",
              "      <td>NaN</td>\n",
              "      <td>NaN</td>\n",
              "      <td>NaN</td>\n",
              "      <td>NaN</td>\n",
              "      <td>NaN</td>\n",
              "      <td>NaN</td>\n",
              "    </tr>\n",
              "    <tr>\n",
              "      <th>เครื่อง Playstation</th>\n",
              "      <td>NaN</td>\n",
              "      <td>NaN</td>\n",
              "      <td>NaN</td>\n",
              "      <td>NaN</td>\n",
              "      <td>NaN</td>\n",
              "      <td>NaN</td>\n",
              "      <td>NaN</td>\n",
              "      <td>NaN</td>\n",
              "      <td>NaN</td>\n",
              "      <td>NaN</td>\n",
              "      <td>NaN</td>\n",
              "      <td>NaN</td>\n",
              "      <td>NaN</td>\n",
              "      <td>NaN</td>\n",
              "      <td>NaN</td>\n",
              "      <td>NaN</td>\n",
              "    </tr>\n",
              "    <tr>\n",
              "      <th>รองเท้า Vans</th>\n",
              "      <td>NaN</td>\n",
              "      <td>NaN</td>\n",
              "      <td>NaN</td>\n",
              "      <td>NaN</td>\n",
              "      <td>NaN</td>\n",
              "      <td>NaN</td>\n",
              "      <td>NaN</td>\n",
              "      <td>NaN</td>\n",
              "      <td>NaN</td>\n",
              "      <td>NaN</td>\n",
              "      <td>NaN</td>\n",
              "      <td>NaN</td>\n",
              "      <td>NaN</td>\n",
              "      <td>NaN</td>\n",
              "      <td>NaN</td>\n",
              "      <td>NaN</td>\n",
              "    </tr>\n",
              "    <tr>\n",
              "      <th>หูฟัง Bluetooth</th>\n",
              "      <td>NaN</td>\n",
              "      <td>NaN</td>\n",
              "      <td>NaN</td>\n",
              "      <td>NaN</td>\n",
              "      <td>NaN</td>\n",
              "      <td>NaN</td>\n",
              "      <td>NaN</td>\n",
              "      <td>NaN</td>\n",
              "      <td>NaN</td>\n",
              "      <td>NaN</td>\n",
              "      <td>NaN</td>\n",
              "      <td>NaN</td>\n",
              "      <td>NaN</td>\n",
              "      <td>NaN</td>\n",
              "      <td>NaN</td>\n",
              "      <td>NaN</td>\n",
              "    </tr>\n",
              "  </tbody>\n",
              "</table>\n",
              "</div>"
            ],
            "text/plain": [
              "                    เสื้อกันฝน เต็นท์  ... น้ำวิตามิน น้ำอัดลม\n",
              "เสื้อกันฝน                 NaN    NaN  ...        NaN      NaN\n",
              "เต็นท์                     NaN    NaN  ...        NaN      NaN\n",
              "เครื่อง Playstation        NaN    NaN  ...        NaN      NaN\n",
              "รองเท้า Vans               NaN    NaN  ...        NaN      NaN\n",
              "หูฟัง Bluetooth            NaN    NaN  ...        NaN      NaN\n",
              "\n",
              "[5 rows x 16 columns]"
            ]
          },
          "metadata": {
            "tags": []
          },
          "execution_count": 97
        }
      ]
    },
    {
      "cell_type": "markdown",
      "metadata": {
        "id": "DHy9hHydRL_7"
      },
      "source": [
        "calculate similarity between item"
      ]
    },
    {
      "cell_type": "code",
      "metadata": {
        "id": "nJdnj17aboo3"
      },
      "source": [
        "from scipy.spatial.distance import cosine\n",
        "\n",
        "for i in range(0,len(item_item_matrix.columns)) :\n",
        "    # Loop through the columns for each column\n",
        "    for j in range(0,len(item_item_matrix.columns)) :\n",
        "      # Fill in placeholder with cosine similarities\n",
        "      item_item_matrix.iloc[i,j] = 1 - cosine(hot_encoded_cleaned_df.iloc[:,i],\n",
        "                                              hot_encoded_cleaned_df.iloc[:,j])"
      ],
      "execution_count": null,
      "outputs": []
    },
    {
      "cell_type": "code",
      "metadata": {
        "id": "LrgsoNTwW9_s",
        "colab": {
          "base_uri": "https://localhost:8080/",
          "height": 326
        },
        "outputId": "4509448c-16b2-471f-ac68-dcbbb8fdb482"
      },
      "source": [
        "item_item_matrix.head()"
      ],
      "execution_count": null,
      "outputs": [
        {
          "output_type": "execute_result",
          "data": {
            "text/html": [
              "<div>\n",
              "<style scoped>\n",
              "    .dataframe tbody tr th:only-of-type {\n",
              "        vertical-align: middle;\n",
              "    }\n",
              "\n",
              "    .dataframe tbody tr th {\n",
              "        vertical-align: top;\n",
              "    }\n",
              "\n",
              "    .dataframe thead th {\n",
              "        text-align: right;\n",
              "    }\n",
              "</style>\n",
              "<table border=\"1\" class=\"dataframe\">\n",
              "  <thead>\n",
              "    <tr style=\"text-align: right;\">\n",
              "      <th></th>\n",
              "      <th>เสื้อกันฝน</th>\n",
              "      <th>เต็นท์</th>\n",
              "      <th>เครื่อง Playstation</th>\n",
              "      <th>รองเท้า Vans</th>\n",
              "      <th>หูฟัง Bluetooth</th>\n",
              "      <th>โรบอทดูดฝุ่น</th>\n",
              "      <th>แผ่นไวนิล</th>\n",
              "      <th>E-Book</th>\n",
              "      <th>ยาดม</th>\n",
              "      <th>ลำโพงฟังเพลง</th>\n",
              "      <th>เครื่องฟอกอากาศในรถ</th>\n",
              "      <th>Pesto Sauce</th>\n",
              "      <th>มาสคาร่า</th>\n",
              "      <th>Milo Cereal Bar</th>\n",
              "      <th>น้ำวิตามิน</th>\n",
              "      <th>น้ำอัดลม</th>\n",
              "    </tr>\n",
              "  </thead>\n",
              "  <tbody>\n",
              "    <tr>\n",
              "      <th>เสื้อกันฝน</th>\n",
              "      <td>1</td>\n",
              "      <td>0.57735</td>\n",
              "      <td>0.628539</td>\n",
              "      <td>0.445435</td>\n",
              "      <td>0.730297</td>\n",
              "      <td>0.408248</td>\n",
              "      <td>0.62361</td>\n",
              "      <td>0.881917</td>\n",
              "      <td>0.883883</td>\n",
              "      <td>0.833333</td>\n",
              "      <td>0.408248</td>\n",
              "      <td>0.333333</td>\n",
              "      <td>0.583333</td>\n",
              "      <td>0.710669</td>\n",
              "      <td>0.818923</td>\n",
              "      <td>0.895979</td>\n",
              "    </tr>\n",
              "    <tr>\n",
              "      <th>เต็นท์</th>\n",
              "      <td>0.57735</td>\n",
              "      <td>1</td>\n",
              "      <td>0.272166</td>\n",
              "      <td>0</td>\n",
              "      <td>0.421637</td>\n",
              "      <td>0</td>\n",
              "      <td>0.308607</td>\n",
              "      <td>0.436436</td>\n",
              "      <td>0.612372</td>\n",
              "      <td>0.481125</td>\n",
              "      <td>0.235702</td>\n",
              "      <td>0</td>\n",
              "      <td>0.433013</td>\n",
              "      <td>0.123091</td>\n",
              "      <td>0.436436</td>\n",
              "      <td>0.547723</td>\n",
              "    </tr>\n",
              "    <tr>\n",
              "      <th>เครื่อง Playstation</th>\n",
              "      <td>0.628539</td>\n",
              "      <td>0.272166</td>\n",
              "      <td>1</td>\n",
              "      <td>0.377964</td>\n",
              "      <td>0.602464</td>\n",
              "      <td>0.57735</td>\n",
              "      <td>0.377964</td>\n",
              "      <td>0.62361</td>\n",
              "      <td>0.583333</td>\n",
              "      <td>0.628539</td>\n",
              "      <td>0.19245</td>\n",
              "      <td>0.235702</td>\n",
              "      <td>0.353553</td>\n",
              "      <td>0.402015</td>\n",
              "      <td>0.712697</td>\n",
              "      <td>0.596285</td>\n",
              "    </tr>\n",
              "    <tr>\n",
              "      <th>รองเท้า Vans</th>\n",
              "      <td>0.445435</td>\n",
              "      <td>0</td>\n",
              "      <td>0.377964</td>\n",
              "      <td>1</td>\n",
              "      <td>0.48795</td>\n",
              "      <td>0.436436</td>\n",
              "      <td>0.285714</td>\n",
              "      <td>0.505076</td>\n",
              "      <td>0.472456</td>\n",
              "      <td>0.534522</td>\n",
              "      <td>0.436436</td>\n",
              "      <td>0</td>\n",
              "      <td>0.400892</td>\n",
              "      <td>0.455842</td>\n",
              "      <td>0.606092</td>\n",
              "      <td>0.591608</td>\n",
              "    </tr>\n",
              "    <tr>\n",
              "      <th>หูฟัง Bluetooth</th>\n",
              "      <td>0.730297</td>\n",
              "      <td>0.421637</td>\n",
              "      <td>0.602464</td>\n",
              "      <td>0.48795</td>\n",
              "      <td>1</td>\n",
              "      <td>0.447214</td>\n",
              "      <td>0.39036</td>\n",
              "      <td>0.552052</td>\n",
              "      <td>0.774597</td>\n",
              "      <td>0.852013</td>\n",
              "      <td>0.149071</td>\n",
              "      <td>0.365148</td>\n",
              "      <td>0.456435</td>\n",
              "      <td>0.544949</td>\n",
              "      <td>0.621059</td>\n",
              "      <td>0.80829</td>\n",
              "    </tr>\n",
              "  </tbody>\n",
              "</table>\n",
              "</div>"
            ],
            "text/plain": [
              "                    เสื้อกันฝน    เต็นท์  ... น้ำวิตามิน  น้ำอัดลม\n",
              "เสื้อกันฝน                   1   0.57735  ...   0.818923  0.895979\n",
              "เต็นท์                 0.57735         1  ...   0.436436  0.547723\n",
              "เครื่อง Playstation   0.628539  0.272166  ...   0.712697  0.596285\n",
              "รองเท้า Vans          0.445435         0  ...   0.606092  0.591608\n",
              "หูฟัง Bluetooth       0.730297  0.421637  ...   0.621059   0.80829\n",
              "\n",
              "[5 rows x 16 columns]"
            ]
          },
          "metadata": {
            "tags": []
          },
          "execution_count": 99
        }
      ]
    },
    {
      "cell_type": "code",
      "metadata": {
        "id": "MFIvsFxPbrQJ"
      },
      "source": [
        "links = item_item_matrix.rename_axis('related item', \n",
        "                                     axis='columns').stack().reset_index()\n",
        "links.columns = ['item', 'related item','value']"
      ],
      "execution_count": null,
      "outputs": []
    },
    {
      "cell_type": "code",
      "metadata": {
        "id": "MqNJyuw3XBZ3",
        "colab": {
          "base_uri": "https://localhost:8080/",
          "height": 204
        },
        "outputId": "d819e1ab-4e44-4eee-888d-cf3a8a476f5a"
      },
      "source": [
        "links.head()"
      ],
      "execution_count": null,
      "outputs": [
        {
          "output_type": "execute_result",
          "data": {
            "text/html": [
              "<div>\n",
              "<style scoped>\n",
              "    .dataframe tbody tr th:only-of-type {\n",
              "        vertical-align: middle;\n",
              "    }\n",
              "\n",
              "    .dataframe tbody tr th {\n",
              "        vertical-align: top;\n",
              "    }\n",
              "\n",
              "    .dataframe thead th {\n",
              "        text-align: right;\n",
              "    }\n",
              "</style>\n",
              "<table border=\"1\" class=\"dataframe\">\n",
              "  <thead>\n",
              "    <tr style=\"text-align: right;\">\n",
              "      <th></th>\n",
              "      <th>item</th>\n",
              "      <th>related item</th>\n",
              "      <th>value</th>\n",
              "    </tr>\n",
              "  </thead>\n",
              "  <tbody>\n",
              "    <tr>\n",
              "      <th>0</th>\n",
              "      <td>เสื้อกันฝน</td>\n",
              "      <td>เสื้อกันฝน</td>\n",
              "      <td>1</td>\n",
              "    </tr>\n",
              "    <tr>\n",
              "      <th>1</th>\n",
              "      <td>เสื้อกันฝน</td>\n",
              "      <td>เต็นท์</td>\n",
              "      <td>0.57735</td>\n",
              "    </tr>\n",
              "    <tr>\n",
              "      <th>2</th>\n",
              "      <td>เสื้อกันฝน</td>\n",
              "      <td>เครื่อง Playstation</td>\n",
              "      <td>0.628539</td>\n",
              "    </tr>\n",
              "    <tr>\n",
              "      <th>3</th>\n",
              "      <td>เสื้อกันฝน</td>\n",
              "      <td>รองเท้า Vans</td>\n",
              "      <td>0.445435</td>\n",
              "    </tr>\n",
              "    <tr>\n",
              "      <th>4</th>\n",
              "      <td>เสื้อกันฝน</td>\n",
              "      <td>หูฟัง Bluetooth</td>\n",
              "      <td>0.730297</td>\n",
              "    </tr>\n",
              "  </tbody>\n",
              "</table>\n",
              "</div>"
            ],
            "text/plain": [
              "         item         related item     value\n",
              "0  เสื้อกันฝน           เสื้อกันฝน         1\n",
              "1  เสื้อกันฝน               เต็นท์   0.57735\n",
              "2  เสื้อกันฝน  เครื่อง Playstation  0.628539\n",
              "3  เสื้อกันฝน         รองเท้า Vans  0.445435\n",
              "4  เสื้อกันฝน      หูฟัง Bluetooth  0.730297"
            ]
          },
          "metadata": {
            "tags": []
          },
          "execution_count": 101
        }
      ]
    },
    {
      "cell_type": "markdown",
      "metadata": {
        "id": "JULNQ3A8RWPH"
      },
      "source": [
        "filter data"
      ]
    },
    {
      "cell_type": "code",
      "metadata": {
        "id": "kovcaz5vbs6i"
      },
      "source": [
        "links_filtered=links.loc[ (links['value'] > 0.5) & \n",
        "                         (links['item'] != links['related item']) ]"
      ],
      "execution_count": null,
      "outputs": []
    },
    {
      "cell_type": "code",
      "metadata": {
        "id": "NhNk5ejsXFPX",
        "colab": {
          "base_uri": "https://localhost:8080/",
          "height": 204
        },
        "outputId": "dd859c64-7a1d-421a-bd09-d225516ca92b"
      },
      "source": [
        "links_filtered.head()"
      ],
      "execution_count": null,
      "outputs": [
        {
          "output_type": "execute_result",
          "data": {
            "text/html": [
              "<div>\n",
              "<style scoped>\n",
              "    .dataframe tbody tr th:only-of-type {\n",
              "        vertical-align: middle;\n",
              "    }\n",
              "\n",
              "    .dataframe tbody tr th {\n",
              "        vertical-align: top;\n",
              "    }\n",
              "\n",
              "    .dataframe thead th {\n",
              "        text-align: right;\n",
              "    }\n",
              "</style>\n",
              "<table border=\"1\" class=\"dataframe\">\n",
              "  <thead>\n",
              "    <tr style=\"text-align: right;\">\n",
              "      <th></th>\n",
              "      <th>item</th>\n",
              "      <th>related item</th>\n",
              "      <th>value</th>\n",
              "    </tr>\n",
              "  </thead>\n",
              "  <tbody>\n",
              "    <tr>\n",
              "      <th>1</th>\n",
              "      <td>เสื้อกันฝน</td>\n",
              "      <td>เต็นท์</td>\n",
              "      <td>0.57735</td>\n",
              "    </tr>\n",
              "    <tr>\n",
              "      <th>2</th>\n",
              "      <td>เสื้อกันฝน</td>\n",
              "      <td>เครื่อง Playstation</td>\n",
              "      <td>0.628539</td>\n",
              "    </tr>\n",
              "    <tr>\n",
              "      <th>4</th>\n",
              "      <td>เสื้อกันฝน</td>\n",
              "      <td>หูฟัง Bluetooth</td>\n",
              "      <td>0.730297</td>\n",
              "    </tr>\n",
              "    <tr>\n",
              "      <th>6</th>\n",
              "      <td>เสื้อกันฝน</td>\n",
              "      <td>แผ่นไวนิล</td>\n",
              "      <td>0.62361</td>\n",
              "    </tr>\n",
              "    <tr>\n",
              "      <th>7</th>\n",
              "      <td>เสื้อกันฝน</td>\n",
              "      <td>E-Book</td>\n",
              "      <td>0.881917</td>\n",
              "    </tr>\n",
              "  </tbody>\n",
              "</table>\n",
              "</div>"
            ],
            "text/plain": [
              "         item         related item     value\n",
              "1  เสื้อกันฝน               เต็นท์   0.57735\n",
              "2  เสื้อกันฝน  เครื่อง Playstation  0.628539\n",
              "4  เสื้อกันฝน      หูฟัง Bluetooth  0.730297\n",
              "6  เสื้อกันฝน           แผ่นไวนิล    0.62361\n",
              "7  เสื้อกันฝน               E-Book  0.881917"
            ]
          },
          "metadata": {
            "tags": []
          },
          "execution_count": 110
        }
      ]
    },
    {
      "cell_type": "code",
      "metadata": {
        "id": "wCm_CKlaXuVJ",
        "colab": {
          "base_uri": "https://localhost:8080/",
          "height": 34
        },
        "outputId": "40fa2c40-958b-4f17-9324-5e2b6aae628e"
      },
      "source": [
        "links_filtered.shape"
      ],
      "execution_count": null,
      "outputs": [
        {
          "output_type": "execute_result",
          "data": {
            "text/plain": [
              "(108, 3)"
            ]
          },
          "metadata": {
            "tags": []
          },
          "execution_count": 111
        }
      ]
    },
    {
      "cell_type": "markdown",
      "metadata": {
        "id": "uEPCRlfzRdWH"
      },
      "source": [
        "## visualize result with graph"
      ]
    },
    {
      "cell_type": "code",
      "metadata": {
        "id": "fkxrqyMVbvWx",
        "colab": {
          "base_uri": "https://localhost:8080/",
          "height": 248
        },
        "outputId": "3a3c6cc5-4cd2-432a-9f8c-7c2644c43a4c"
      },
      "source": [
        "import matplotlib.pyplot as plt\n",
        "import networkx as nx\n",
        "\n",
        "fig, ax=plt.subplots(figsize=(10,4))\n",
        "GA=nx.from_pandas_edgelist(links_filtered,source='item',\n",
        "                           target='related item')\n",
        "nx.draw(GA,\n",
        "        with_labels=True,\n",
        "        font_family=\"TH Sarabun New\", \n",
        "        alpha=.7, font_size=10)\n",
        "plt.show()"
      ],
      "execution_count": null,
      "outputs": [
        {
          "output_type": "display_data",
          "data": {
            "image/png": "[encoded data removed]",
            "text/plain": [
              "<Figure size 720x288 with 1 Axes>"
            ]
          },
          "metadata": {
            "tags": []
          }
        }
      ]
    },
    {
      "cell_type": "code",
      "metadata": {
        "id": "Qohur3LkXM9T"
      },
      "source": [
        ""
      ],
      "execution_count": null,
      "outputs": []
    }
  ]
}